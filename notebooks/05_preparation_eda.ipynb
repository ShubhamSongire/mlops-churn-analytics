{
 "cells": [
  {
   "cell_type": "markdown",
   "id": "ad9b22a3",
   "metadata": {},
   "source": [
    "# 05 – Data Preparation and EDA\n",
    "\n",
    "1. **Correlation Analysis**\n",
    "   - Pearson, Spearman, and Kendall correlations\n",
    "   - Feature importance ranking\n",
    "   - Multicollinearity detection\n",
    "\n",
    "2. **Statistical Analysis**\n",
    "   - Distribution tests\n",
    "   - Hypothesis testing\n",
    "   - A/B test analysis\n",
    "   - Chi-square tests for categorical variables\n",
    "\n",
    "3. **Advanced Visualizations**\n",
    "   - Interactive plots with Plotly\n",
    "   - Feature relationships\n",
    "   - Customer segmentation\n",
    "   - Time series patterns\n",
    "\n",
    "4. **Customer Behavior Analysis**\n",
    "   - Cohort analysis\n",
    "   - Customer segmentation\n",
    "   - Behavioral patterns\n",
    "   - Churn risk factors"
   ]
  },
  {
   "cell_type": "code",
   "execution_count": null,
   "id": "20f115df",
   "metadata": {},
   "outputs": [],
   "source": [
    "import pandas as pd\n",
    "import numpy as np\n",
    "import matplotlib.pyplot as plt\n",
    "import seaborn as sns\n",
    "import plotly.express as px\n",
    "import plotly.graph_objects as go\n",
    "from plotly.subplots import make_subplots\n",
    "from scipy import stats\n",
    "from scipy.cluster.hierarchy import dendrogram, linkage\n",
    "from sklearn.preprocessing import StandardScaler\n",
    "from sklearn.cluster import KMeans\n",
    "import warnings\n",
    "warnings.filterwarnings('ignore')\n",
    "\n",
    "# Set up notebook for plotting with correct style\n",
    "plt.style.use('seaborn-v0_8-whitegrid')  # Using a valid matplotlib style\n",
    "sns.set_theme(style=\"whitegrid\", palette=\"deep\")"
   ]
  },
  {
   "cell_type": "code",
   "execution_count": 2,
   "id": "f8a9521c",
   "metadata": {},
   "outputs": [],
   "source": [
    "import sys\n",
    "import os\n",
    "sys.path.insert(0, os.path.abspath('..'))"
   ]
  },
  {
   "cell_type": "code",
   "execution_count": 3,
   "id": "6e17a3a2",
   "metadata": {},
   "outputs": [
    {
     "name": "stderr",
     "output_type": "stream",
     "text": [
      "2025-08-24 15:28:19 - preparation - INFO - Prepared dataset saved to ..\\data\\prepared\\customers_prepared.csv with 5000 rows.\n"
     ]
    },
    {
     "data": {
      "text/html": [
       "<div>\n",
       "<style scoped>\n",
       "    .dataframe tbody tr th:only-of-type {\n",
       "        vertical-align: middle;\n",
       "    }\n",
       "\n",
       "    .dataframe tbody tr th {\n",
       "        vertical-align: top;\n",
       "    }\n",
       "\n",
       "    .dataframe thead th {\n",
       "        text-align: right;\n",
       "    }\n",
       "</style>\n",
       "<table border=\"1\" class=\"dataframe\">\n",
       "  <thead>\n",
       "    <tr style=\"text-align: right;\">\n",
       "      <th></th>\n",
       "      <th>customer_id</th>\n",
       "      <th>gender</th>\n",
       "      <th>senior_citizen</th>\n",
       "      <th>partner</th>\n",
       "      <th>dependents</th>\n",
       "      <th>tenure_months</th>\n",
       "      <th>monthly_charges</th>\n",
       "      <th>total_charges</th>\n",
       "      <th>contract</th>\n",
       "      <th>internet_service</th>\n",
       "      <th>phone_service</th>\n",
       "      <th>churn</th>\n",
       "    </tr>\n",
       "  </thead>\n",
       "  <tbody>\n",
       "    <tr>\n",
       "      <th>0</th>\n",
       "      <td>C000001</td>\n",
       "      <td>Male</td>\n",
       "      <td>No</td>\n",
       "      <td>No</td>\n",
       "      <td>No</td>\n",
       "      <td>61</td>\n",
       "      <td>94.08</td>\n",
       "      <td>5687.83</td>\n",
       "      <td>Month-to-month</td>\n",
       "      <td>Fiber optic</td>\n",
       "      <td>Yes</td>\n",
       "      <td>1</td>\n",
       "    </tr>\n",
       "    <tr>\n",
       "      <th>1</th>\n",
       "      <td>C000002</td>\n",
       "      <td>Female</td>\n",
       "      <td>No</td>\n",
       "      <td>No</td>\n",
       "      <td>Yes</td>\n",
       "      <td>33</td>\n",
       "      <td>119.58</td>\n",
       "      <td>3915.94</td>\n",
       "      <td>Month-to-month</td>\n",
       "      <td>DSL</td>\n",
       "      <td>Yes</td>\n",
       "      <td>0</td>\n",
       "    </tr>\n",
       "    <tr>\n",
       "      <th>2</th>\n",
       "      <td>C000003</td>\n",
       "      <td>Female</td>\n",
       "      <td>Yes</td>\n",
       "      <td>Yes</td>\n",
       "      <td>Yes</td>\n",
       "      <td>50</td>\n",
       "      <td>24.10</td>\n",
       "      <td>1231.70</td>\n",
       "      <td>One year</td>\n",
       "      <td>Fiber optic</td>\n",
       "      <td>Yes</td>\n",
       "      <td>0</td>\n",
       "    </tr>\n",
       "    <tr>\n",
       "      <th>3</th>\n",
       "      <td>C000004</td>\n",
       "      <td>Male</td>\n",
       "      <td>No</td>\n",
       "      <td>Yes</td>\n",
       "      <td>No</td>\n",
       "      <td>70</td>\n",
       "      <td>44.49</td>\n",
       "      <td>3113.11</td>\n",
       "      <td>Month-to-month</td>\n",
       "      <td>Fiber optic</td>\n",
       "      <td>Yes</td>\n",
       "      <td>1</td>\n",
       "    </tr>\n",
       "    <tr>\n",
       "      <th>4</th>\n",
       "      <td>C000005</td>\n",
       "      <td>Male</td>\n",
       "      <td>No</td>\n",
       "      <td>No</td>\n",
       "      <td>No</td>\n",
       "      <td>3</td>\n",
       "      <td>79.77</td>\n",
       "      <td>215.45</td>\n",
       "      <td>One year</td>\n",
       "      <td>DSL</td>\n",
       "      <td>Yes</td>\n",
       "      <td>0</td>\n",
       "    </tr>\n",
       "  </tbody>\n",
       "</table>\n",
       "</div>"
      ],
      "text/plain": [
       "  customer_id  gender senior_citizen partner dependents  tenure_months  \\\n",
       "0     C000001    Male             No      No         No             61   \n",
       "1     C000002  Female             No      No        Yes             33   \n",
       "2     C000003  Female            Yes     Yes        Yes             50   \n",
       "3     C000004    Male             No     Yes         No             70   \n",
       "4     C000005    Male             No      No         No              3   \n",
       "\n",
       "   monthly_charges  total_charges        contract internet_service  \\\n",
       "0            94.08        5687.83  Month-to-month      Fiber optic   \n",
       "1           119.58        3915.94  Month-to-month              DSL   \n",
       "2            24.10        1231.70        One year      Fiber optic   \n",
       "3            44.49        3113.11  Month-to-month      Fiber optic   \n",
       "4            79.77         215.45        One year              DSL   \n",
       "\n",
       "  phone_service  churn  \n",
       "0           Yes      1  \n",
       "1           Yes      0  \n",
       "2           Yes      0  \n",
       "3           Yes      1  \n",
       "4           Yes      0  "
      ]
     },
     "metadata": {},
     "output_type": "display_data"
    }
   ],
   "source": [
    "from scripts.preparation import prepare_dataset\n",
    "import os\n",
    "# Paths\n",
    "raw_root = os.path.join('..', 'data', 'raw')\n",
    "prepared_dir = os.path.join('..', 'data', 'prepared')\n",
    "charts_dir = os.path.join('..', 'docs', 'charts')\n",
    "\n",
    "prepared_path = prepare_dataset(raw_root, prepared_dir, charts_dir)\n",
    "import pandas as pd\n",
    "df = pd.read_csv(prepared_path)  # Assign to df for use in later cells\n",
    "cleaned_df = df.copy()  # Keep a backup copy\n",
    "display(df.head())"
   ]
  },
  {
   "cell_type": "markdown",
   "id": "dca5c0d8",
   "metadata": {},
   "source": [
    "EDA charts have been saved in the `docs/charts` folder."
   ]
  },
  {
   "cell_type": "code",
   "execution_count": 4,
   "id": "cf266f1f",
   "metadata": {},
   "outputs": [],
   "source": [
    "def analyze_correlations(df, target_col=None):\n",
    "    \"\"\"Analyze correlations using multiple methods.\"\"\"\n",
    "    # Calculate correlations using different methods\n",
    "    pearson_corr = df.corr(method='pearson')\n",
    "    spearman_corr = df.corr(method='spearman')\n",
    "    kendall_corr = df.corr(method='kendall')\n",
    "    \n",
    "    # Create subplots for correlation matrices\n",
    "    fig = make_subplots(\n",
    "        rows=1, cols=3,\n",
    "        subplot_titles=('Pearson Correlation', 'Spearman Correlation', 'Kendall Correlation')\n",
    "    )\n",
    "    \n",
    "    # Add heatmaps\n",
    "    fig.add_trace(\n",
    "        go.Heatmap(z=pearson_corr, x=pearson_corr.columns, y=pearson_corr.columns,\n",
    "                   colorscale='RdBu', zmin=-1, zmax=1),\n",
    "        row=1, col=1\n",
    "    )\n",
    "    fig.add_trace(\n",
    "        go.Heatmap(z=spearman_corr, x=spearman_corr.columns, y=spearman_corr.columns,\n",
    "                   colorscale='RdBu', zmin=-1, zmax=1),\n",
    "        row=1, col=2\n",
    "    )\n",
    "    fig.add_trace(\n",
    "        go.Heatmap(z=kendall_corr, x=kendall_corr.columns, y=kendall_corr.columns,\n",
    "                   colorscale='RdBu', zmin=-1, zmax=1),\n",
    "        row=1, col=3\n",
    "    )\n",
    "    \n",
    "    fig.update_layout(height=600, width=1800, title_text=\"Correlation Analysis\")\n",
    "    fig.show()\n",
    "    \n",
    "    # If target column is specified, show feature importance\n",
    "    if target_col and target_col in df.columns:\n",
    "        importance = abs(pearson_corr[target_col]).sort_values(ascending=False)\n",
    "        print(f\"\\nFeature Importance (correlation with {target_col}):\")\n",
    "        print(importance)\n",
    "        \n",
    "    return pearson_corr, spearman_corr, kendall_corr\n",
    "\n",
    "def detect_multicollinearity(df, threshold=0.8):\n",
    "    \"\"\"Detect highly correlated features.\"\"\"\n",
    "    corr_matrix = df.corr()\n",
    "    high_corr_pairs = []\n",
    "    \n",
    "    for i in range(len(corr_matrix.columns)):\n",
    "        for j in range(i+1, len(corr_matrix.columns)):\n",
    "            if abs(corr_matrix.iloc[i, j]) > threshold:\n",
    "                high_corr_pairs.append({\n",
    "                    'feature1': corr_matrix.columns[i],\n",
    "                    'feature2': corr_matrix.columns[j],\n",
    "                    'correlation': corr_matrix.iloc[i, j]\n",
    "                })\n",
    "    \n",
    "    return pd.DataFrame(high_corr_pairs)"
   ]
  },
  {
   "cell_type": "code",
   "execution_count": 5,
   "id": "66eea9f3",
   "metadata": {},
   "outputs": [],
   "source": [
    "def perform_statistical_tests(df, numerical_cols=None, categorical_cols=None, target_col='churn'):\n",
    "    \"\"\"Perform various statistical tests on the data.\"\"\"\n",
    "    results = []\n",
    "    \n",
    "    # Prepare data\n",
    "    if numerical_cols is None:\n",
    "        numerical_cols = df.select_dtypes(include=['int64', 'float64']).columns\n",
    "    if categorical_cols is None:\n",
    "        categorical_cols = df.select_dtypes(include=['object']).columns\n",
    "    \n",
    "    # Normality tests for numerical columns\n",
    "    for col in numerical_cols:\n",
    "        stat, p_value = stats.normaltest(df[col].dropna())\n",
    "        results.append({\n",
    "            'test': 'Normality',\n",
    "            'feature': col,\n",
    "            'statistic': stat,\n",
    "            'p_value': p_value,\n",
    "            'significant': p_value < 0.05\n",
    "        })\n",
    "    \n",
    "    # Chi-square tests for categorical columns\n",
    "    if target_col in df.columns:\n",
    "        for col in categorical_cols:\n",
    "            if col != target_col:\n",
    "                contingency = pd.crosstab(df[col], df[target_col])\n",
    "                stat, p_value, dof, expected = stats.chi2_contingency(contingency)\n",
    "                results.append({\n",
    "                    'test': 'Chi-square',\n",
    "                    'feature': col,\n",
    "                    'statistic': stat,\n",
    "                    'p_value': p_value,\n",
    "                    'significant': p_value < 0.05\n",
    "                })\n",
    "    \n",
    "    return pd.DataFrame(results)\n",
    "\n",
    "def perform_cohort_analysis(df, time_col='tenure_months', cohort_col='contract_type', metric_col='monthly_charges'):\n",
    "    \"\"\"Perform cohort analysis.\"\"\"\n",
    "    # Convert columns to numeric if needed\n",
    "    if df[metric_col].dtype == 'object':\n",
    "        df[metric_col] = pd.to_numeric(df[metric_col], errors='coerce')\n",
    "    \n",
    "    # Create cohort groups\n",
    "    cohorts = df.groupby(cohort_col).agg({\n",
    "        time_col: 'mean',\n",
    "        metric_col: ['mean', 'count', 'sum']\n",
    "    })\n",
    "    \n",
    "    # Calculate retention metrics\n",
    "    cohorts.columns = ['avg_tenure', 'avg_value', 'size', 'total_value']\n",
    "    # Handle case differences in 'churn' values\n",
    "    is_not_churned = df['churn'].str.lower().isin(['no', 'false', '0'])\n",
    "    cohorts['retention_rate'] = df[is_not_churned].groupby(cohort_col).size() / cohorts['size']\n",
    "    \n",
    "    return cohorts"
   ]
  },
  {
   "cell_type": "markdown",
   "id": "fc246424",
   "metadata": {},
   "source": [
    "## Statistical Analysis and Cohort Segmentation\n",
    "\n",
    "In this section, we'll perform detailed statistical analysis on our customer data:\n",
    "\n",
    "1. **Statistical Tests**\n",
    "   - Normality tests for numerical features\n",
    "   - Chi-square tests for categorical features vs churn\n",
    "   - Significance testing at p < 0.05 level\n",
    "\n",
    "2. **Cohort Analysis**\n",
    "   - Group customers by contract type\n",
    "   - Analyze tenure and monetary metrics\n",
    "   - Calculate retention rates per cohort\n",
    "   \n",
    "This analysis will help us identify:\n",
    "- Significant relationships between features and churn\n",
    "- Customer segments with distinct behavioral patterns\n",
    "- Key drivers of customer retention"
   ]
  },
  {
   "cell_type": "code",
   "execution_count": 6,
   "id": "cd116e72",
   "metadata": {},
   "outputs": [
    {
     "name": "stdout",
     "output_type": "stream",
     "text": [
      "Available columns:\n",
      "['customer_id', 'gender', 'senior_citizen', 'partner', 'dependents', 'tenure_months', 'monthly_charges', 'total_charges', 'contract', 'internet_service', 'phone_service', 'churn']\n",
      "\n",
      "Column types:\n",
      "customer_id          object\n",
      "gender               object\n",
      "senior_citizen       object\n",
      "partner              object\n",
      "dependents           object\n",
      "tenure_months         int64\n",
      "monthly_charges     float64\n",
      "total_charges       float64\n",
      "contract             object\n",
      "internet_service     object\n",
      "phone_service        object\n",
      "churn                 int64\n",
      "dtype: object\n",
      "\n",
      "Analyzing columns:\n",
      "Numerical: ['tenure_months', 'monthly_charges', 'total_charges']\n",
      "Categorical: []\n"
     ]
    },
    {
     "data": {
      "text/html": [
       "<div>\n",
       "<style scoped>\n",
       "    .dataframe tbody tr th:only-of-type {\n",
       "        vertical-align: middle;\n",
       "    }\n",
       "\n",
       "    .dataframe tbody tr th {\n",
       "        vertical-align: top;\n",
       "    }\n",
       "\n",
       "    .dataframe thead th {\n",
       "        text-align: right;\n",
       "    }\n",
       "</style>\n",
       "<table border=\"1\" class=\"dataframe\">\n",
       "  <thead>\n",
       "    <tr style=\"text-align: right;\">\n",
       "      <th></th>\n",
       "      <th>test</th>\n",
       "      <th>feature</th>\n",
       "      <th>statistic</th>\n",
       "      <th>p_value</th>\n",
       "      <th>significant</th>\n",
       "    </tr>\n",
       "  </thead>\n",
       "  <tbody>\n",
       "    <tr>\n",
       "      <th>0</th>\n",
       "      <td>Normality</td>\n",
       "      <td>tenure_months</td>\n",
       "      <td>4370.861780</td>\n",
       "      <td>0.000000e+00</td>\n",
       "      <td>True</td>\n",
       "    </tr>\n",
       "    <tr>\n",
       "      <th>1</th>\n",
       "      <td>Normality</td>\n",
       "      <td>monthly_charges</td>\n",
       "      <td>4608.410882</td>\n",
       "      <td>0.000000e+00</td>\n",
       "      <td>True</td>\n",
       "    </tr>\n",
       "    <tr>\n",
       "      <th>2</th>\n",
       "      <td>Normality</td>\n",
       "      <td>total_charges</td>\n",
       "      <td>428.452230</td>\n",
       "      <td>9.178684e-94</td>\n",
       "      <td>True</td>\n",
       "    </tr>\n",
       "  </tbody>\n",
       "</table>\n",
       "</div>"
      ],
      "text/plain": [
       "        test          feature    statistic       p_value  significant\n",
       "0  Normality    tenure_months  4370.861780  0.000000e+00         True\n",
       "1  Normality  monthly_charges  4608.410882  0.000000e+00         True\n",
       "2  Normality    total_charges   428.452230  9.178684e-94         True"
      ]
     },
     "metadata": {},
     "output_type": "display_data"
    },
    {
     "name": "stdout",
     "output_type": "stream",
     "text": [
      "\n",
      "Warning: 'contract_type' column not found. Available columns: ['customer_id', 'gender', 'senior_citizen', 'partner', 'dependents', 'tenure_months', 'monthly_charges', 'total_charges', 'contract', 'internet_service', 'phone_service', 'churn']\n"
     ]
    }
   ],
   "source": [
    "# Prepare numeric columns - ensure they are numeric type\n",
    "for col in ['monthly_charges', 'total_charges']:\n",
    "    df[col] = pd.to_numeric(df[col].replace('[\\$,]', '', regex=True), errors='coerce')\n",
    "\n",
    "# Run statistical tests\n",
    "numerical_cols = ['tenure_months', 'monthly_charges', 'total_charges']\n",
    "categorical_cols = ['contract_type', 'internet_service_type', 'payment_type']\n",
    "\n",
    "# Display available columns and their types for verification\n",
    "print(\"Available columns:\")\n",
    "print(df.columns.tolist())\n",
    "print(\"\\nColumn types:\")\n",
    "print(df.dtypes)\n",
    "\n",
    "# Perform statistical analysis only on available columns\n",
    "numerical_cols = [col for col in numerical_cols if col in df.columns]\n",
    "categorical_cols = [col for col in categorical_cols if col in df.columns]\n",
    "\n",
    "print(\"\\nAnalyzing columns:\")\n",
    "print(\"Numerical:\", numerical_cols)\n",
    "print(\"Categorical:\", categorical_cols)\n",
    "\n",
    "# Perform statistical analysis\n",
    "stat_results = perform_statistical_tests(df, numerical_cols, categorical_cols)\n",
    "display(stat_results)\n",
    "\n",
    "# Perform cohort analysis if contract_type is available\n",
    "if 'contract_type' in df.columns:\n",
    "    cohort_results = perform_cohort_analysis(df, cohort_col='contract_type')\n",
    "    display(cohort_results)\n",
    "\n",
    "    # Visualize cohort results\n",
    "    plt.figure(figsize=(12, 6))\n",
    "    sns.barplot(data=cohort_results.reset_index(), x='contract_type', y='retention_rate')\n",
    "    plt.title('Retention Rate by Contract Type')\n",
    "    plt.xticks(rotation=45)\n",
    "    plt.show()\n",
    "\n",
    "    # Plot average customer value by cohort\n",
    "    plt.figure(figsize=(12, 6))\n",
    "    sns.barplot(data=cohort_results.reset_index(), x='contract_type', y='avg_value')\n",
    "    plt.title('Average Customer Value by Contract Type')\n",
    "    plt.xticks(rotation=45)\n",
    "    plt.show()\n",
    "else:\n",
    "    print(\"\\nWarning: 'contract_type' column not found. Available columns:\", df.columns.tolist())"
   ]
  },
  {
   "cell_type": "code",
   "execution_count": 7,
   "id": "965a096b",
   "metadata": {},
   "outputs": [
    {
     "name": "stdout",
     "output_type": "stream",
     "text": [
      "Data Types:\n",
      "customer_id          object\n",
      "gender               object\n",
      "senior_citizen       object\n",
      "partner              object\n",
      "dependents           object\n",
      "tenure_months         int64\n",
      "monthly_charges     float64\n",
      "total_charges       float64\n",
      "contract             object\n",
      "internet_service     object\n",
      "phone_service        object\n",
      "churn                 int64\n",
      "dtype: object\n",
      "\n",
      "Unique values in categorical columns:\n",
      "\n",
      "churn: [1 0]\n"
     ]
    }
   ],
   "source": [
    "# Check data types and unique values\n",
    "print(\"Data Types:\")\n",
    "print(df.dtypes)\n",
    "print(\"\\nUnique values in categorical columns:\")\n",
    "for col in ['contract_type', 'internet_service_type', 'payment_type', 'churn']:\n",
    "    if col in df.columns:\n",
    "        print(f\"\\n{col}:\", df[col].unique())"
   ]
  },
  {
   "cell_type": "markdown",
   "id": "a1bd09d6",
   "metadata": {},
   "source": [
    "## Interpretation of Statistical Analysis\n",
    "\n",
    "The statistical analysis reveals several key insights:\n",
    "\n",
    "1. **Normality Tests**\n",
    "   - Check if numerical features follow a normal distribution\n",
    "   - Helps determine appropriate statistical methods for further analysis\n",
    "\n",
    "2. **Chi-square Tests**\n",
    "   - Evaluate relationships between categorical variables and churn\n",
    "   - Identify which categorical features have significant associations with customer churn\n",
    "\n",
    "3. **Cohort Analysis Insights**\n",
    "   - Compare retention rates across different contract types\n",
    "   - Analyze customer value distribution among cohorts\n",
    "   - Identify high-value and at-risk customer segments\n",
    "\n",
    "These insights will inform our feature engineering and modeling approach in later notebooks."
   ]
  },
  {
   "cell_type": "code",
   "execution_count": 8,
   "id": "acd1a747",
   "metadata": {},
   "outputs": [
    {
     "data": {
      "text/html": [
       "<div>\n",
       "<style scoped>\n",
       "    .dataframe tbody tr th:only-of-type {\n",
       "        vertical-align: middle;\n",
       "    }\n",
       "\n",
       "    .dataframe tbody tr th {\n",
       "        vertical-align: top;\n",
       "    }\n",
       "\n",
       "    .dataframe thead th {\n",
       "        text-align: right;\n",
       "    }\n",
       "</style>\n",
       "<table border=\"1\" class=\"dataframe\">\n",
       "  <thead>\n",
       "    <tr style=\"text-align: right;\">\n",
       "      <th></th>\n",
       "      <th>tenure_months</th>\n",
       "      <th>monthly_charges</th>\n",
       "      <th>total_charges</th>\n",
       "      <th>churn_rate</th>\n",
       "    </tr>\n",
       "    <tr>\n",
       "      <th>Cluster</th>\n",
       "      <th></th>\n",
       "      <th></th>\n",
       "      <th></th>\n",
       "      <th></th>\n",
       "    </tr>\n",
       "  </thead>\n",
       "  <tbody>\n",
       "    <tr>\n",
       "      <th>0</th>\n",
       "      <td>14.21</td>\n",
       "      <td>69.45</td>\n",
       "      <td>1003.19</td>\n",
       "      <td>0.0</td>\n",
       "    </tr>\n",
       "    <tr>\n",
       "      <th>1</th>\n",
       "      <td>52.36</td>\n",
       "      <td>95.73</td>\n",
       "      <td>4952.13</td>\n",
       "      <td>0.0</td>\n",
       "    </tr>\n",
       "    <tr>\n",
       "      <th>2</th>\n",
       "      <td>48.57</td>\n",
       "      <td>43.81</td>\n",
       "      <td>2120.53</td>\n",
       "      <td>0.0</td>\n",
       "    </tr>\n",
       "  </tbody>\n",
       "</table>\n",
       "</div>"
      ],
      "text/plain": [
       "         tenure_months  monthly_charges  total_charges  churn_rate\n",
       "Cluster                                                           \n",
       "0                14.21            69.45        1003.19         0.0\n",
       "1                52.36            95.73        4952.13         0.0\n",
       "2                48.57            43.81        2120.53         0.0"
      ]
     },
     "metadata": {},
     "output_type": "display_data"
    }
   ],
   "source": [
    "def perform_customer_segmentation(df, features=None):\n",
    "    \"\"\"Perform customer segmentation using K-means clustering.\"\"\"\n",
    "    if features is None:\n",
    "        features = ['tenure_months', 'monthly_charges', 'total_charges']\n",
    "    \n",
    "    # Prepare data\n",
    "    X = df[features].copy()\n",
    "    \n",
    "    # Handle missing values\n",
    "    X = X.fillna(X.mean())\n",
    "    \n",
    "    # Scale features\n",
    "    scaler = StandardScaler()\n",
    "    X_scaled = scaler.fit_transform(X)\n",
    "    \n",
    "    # Determine optimal number of clusters using elbow method\n",
    "    inertias = []\n",
    "    K = range(1, 6)\n",
    "    for k in K:\n",
    "        kmeans = KMeans(n_clusters=k, random_state=42)\n",
    "        kmeans.fit(X_scaled)\n",
    "        inertias.append(kmeans.inertia_)\n",
    "    \n",
    "    # Plot elbow curve\n",
    "    plt.figure(figsize=(10, 6))\n",
    "    plt.plot(K, inertias, 'bx-')\n",
    "    plt.xlabel('k')\n",
    "    plt.ylabel('Inertia')\n",
    "    plt.title('Elbow Method For Optimal k')\n",
    "    plt.show()\n",
    "    \n",
    "    # Perform clustering with optimal k (using k=3 as example)\n",
    "    kmeans = KMeans(n_clusters=3, random_state=42)\n",
    "    df['Cluster'] = kmeans.fit_predict(X_scaled)\n",
    "    \n",
    "    return df, kmeans, scaler\n",
    "\n",
    "# Perform customer segmentation\n",
    "df_segmented, kmeans_model, scaler = perform_customer_segmentation(df)\n",
    "\n",
    "# Analyze segments\n",
    "segment_profile = df_segmented.groupby('Cluster').agg({\n",
    "    'tenure_months': 'mean',\n",
    "    'monthly_charges': 'mean',\n",
    "    'total_charges': 'mean',\n",
    "    'churn': lambda x: (x == 'Yes').mean()\n",
    "}).round(2)\n",
    "\n",
    "display(segment_profile.rename(columns={'churn': 'churn_rate'}))"
   ]
  },
  {
   "cell_type": "markdown",
   "id": "a65fec3a",
   "metadata": {},
   "source": [
    "## Customer Segmentation Analysis\n",
    "\n",
    "We'll now perform customer segmentation using K-means clustering to identify distinct customer groups based on:\n",
    "- Tenure\n",
    "- Monthly charges\n",
    "- Total charges\n",
    "\n",
    "The segmentation process includes:\n",
    "1. Data preparation and scaling\n",
    "2. Optimal cluster number determination using the elbow method\n",
    "3. K-means clustering\n",
    "4. Segment profiling and analysis\n",
    "\n",
    "This segmentation will help us:\n",
    "- Identify high-value customer segments\n",
    "- Understand churn risk patterns\n",
    "- Develop targeted retention strategies"
   ]
  },
  {
   "cell_type": "code",
   "execution_count": 9,
   "id": "c2e5c71f",
   "metadata": {},
   "outputs": [
    {
     "name": "stdout",
     "output_type": "stream",
     "text": [
      "Starting visualization process...\n",
      "\n",
      "Creating segment visualizations...\n",
      "Preparing data for visualization...\n",
      "Creating segment scatter plots...\n"
     ]
    },
    {
     "data": {
      "application/vnd.plotly.v1+json": {
       "config": {
        "plotlyServerURL": "https://plot.ly"
       },
       "data": [
        {
         "marker": {
          "color": {
           "bdata": "AQAAAAEAAAACAAAAAgAAAAAAAAAAAAAAAQAAAAEAAAABAAAAAgAAAAIAAAABAAAAAAAAAAIAAAAAAAAAAAAAAAAAAAACAAAAAQAAAAAAAAABAAAAAQAAAAIAAAAAAAAAAQAAAAIAAAACAAAAAAAAAAAAAAACAAAAAgAAAAAAAAABAAAAAgAAAAEAAAAAAAAAAAAAAAAAAAACAAAAAgAAAAEAAAACAAAAAAAAAAIAAAACAAAAAQAAAAEAAAACAAAAAgAAAAEAAAACAAAAAAAAAAEAAAACAAAAAQAAAAIAAAAAAAAAAQAAAAAAAAABAAAAAQAAAAIAAAAAAAAAAgAAAAAAAAAAAAAAAgAAAAAAAAABAAAAAAAAAAAAAAABAAAAAAAAAAIAAAACAAAAAAAAAAIAAAABAAAAAAAAAAIAAAABAAAAAQAAAAAAAAAAAAAAAQAAAAAAAAABAAAAAAAAAAAAAAACAAAAAAAAAAAAAAACAAAAAAAAAAAAAAACAAAAAQAAAAIAAAAAAAAAAAAAAAIAAAABAAAAAgAAAAAAAAABAAAAAAAAAAEAAAAAAAAAAQAAAAAAAAABAAAAAAAAAAIAAAACAAAAAAAAAAIAAAACAAAAAAAAAAAAAAACAAAAAQAAAAAAAAABAAAAAQAAAAAAAAABAAAAAgAAAAEAAAAAAAAAAgAAAAIAAAAAAAAAAQAAAAAAAAAAAAAAAgAAAAIAAAAAAAAAAQAAAAIAAAACAAAAAgAAAAAAAAAAAAAAAgAAAAEAAAABAAAAAQAAAAIAAAABAAAAAAAAAAIAAAABAAAAAQAAAAEAAAAAAAAAAgAAAAEAAAAAAAAAAQAAAAAAAAAAAAAAAAAAAAEAAAABAAAAAAAAAAAAAAAAAAAAAAAAAAAAAAABAAAAAQAAAAEAAAACAAAAAQAAAAAAAAABAAAAAQAAAAAAAAAAAAAAAgAAAAEAAAAAAAAAAQAAAAAAAAAAAAAAAgAAAAIAAAABAAAAAQAAAAAAAAAAAAAAAQAAAAAAAAABAAAAAQAAAAAAAAAAAAAAAQAAAAEAAAACAAAAAgAAAAEAAAAAAAAAAAAAAAAAAAAAAAAAAAAAAAIAAAAAAAAAAQAAAAEAAAAAAAAAAQAAAAEAAAAAAAAAAAAAAAEAAAABAAAAAQAAAAIAAAAAAAAAAAAAAAEAAAAAAAAAAAAAAAAAAAABAAAAAAAAAAAAAAAAAAAAAQAAAAAAAAABAAAAAgAAAAAAAAACAAAAAQAAAAAAAAAAAAAAAAAAAAAAAAACAAAAAAAAAAAAAAACAAAAAgAAAAEAAAAAAAAAAQAAAAAAAAABAAAAAgAAAAIAAAACAAAAAgAAAAAAAAABAAAAAAAAAAEAAAABAAAAAgAAAAIAAAABAAAAAQAAAAAAAAACAAAAAQAAAAAAAAACAAAAAAAAAAEAAAACAAAAAAAAAAEAAAAAAAAAAAAAAAIAAAAAAAAAAQAAAAIAAAABAAAAAAAAAAIAAAAAAAAAAgAAAAAAAAABAAAAAQAAAAAAAAABAAAAAAAAAAIAAAACAAAAAgAAAAAAAAAAAAAAAQAAAAEAAAACAAAAAAAAAAAAAAABAAAAAQAAAAEAAAAAAAAAAAAAAAIAAAAAAAAAAAAAAAIAAAACAAAAAQAAAAIAAAABAAAAAAAAAAAAAAAAAAAAAAAAAAAAAAACAAAAAAAAAAEAAAAAAAAAAQAAAAAAAAACAAAAAQAAAAAAAAAAAAAAAgAAAAAAAAAAAAAAAAAAAAIAAAAAAAAAAAAAAAIAAAAAAAAAAgAAAAIAAAABAAAAAQAAAAIAAAABAAAAAQAAAAEAAAAAAAAAAgAAAAIAAAABAAAAAAAAAAIAAAACAAAAAAAAAAIAAAACAAAAAQAAAAAAAAABAAAAAAAAAAIAAAAAAAAAAgAAAAIAAAABAAAAAAAAAAIAAAABAAAAAgAAAAAAAAACAAAAAgAAAAAAAAABAAAAAAAAAAEAAAABAAAAAQAAAAAAAAAAAAAAAAAAAAIAAAAAAAAAAAAAAAEAAAABAAAAAgAAAAIAAAACAAAAAgAAAAEAAAAAAAAAAAAAAAAAAAABAAAAAgAAAAEAAAACAAAAAAAAAAAAAAABAAAAAgAAAAIAAAAAAAAAAAAAAAEAAAAAAAAAAAAAAAIAAAACAAAAAgAAAAIAAAABAAAAAAAAAAAAAAAAAAAAAQAAAAIAAAABAAAAAAAAAAEAAAABAAAAAgAAAAAAAAABAAAAAQAAAAEAAAAAAAAAAgAAAAAAAAABAAAAAQAAAAEAAAAAAAAAAgAAAAEAAAAAAAAAAgAAAAIAAAABAAAAAQAAAAAAAAAAAAAAAgAAAAIAAAACAAAAAAAAAAAAAAAAAAAAAQAAAAIAAAAAAAAAAAAAAAAAAAABAAAAAQAAAAEAAAAAAAAAAQAAAAEAAAAAAAAAAAAAAAAAAAAAAAAAAQAAAAEAAAAAAAAAAQAAAAIAAAABAAAAAQAAAAAAAAAAAAAAAQAAAAEAAAABAAAAAQAAAAAAAAABAAAAAAAAAAAAAAAAAAAAAgAAAAEAAAAAAAAAAQAAAAIAAAABAAAAAAAAAAAAAAABAAAAAgAAAAEAAAACAAAAAQAAAAEAAAABAAAAAAAAAAIAAAAAAAAAAgAAAAIAAAABAAAAAQAAAAEAAAAAAAAAAAAAAAEAAAAAAAAAAAAAAAIAAAABAAAAAAAAAAEAAAACAAAAAgAAAAAAAAAAAAAAAAAAAAEAAAACAAAAAAAAAAIAAAAAAAAAAQAAAAEAAAACAAAAAgAAAAAAAAAAAAAAAAAAAAAAAAAAAAAAAgAAAAIAAAABAAAAAAAAAAEAAAACAAAAAgAAAAIAAAABAAAAAQAAAAIAAAACAAAAAQAAAAAAAAABAAAAAQAAAAAAAAAAAAAAAAAAAAEAAAAAAAAAAAAAAAAAAAAAAAAAAAAAAAAAAAABAAAAAAAAAAAAAAABAAAAAQAAAAAAAAAAAAAAAQAAAAEAAAABAAAAAgAAAAAAAAAAAAAAAAAAAAIAAAAAAAAAAgAAAAEAAAAAAAAAAAAAAAIAAAABAAAAAgAAAAAAAAABAAAAAAAAAAIAAAAAAAAAAgAAAAIAAAACAAAAAgAAAAAAAAABAAAAAAAAAAAAAAABAAAAAAAAAAAAAAABAAAAAAAAAAEAAAACAAAAAQAAAAIAAAAAAAAAAgAAAAIAAAACAAAAAAAAAAEAAAABAAAAAAAAAAAAAAACAAAAAgAAAAAAAAAAAAAAAQAAAAEAAAACAAAAAQAAAAEAAAABAAAAAgAAAAIAAAACAAAAAQAAAAEAAAABAAAAAgAAAAIAAAAAAAAAAQAAAAAAAAAAAAAAAgAAAAIAAAACAAAAAAAAAAEAAAABAAAAAQAAAAAAAAABAAAAAgAAAAEAAAABAAAAAAAAAAIAAAACAAAAAgAAAAAAAAAAAAAAAAAAAAAAAAAAAAAAAgAAAAAAAAAAAAAAAgAAAAIAAAAAAAAAAAAAAAAAAAABAAAAAQAAAAAAAAAAAAAAAgAAAAEAAAACAAAAAQAAAAAAAAACAAAAAAAAAAEAAAABAAAAAQAAAAIAAAAAAAAAAAAAAAAAAAAAAAAAAgAAAAIAAAABAAAAAgAAAAEAAAABAAAAAQAAAAIAAAAAAAAAAQAAAAEAAAAAAAAAAgAAAAAAAAABAAAAAQAAAAEAAAABAAAAAAAAAAEAAAABAAAAAAAAAAEAAAAAAAAAAQAAAAEAAAAAAAAAAAAAAAAAAAABAAAAAAAAAAIAAAAAAAAAAAAAAAEAAAACAAAAAAAAAAEAAAACAAAAAgAAAAAAAAAAAAAAAAAAAAIAAAABAAAAAQAAAAEAAAACAAAAAQAAAAAAAAAAAAAAAAAAAAAAAAACAAAAAQAAAAIAAAAAAAAAAQAAAAIAAAACAAAAAgAAAAEAAAACAAAAAgAAAAAAAAAAAAAAAQAAAAAAAAAAAAAAAAAAAAEAAAACAAAAAQAAAAAAAAACAAAAAgAAAAIAAAABAAAAAgAAAAAAAAACAAAAAQAAAAAAAAAAAAAAAgAAAAAAAAAAAAAAAgAAAAEAAAABAAAAAQAAAAEAAAABAAAAAQAAAAAAAAAAAAAAAQAAAAAAAAABAAAAAAAAAAEAAAABAAAAAAAAAAAAAAABAAAAAAAAAAEAAAABAAAAAQAAAAEAAAAAAAAAAAAAAAAAAAACAAAAAAAAAAIAAAACAAAAAQAAAAEAAAABAAAAAAAAAAEAAAABAAAAAAAAAAIAAAACAAAAAQAAAAAAAAAAAAAAAgAAAAEAAAABAAAAAAAAAAEAAAABAAAAAQAAAAAAAAACAAAAAAAAAAEAAAACAAAAAAAAAAAAAAABAAAAAAAAAAEAAAAAAAAAAgAAAAIAAAACAAAAAAAAAAAAAAAAAAAAAQAAAAAAAAABAAAAAAAAAAAAAAAAAAAAAQAAAAIAAAABAAAAAQAAAAEAAAAAAAAAAgAAAAIAAAABAAAAAAAAAAAAAAAAAAAAAQAAAAAAAAACAAAAAgAAAAIAAAAAAAAAAQAAAAAAAAACAAAAAAAAAAAAAAAAAAAAAgAAAAIAAAAAAAAAAgAAAAIAAAAAAAAAAAAAAAAAAAACAAAAAQAAAAEAAAABAAAAAgAAAAEAAAACAAAAAAAAAAAAAAAAAAAAAAAAAAIAAAAAAAAAAAAAAAEAAAAAAAAAAgAAAAAAAAAAAAAAAAAAAAEAAAAAAAAAAAAAAAEAAAACAAAAAgAAAAEAAAACAAAAAQAAAAIAAAAAAAAAAAAAAAEAAAACAAAAAQAAAAAAAAAAAAAAAAAAAAEAAAACAAAAAgAAAAEAAAACAAAAAgAAAAIAAAAAAAAAAgAAAAAAAAACAAAAAAAAAAEAAAAAAAAAAQAAAAEAAAACAAAAAQAAAAEAAAABAAAAAQAAAAAAAAABAAAAAAAAAAAAAAAAAAAAAAAAAAAAAAABAAAAAAAAAAEAAAABAAAAAAAAAAAAAAABAAAAAgAAAAIAAAABAAAAAQAAAAEAAAACAAAAAgAAAAEAAAACAAAAAQAAAAIAAAAAAAAAAgAAAAIAAAAAAAAAAgAAAAEAAAABAAAAAAAAAAIAAAACAAAAAgAAAAEAAAAAAAAAAAAAAAAAAAABAAAAAAAAAAIAAAABAAAAAgAAAAEAAAABAAAAAAAAAAEAAAAAAAAAAgAAAAEAAAAAAAAAAAAAAAEAAAAAAAAAAAAAAAAAAAAAAAAAAQAAAAIAAAABAAAAAAAAAAEAAAAAAAAAAAAAAAIAAAAAAAAAAAAAAAEAAAABAAAAAgAAAAIAAAABAAAAAQAAAAEAAAABAAAAAQAAAAEAAAACAAAAAAAAAAIAAAAAAAAAAAAAAAIAAAAAAAAAAAAAAAEAAAAAAAAAAQAAAAAAAAACAAAAAAAAAAAAAAABAAAAAAAAAAEAAAABAAAAAgAAAAEAAAAAAAAAAgAAAAAAAAABAAAAAgAAAAIAAAAAAAAAAgAAAAEAAAACAAAAAQAAAAAAAAABAAAAAQAAAAAAAAACAAAAAAAAAAIAAAABAAAAAQAAAAAAAAAAAAAAAQAAAAIAAAAAAAAAAgAAAAEAAAAAAAAAAgAAAAEAAAACAAAAAAAAAAIAAAACAAAAAgAAAAAAAAABAAAAAAAAAAAAAAABAAAAAgAAAAIAAAAAAAAAAgAAAAEAAAACAAAAAQAAAAAAAAACAAAAAQAAAAEAAAACAAAAAAAAAAAAAAABAAAAAQAAAAEAAAAAAAAAAgAAAAAAAAABAAAAAgAAAAAAAAACAAAAAQAAAAEAAAACAAAAAQAAAAIAAAAAAAAAAAAAAAIAAAABAAAAAAAAAAIAAAAAAAAAAAAAAAAAAAAAAAAAAAAAAAEAAAACAAAAAgAAAAIAAAACAAAAAQAAAAAAAAACAAAAAQAAAAAAAAABAAAAAQAAAAEAAAAAAAAAAAAAAAIAAAABAAAAAgAAAAAAAAAAAAAAAQAAAAIAAAACAAAAAQAAAAIAAAAAAAAAAQAAAAEAAAABAAAAAQAAAAAAAAACAAAAAAAAAAAAAAAAAAAAAgAAAAAAAAABAAAAAQAAAAIAAAABAAAAAgAAAAIAAAAAAAAAAQAAAAIAAAACAAAAAgAAAAIAAAACAAAAAgAAAAEAAAACAAAAAQAAAAAAAAABAAAAAgAAAAAAAAAAAAAAAAAAAAIAAAABAAAAAgAAAAEAAAACAAAAAAAAAAEAAAACAAAAAAAAAAIAAAACAAAAAAAAAAEAAAABAAAAAAAAAAAAAAABAAAAAAAAAAIAAAAAAAAAAAAAAAIAAAAAAAAAAQAAAAAAAAAAAAAAAAAAAAIAAAABAAAAAQAAAAEAAAAAAAAAAAAAAAAAAAABAAAAAAAAAAEAAAACAAAAAAAAAAAAAAABAAAAAQAAAAIAAAABAAAAAQAAAAIAAAACAAAAAgAAAAAAAAABAAAAAQAAAAIAAAABAAAAAAAAAAAAAAAAAAAAAAAAAAAAAAACAAAAAAAAAAAAAAAAAAAAAAAAAAAAAAABAAAAAQAAAAIAAAABAAAAAgAAAAAAAAAAAAAAAQAAAAAAAAAAAAAAAgAAAAEAAAACAAAAAgAAAAEAAAAAAAAAAAAAAAAAAAACAAAAAQAAAAAAAAACAAAAAgAAAAIAAAAAAAAAAAAAAAAAAAAAAAAAAAAAAAAAAAABAAAAAgAAAAIAAAAAAAAAAAAAAAAAAAAAAAAAAQAAAAIAAAACAAAAAAAAAAAAAAAAAAAAAgAAAAEAAAACAAAAAAAAAAIAAAAAAAAAAAAAAAIAAAABAAAAAAAAAAAAAAAAAAAAAgAAAAEAAAABAAAAAAAAAAIAAAAAAAAAAgAAAAIAAAACAAAAAQAAAAAAAAABAAAAAAAAAAEAAAAAAAAAAQAAAAIAAAABAAAAAAAAAAAAAAACAAAAAAAAAAEAAAACAAAAAQAAAAAAAAABAAAAAQAAAAIAAAAAAAAAAgAAAAIAAAABAAAAAQAAAAEAAAAAAAAAAAAAAAEAAAAAAAAAAQAAAAEAAAABAAAAAQAAAAIAAAABAAAAAAAAAAIAAAAAAAAAAgAAAAAAAAABAAAAAQAAAAEAAAABAAAAAQAAAAAAAAAAAAAAAgAAAAAAAAAAAAAAAAAAAAIAAAACAAAAAQAAAAEAAAAAAAAAAgAAAAAAAAABAAAAAQAAAAAAAAABAAAAAQAAAAAAAAACAAAAAAAAAAEAAAAAAAAAAAAAAAEAAAACAAAAAAAAAAEAAAAAAAAAAgAAAAAAAAABAAAAAQAAAAEAAAACAAAAAAAAAAIAAAAAAAAAAAAAAAAAAAABAAAAAAAAAAAAAAAAAAAAAAAAAAAAAAACAAAAAAAAAAIAAAACAAAAAQAAAAAAAAAAAAAAAQAAAAIAAAAAAAAAAgAAAAAAAAABAAAAAAAAAAIAAAAAAAAAAQAAAAAAAAAAAAAAAQAAAAEAAAABAAAAAQAAAAAAAAAAAAAAAAAAAAAAAAAAAAAAAgAAAAEAAAACAAAAAAAAAAIAAAAAAAAAAQAAAAIAAAAAAAAAAQAAAAAAAAACAAAAAAAAAAAAAAAAAAAAAgAAAAIAAAAAAAAAAgAAAAEAAAACAAAAAQAAAAEAAAAAAAAAAgAAAAEAAAAAAAAAAAAAAAAAAAACAAAAAQAAAAAAAAABAAAAAAAAAAEAAAAAAAAAAAAAAAIAAAACAAAAAAAAAAAAAAAAAAAAAAAAAAIAAAABAAAAAQAAAAEAAAACAAAAAgAAAAEAAAABAAAAAgAAAAEAAAACAAAAAQAAAAAAAAABAAAAAAAAAAEAAAABAAAAAgAAAAAAAAAAAAAAAAAAAAEAAAAAAAAAAgAAAAAAAAACAAAAAQAAAAAAAAABAAAAAAAAAAIAAAABAAAAAgAAAAAAAAAAAAAAAgAAAAAAAAABAAAAAAAAAAAAAAACAAAAAgAAAAAAAAABAAAAAQAAAAAAAAAAAAAAAQAAAAIAAAAAAAAAAgAAAAEAAAAAAAAAAAAAAAEAAAABAAAAAQAAAAIAAAABAAAAAQAAAAEAAAACAAAAAQAAAAAAAAAAAAAAAQAAAAIAAAABAAAAAAAAAAIAAAACAAAAAAAAAAAAAAAAAAAAAgAAAAAAAAAAAAAAAAAAAAIAAAAAAAAAAAAAAAEAAAAAAAAAAgAAAAAAAAACAAAAAAAAAAAAAAAAAAAAAAAAAAEAAAACAAAAAAAAAAEAAAAAAAAAAgAAAAAAAAACAAAAAAAAAAAAAAABAAAAAQAAAAAAAAABAAAAAQAAAAAAAAACAAAAAQAAAAIAAAAAAAAAAgAAAAEAAAAAAAAAAQAAAAIAAAAAAAAAAQAAAAAAAAAAAAAAAAAAAAIAAAAAAAAAAgAAAAEAAAABAAAAAgAAAAIAAAAAAAAAAAAAAAIAAAAAAAAAAAAAAAIAAAAAAAAAAAAAAAIAAAACAAAAAQAAAAAAAAAAAAAAAAAAAAEAAAABAAAAAAAAAAEAAAACAAAAAgAAAAAAAAACAAAAAAAAAAAAAAACAAAAAAAAAAEAAAAAAAAAAQAAAAAAAAAAAAAAAAAAAAAAAAACAAAAAAAAAAAAAAABAAAAAAAAAAIAAAACAAAAAQAAAAAAAAAAAAAAAgAAAAIAAAAAAAAAAQAAAAAAAAAAAAAAAgAAAAEAAAACAAAAAgAAAAEAAAABAAAAAgAAAAAAAAAAAAAAAQAAAAIAAAACAAAAAQAAAAAAAAACAAAAAgAAAAAAAAAAAAAAAAAAAAAAAAAAAAAAAQAAAAEAAAAAAAAAAAAAAAAAAAABAAAAAgAAAAAAAAACAAAAAgAAAAAAAAAAAAAAAAAAAAEAAAABAAAAAgAAAAIAAAACAAAAAAAAAAAAAAAAAAAAAQAAAAIAAAAAAAAAAQAAAAEAAAABAAAAAgAAAAIAAAAAAAAAAQAAAAEAAAAAAAAAAQAAAAIAAAAAAAAAAAAAAAAAAAAAAAAAAAAAAAAAAAABAAAAAAAAAAIAAAABAAAAAQAAAAIAAAAAAAAAAQAAAAAAAAAAAAAAAAAAAAEAAAAAAAAAAgAAAAAAAAAAAAAAAAAAAAEAAAACAAAAAgAAAAEAAAACAAAAAAAAAAEAAAABAAAAAQAAAAAAAAAAAAAAAAAAAAEAAAACAAAAAAAAAAEAAAAAAAAAAAAAAAIAAAABAAAAAAAAAAEAAAAAAAAAAAAAAAAAAAABAAAAAgAAAAEAAAABAAAAAAAAAAAAAAACAAAAAQAAAAIAAAABAAAAAQAAAAEAAAABAAAAAgAAAAEAAAACAAAAAAAAAAAAAAAAAAAAAAAAAAAAAAAAAAAAAgAAAAEAAAABAAAAAQAAAAAAAAACAAAAAgAAAAAAAAAAAAAAAgAAAAIAAAABAAAAAgAAAAAAAAAAAAAAAAAAAAAAAAAAAAAAAAAAAAAAAAABAAAAAQAAAAEAAAABAAAAAQAAAAAAAAABAAAAAQAAAAIAAAAAAAAAAQAAAAIAAAACAAAAAQAAAAEAAAAAAAAAAgAAAAAAAAAAAAAAAgAAAAAAAAABAAAAAAAAAAEAAAACAAAAAQAAAAAAAAABAAAAAQAAAAIAAAAAAAAAAAAAAAEAAAACAAAAAQAAAAAAAAACAAAAAgAAAAIAAAAAAAAAAAAAAAEAAAAAAAAAAAAAAAEAAAAAAAAAAAAAAAAAAAACAAAAAAAAAAEAAAAAAAAAAAAAAAAAAAABAAAAAAAAAAAAAAAAAAAAAQAAAAIAAAACAAAAAAAAAAIAAAAAAAAAAAAAAAIAAAABAAAAAgAAAAEAAAABAAAAAgAAAAAAAAABAAAAAQAAAAEAAAAAAAAAAgAAAAAAAAACAAAAAQAAAAEAAAACAAAAAQAAAAEAAAABAAAAAAAAAAAAAAACAAAAAQAAAAAAAAAAAAAAAQAAAAAAAAAAAAAAAgAAAAAAAAAAAAAAAgAAAAAAAAABAAAAAQAAAAIAAAABAAAAAAAAAAAAAAAAAAAAAgAAAAEAAAAAAAAAAgAAAAEAAAAAAAAAAAAAAAAAAAAAAAAAAQAAAAEAAAACAAAAAgAAAAIAAAABAAAAAQAAAAIAAAABAAAAAQAAAAEAAAABAAAAAgAAAAAAAAACAAAAAQAAAAIAAAABAAAAAAAAAAAAAAABAAAAAQAAAAAAAAAAAAAAAAAAAAIAAAAAAAAAAQAAAAAAAAACAAAAAQAAAAAAAAAAAAAAAAAAAAIAAAACAAAAAgAAAAAAAAABAAAAAAAAAAAAAAABAAAAAAAAAAEAAAAAAAAAAgAAAAAAAAABAAAAAgAAAAAAAAABAAAAAgAAAAAAAAACAAAAAQAAAAEAAAAAAAAAAAAAAAIAAAABAAAAAAAAAAIAAAACAAAAAgAAAAEAAAACAAAAAQAAAAIAAAAAAAAAAAAAAAAAAAACAAAAAQAAAAAAAAACAAAAAgAAAAAAAAAAAAAAAQAAAAAAAAABAAAAAQAAAAAAAAAAAAAAAAAAAAIAAAACAAAAAAAAAAAAAAACAAAAAAAAAAAAAAABAAAAAgAAAAIAAAABAAAAAAAAAAIAAAAAAAAAAAAAAAAAAAACAAAAAQAAAAEAAAAAAAAAAAAAAAEAAAABAAAAAAAAAAIAAAABAAAAAgAAAAAAAAAAAAAAAgAAAAIAAAABAAAAAQAAAAIAAAACAAAAAQAAAAEAAAAAAAAAAgAAAAIAAAAAAAAAAQAAAAAAAAABAAAAAgAAAAEAAAACAAAAAAAAAAEAAAABAAAAAQAAAAIAAAAAAAAAAgAAAAAAAAACAAAAAAAAAAAAAAACAAAAAgAAAAAAAAAAAAAAAQAAAAAAAAAAAAAAAAAAAAAAAAAAAAAAAAAAAAAAAAABAAAAAAAAAAAAAAAAAAAAAgAAAAAAAAACAAAAAAAAAAAAAAABAAAAAQAAAAAAAAAAAAAAAgAAAAAAAAAAAAAAAAAAAAEAAAABAAAAAQAAAAEAAAAAAAAAAAAAAAEAAAACAAAAAAAAAAIAAAACAAAAAgAAAAIAAAACAAAAAAAAAAEAAAAAAAAAAQAAAAEAAAAAAAAAAQAAAAEAAAACAAAAAAAAAAAAAAACAAAAAAAAAAIAAAAAAAAAAAAAAAIAAAAAAAAAAQAAAAIAAAAAAAAAAQAAAAIAAAABAAAAAgAAAAIAAAAAAAAAAAAAAAAAAAAAAAAAAAAAAAEAAAACAAAAAQAAAAEAAAACAAAAAQAAAAAAAAAAAAAAAAAAAAAAAAABAAAAAQAAAAIAAAABAAAAAgAAAAIAAAAAAAAAAAAAAAIAAAABAAAAAgAAAAEAAAABAAAAAAAAAAIAAAABAAAAAgAAAAEAAAACAAAAAAAAAAEAAAABAAAAAQAAAAAAAAABAAAAAgAAAAAAAAACAAAAAgAAAAIAAAAAAAAAAAAAAAAAAAACAAAAAQAAAAAAAAAAAAAAAQAAAAEAAAAAAAAAAAAAAAEAAAAAAAAAAAAAAAAAAAACAAAAAAAAAAEAAAAAAAAAAAAAAAAAAAABAAAAAAAAAAAAAAAAAAAAAQAAAAIAAAACAAAAAAAAAAIAAAAAAAAAAAAAAAAAAAAAAAAAAAAAAAAAAAAAAAAAAQAAAAAAAAACAAAAAAAAAAEAAAABAAAAAgAAAAAAAAAAAAAAAAAAAAIAAAABAAAAAAAAAAEAAAACAAAAAAAAAAIAAAABAAAAAgAAAAEAAAAAAAAAAgAAAAIAAAACAAAAAgAAAAEAAAAAAAAAAgAAAAIAAAACAAAAAgAAAAEAAAAAAAAAAQAAAAEAAAAAAAAAAAAAAAAAAAAAAAAAAgAAAAEAAAACAAAAAAAAAAIAAAAAAAAAAAAAAAIAAAACAAAAAAAAAAAAAAACAAAAAgAAAAEAAAAAAAAAAAAAAAAAAAABAAAAAQAAAAEAAAAAAAAAAAAAAAAAAAACAAAAAgAAAAEAAAAAAAAAAQAAAAEAAAAAAAAAAQAAAAAAAAAAAAAAAAAAAAIAAAACAAAAAgAAAAIAAAACAAAAAgAAAAEAAAAAAAAAAQAAAAIAAAABAAAAAAAAAAAAAAABAAAAAAAAAAIAAAACAAAAAQAAAAAAAAAAAAAAAQAAAAIAAAAAAAAAAAAAAAAAAAACAAAAAQAAAAAAAAAAAAAAAAAAAAAAAAAAAAAAAgAAAAIAAAABAAAAAAAAAAIAAAAAAAAAAAAAAAEAAAABAAAAAQAAAAEAAAABAAAAAQAAAAAAAAAAAAAAAAAAAAAAAAAAAAAAAQAAAAAAAAACAAAAAQAAAAAAAAAAAAAAAQAAAAAAAAABAAAAAQAAAAAAAAAAAAAAAgAAAAEAAAAAAAAAAQAAAAIAAAAAAAAAAgAAAAAAAAACAAAAAgAAAAEAAAAAAAAAAQAAAAAAAAAAAAAAAQAAAAEAAAABAAAAAQAAAAIAAAAAAAAAAAAAAAEAAAABAAAAAAAAAAEAAAACAAAAAQAAAAEAAAABAAAAAQAAAAIAAAABAAAAAQAAAAAAAAAAAAAAAgAAAAEAAAABAAAAAgAAAAAAAAABAAAAAAAAAAAAAAABAAAAAQAAAAEAAAAAAAAAAAAAAAEAAAAAAAAAAgAAAAAAAAAAAAAAAgAAAAEAAAAAAAAAAgAAAAEAAAACAAAAAQAAAAEAAAAAAAAAAAAAAAIAAAABAAAAAAAAAAEAAAACAAAAAAAAAAIAAAAAAAAAAQAAAAIAAAABAAAAAQAAAAAAAAACAAAAAAAAAAIAAAABAAAAAAAAAAEAAAACAAAAAAAAAAEAAAACAAAAAgAAAAIAAAAAAAAAAgAAAAIAAAAAAAAAAAAAAAAAAAABAAAAAQAAAAEAAAABAAAAAAAAAAEAAAABAAAAAQAAAAIAAAAAAAAAAAAAAAAAAAAAAAAAAAAAAAAAAAABAAAAAAAAAAEAAAAAAAAAAgAAAAIAAAABAAAAAAAAAAAAAAAAAAAAAgAAAAIAAAACAAAAAgAAAAAAAAACAAAAAgAAAAAAAAABAAAAAAAAAAEAAAAAAAAAAAAAAAAAAAABAAAAAQAAAAIAAAACAAAAAQAAAAIAAAAAAAAAAAAAAAAAAAAAAAAAAgAAAAAAAAAAAAAAAAAAAAAAAAABAAAAAgAAAAEAAAAAAAAAAQAAAAIAAAAAAAAAAQAAAAEAAAABAAAAAAAAAAIAAAAAAAAAAAAAAAEAAAAAAAAAAAAAAAAAAAAAAAAAAAAAAAEAAAAAAAAAAAAAAAEAAAAAAAAAAQAAAAAAAAAAAAAAAQAAAAAAAAAAAAAAAQAAAAAAAAABAAAAAAAAAAAAAAABAAAAAAAAAAAAAAAAAAAAAAAAAAEAAAABAAAAAAAAAAEAAAABAAAAAAAAAAAAAAACAAAAAgAAAAAAAAABAAAAAAAAAAAAAAAAAAAAAQAAAAEAAAACAAAAAAAAAAEAAAACAAAAAQAAAAEAAAACAAAAAAAAAAAAAAACAAAAAgAAAAEAAAABAAAAAAAAAAAAAAABAAAAAAAAAAIAAAAAAAAAAAAAAAAAAAACAAAAAAAAAAEAAAACAAAAAgAAAAIAAAABAAAAAAAAAAIAAAAAAAAAAQAAAAAAAAACAAAAAAAAAAIAAAACAAAAAQAAAAAAAAAAAAAAAQAAAAIAAAABAAAAAAAAAAEAAAABAAAAAQAAAAIAAAACAAAAAAAAAAEAAAAAAAAAAAAAAAIAAAABAAAAAgAAAAAAAAACAAAAAAAAAAAAAAABAAAAAQAAAAAAAAAAAAAAAAAAAAIAAAAAAAAAAAAAAAAAAAACAAAAAAAAAAAAAAACAAAAAAAAAAIAAAABAAAAAQAAAAAAAAAAAAAAAQAAAAEAAAACAAAAAQAAAAAAAAACAAAAAgAAAAIAAAAAAAAAAgAAAAAAAAAAAAAAAgAAAAIAAAACAAAAAQAAAAIAAAACAAAAAAAAAAAAAAAAAAAAAgAAAAIAAAABAAAAAAAAAAAAAAAAAAAAAQAAAAAAAAABAAAAAAAAAAIAAAACAAAAAAAAAAEAAAACAAAAAQAAAAIAAAABAAAAAAAAAAAAAAACAAAAAQAAAAEAAAABAAAAAQAAAAEAAAACAAAAAgAAAAEAAAAAAAAAAQAAAAAAAAAAAAAAAgAAAAIAAAAAAAAAAAAAAAAAAAACAAAAAAAAAAAAAAABAAAAAQAAAAAAAAACAAAAAQAAAAIAAAABAAAAAQAAAAAAAAAAAAAAAAAAAAAAAAAAAAAAAAAAAAEAAAACAAAAAAAAAAEAAAAAAAAAAgAAAAAAAAAAAAAAAAAAAAAAAAACAAAAAAAAAAAAAAABAAAAAgAAAAIAAAACAAAAAgAAAAAAAAABAAAAAgAAAAIAAAABAAAAAQAAAAEAAAAAAAAAAgAAAAEAAAAAAAAAAQAAAAAAAAAAAAAAAAAAAAEAAAACAAAAAQAAAAAAAAABAAAAAAAAAAAAAAAAAAAAAAAAAAEAAAABAAAAAAAAAAAAAAACAAAAAAAAAAEAAAAAAAAAAQAAAAAAAAABAAAAAQAAAAIAAAACAAAAAAAAAAAAAAAAAAAAAQAAAAAAAAAAAAAAAAAAAAAAAAAAAAAAAQAAAAEAAAACAAAAAAAAAAAAAAAAAAAAAgAAAAAAAAAAAAAAAQAAAAEAAAACAAAAAAAAAAIAAAACAAAAAgAAAAIAAAACAAAAAAAAAAAAAAABAAAAAgAAAAEAAAACAAAAAAAAAAEAAAACAAAAAAAAAAEAAAAAAAAAAAAAAAAAAAABAAAAAAAAAAEAAAAAAAAAAgAAAAIAAAACAAAAAQAAAAEAAAAAAAAAAgAAAAAAAAABAAAAAgAAAAAAAAACAAAAAAAAAAEAAAABAAAAAAAAAAAAAAABAAAAAQAAAAEAAAAAAAAAAQAAAAAAAAAAAAAAAAAAAAAAAAACAAAAAAAAAAAAAAACAAAAAQAAAAIAAAABAAAAAAAAAAIAAAAAAAAAAgAAAAAAAAAAAAAAAAAAAAAAAAABAAAAAgAAAAEAAAAAAAAAAgAAAAAAAAAAAAAAAQAAAAEAAAAAAAAAAAAAAAEAAAABAAAAAAAAAAEAAAAAAAAAAAAAAAAAAAACAAAAAgAAAAAAAAACAAAAAAAAAAEAAAAAAAAAAAAAAAAAAAABAAAAAAAAAAIAAAAAAAAAAgAAAAEAAAABAAAAAAAAAAEAAAAAAAAAAQAAAAEAAAAAAAAAAAAAAAEAAAAAAAAAAAAAAAEAAAABAAAAAAAAAAEAAAACAAAAAAAAAAAAAAAAAAAAAgAAAAIAAAAAAAAAAAAAAAEAAAACAAAAAQAAAAEAAAACAAAAAAAAAAAAAAACAAAAAgAAAAEAAAAAAAAAAgAAAAAAAAAAAAAAAAAAAAEAAAABAAAAAAAAAAIAAAACAAAAAAAAAAIAAAAAAAAAAQAAAAAAAAAAAAAAAQAAAAIAAAACAAAAAAAAAAEAAAAAAAAAAAAAAAAAAAAAAAAAAgAAAAIAAAAAAAAAAgAAAAIAAAAAAAAAAQAAAAEAAAABAAAAAQAAAAIAAAACAAAAAgAAAAAAAAAAAAAAAgAAAAIAAAACAAAAAAAAAAAAAAAAAAAAAAAAAAAAAAAAAAAAAQAAAAAAAAAAAAAAAQAAAAAAAAACAAAAAQAAAAEAAAAAAAAAAAAAAAEAAAAAAAAAAgAAAAIAAAACAAAAAgAAAAAAAAAAAAAAAAAAAAAAAAACAAAAAgAAAAIAAAAAAAAAAAAAAAEAAAAAAAAAAgAAAAIAAAACAAAAAAAAAAEAAAABAAAAAQAAAAEAAAAAAAAAAQAAAAIAAAACAAAAAQAAAAAAAAABAAAAAgAAAAAAAAACAAAAAQAAAAIAAAAAAAAAAQAAAAAAAAABAAAAAAAAAAAAAAACAAAAAgAAAAIAAAABAAAAAQAAAAAAAAAAAAAAAQAAAAIAAAACAAAAAQAAAAEAAAACAAAAAgAAAAIAAAAAAAAAAQAAAAIAAAABAAAAAAAAAAAAAAABAAAAAgAAAAIAAAACAAAAAQAAAAEAAAAAAAAAAQAAAAEAAAACAAAAAgAAAAEAAAAAAAAAAAAAAAAAAAACAAAAAAAAAAAAAAABAAAAAAAAAAEAAAAAAAAAAQAAAAIAAAACAAAAAQAAAAIAAAACAAAAAQAAAAEAAAAAAAAAAgAAAAAAAAAAAAAAAAAAAAIAAAABAAAAAAAAAAEAAAABAAAAAQAAAAIAAAABAAAAAAAAAAIAAAAAAAAAAQAAAAEAAAABAAAAAgAAAAAAAAACAAAAAAAAAAAAAAABAAAAAAAAAAIAAAABAAAAAgAAAAAAAAAAAAAAAgAAAAIAAAAAAAAAAQAAAAEAAAAAAAAAAAAAAAIAAAACAAAAAgAAAAAAAAAAAAAAAAAAAAAAAAABAAAAAgAAAAIAAAAAAAAAAQAAAAAAAAACAAAAAgAAAAAAAAACAAAAAgAAAAAAAAACAAAAAgAAAAEAAAACAAAAAAAAAAAAAAABAAAAAAAAAAIAAAAAAAAAAQAAAAIAAAAAAAAAAQAAAAAAAAACAAAAAgAAAAEAAAAAAAAAAAAAAAEAAAABAAAAAAAAAAEAAAABAAAAAgAAAAEAAAACAAAAAgAAAAIAAAABAAAAAgAAAAIAAAABAAAAAAAAAAIAAAACAAAAAQAAAAEAAAAAAAAAAAAAAAAAAAACAAAAAQAAAAEAAAABAAAAAgAAAAAAAAACAAAAAAAAAAIAAAACAAAAAgAAAAAAAAAAAAAAAgAAAAAAAAAAAAAAAAAAAAEAAAAAAAAAAAAAAAAAAAACAAAAAQAAAAEAAAAAAAAAAAAAAAEAAAABAAAAAQAAAAIAAAACAAAAAQAAAAEAAAAAAAAAAgAAAAEAAAAAAAAAAAAAAAAAAAACAAAAAgAAAAIAAAAAAAAAAgAAAAIAAAAAAAAAAQAAAAAAAAAAAAAAAAAAAAAAAAAAAAAAAQAAAAEAAAAAAAAAAQAAAAEAAAAAAAAAAgAAAAAAAAAAAAAAAgAAAAEAAAABAAAAAgAAAAEAAAAAAAAAAAAAAAIAAAAAAAAAAAAAAAAAAAAAAAAAAgAAAAIAAAACAAAAAQAAAAAAAAACAAAAAAAAAAEAAAACAAAAAQAAAAAAAAAAAAAAAQAAAAEAAAAAAAAAAQAAAAAAAAABAAAAAAAAAAAAAAABAAAAAAAAAAAAAAACAAAAAAAAAAAAAAABAAAAAgAAAAAAAAACAAAAAAAAAAIAAAAAAAAAAQAAAAIAAAABAAAAAAAAAAIAAAACAAAAAgAAAAIAAAAAAAAAAgAAAAEAAAAAAAAAAgAAAAEAAAABAAAAAQAAAAAAAAACAAAAAQAAAAAAAAABAAAAAgAAAAAAAAACAAAAAQAAAAEAAAAAAAAAAAAAAAAAAAACAAAAAgAAAAIAAAAAAAAAAQAAAAAAAAACAAAAAgAAAAEAAAACAAAAAAAAAAAAAAAAAAAAAgAAAAEAAAAAAAAAAgAAAAIAAAAAAAAAAQAAAAEAAAABAAAAAQAAAAIAAAABAAAAAgAAAAEAAAABAAAAAQAAAAIAAAAAAAAAAAAAAAIAAAAAAAAAAgAAAAAAAAABAAAAAgAAAAAAAAABAAAAAAAAAAIAAAABAAAAAgAAAAEAAAAAAAAAAQAAAAAAAAACAAAAAAAAAAIAAAABAAAAAQAAAAAAAAACAAAAAAAAAAEAAAACAAAAAAAAAAIAAAAAAAAAAgAAAAIAAAAAAAAAAAAAAAAAAAACAAAAAQAAAAAAAAABAAAAAQAAAAIAAAAAAAAAAgAAAAEAAAABAAAAAQAAAAAAAAAAAAAAAQAAAAIAAAAAAAAAAgAAAAAAAAACAAAAAAAAAAEAAAABAAAAAQAAAAEAAAACAAAAAgAAAAEAAAAAAAAAAQAAAAIAAAACAAAAAQAAAAIAAAAAAAAAAgAAAAIAAAABAAAAAAAAAAIAAAABAAAAAAAAAAIAAAACAAAAAAAAAAEAAAACAAAAAAAAAAIAAAABAAAAAAAAAAEAAAACAAAAAAAAAAAAAAACAAAAAQAAAAEAAAAAAAAAAQAAAAAAAAAAAAAAAAAAAAIAAAACAAAAAAAAAAIAAAABAAAAAgAAAAIAAAAAAAAAAAAAAAAAAAACAAAAAAAAAAIAAAACAAAAAgAAAAAAAAACAAAAAQAAAAEAAAABAAAAAgAAAAIAAAACAAAAAAAAAAAAAAACAAAAAAAAAAEAAAAAAAAAAgAAAAAAAAAAAAAAAgAAAAAAAAAAAAAAAQAAAAIAAAAAAAAAAAAAAAIAAAAAAAAAAgAAAAEAAAACAAAAAAAAAAIAAAABAAAAAAAAAAEAAAACAAAAAQAAAAEAAAABAAAAAQAAAAEAAAAAAAAAAAAAAAEAAAABAAAAAgAAAAAAAAACAAAAAgAAAAIAAAABAAAAAgAAAAEAAAABAAAAAgAAAAAAAAABAAAAAgAAAAEAAAAAAAAAAgAAAAAAAAAAAAAAAgAAAAAAAAAAAAAAAgAAAAIAAAACAAAAAAAAAAAAAAACAAAAAAAAAAAAAAAAAAAAAAAAAAEAAAABAAAAAAAAAAIAAAAAAAAAAQAAAAAAAAACAAAAAAAAAAIAAAACAAAAAgAAAAIAAAACAAAAAAAAAAEAAAACAAAAAgAAAAIAAAABAAAAAgAAAAEAAAAAAAAAAAAAAAAAAAABAAAAAQAAAAAAAAABAAAAAQAAAAEAAAACAAAAAgAAAAEAAAAAAAAAAQAAAAAAAAABAAAAAAAAAAAAAAABAAAAAgAAAAAAAAABAAAAAAAAAAIAAAAAAAAAAgAAAAAAAAABAAAAAQAAAAAAAAACAAAAAAAAAAIAAAACAAAAAQAAAAAAAAACAAAAAQAAAAIAAAAAAAAAAAAAAAAAAAAAAAAAAQAAAAEAAAABAAAAAQAAAAIAAAABAAAAAQAAAAAAAAAAAAAAAAAAAAAAAAAAAAAAAgAAAAEAAAACAAAAAQAAAAAAAAAAAAAAAgAAAAAAAAABAAAAAAAAAAIAAAAAAAAAAAAAAAIAAAAAAAAAAAAAAAAAAAABAAAAAQAAAAEAAAABAAAAAgAAAAAAAAACAAAAAgAAAAIAAAABAAAAAQAAAAEAAAAAAAAAAAAAAAAAAAABAAAAAAAAAAAAAAABAAAAAAAAAAEAAAACAAAAAAAAAAIAAAABAAAAAAAAAAEAAAACAAAAAgAAAAAAAAACAAAAAAAAAAAAAAABAAAAAgAAAAIAAAAAAAAAAgAAAAEAAAABAAAAAAAAAAIAAAAAAAAAAQAAAAIAAAACAAAAAgAAAAAAAAABAAAAAAAAAAIAAAACAAAAAAAAAAAAAAABAAAAAAAAAAAAAAAAAAAAAAAAAAAAAAABAAAAAAAAAAEAAAABAAAAAgAAAAAAAAABAAAAAAAAAAAAAAAAAAAAAgAAAAIAAAAAAAAAAAAAAAEAAAABAAAAAQAAAAAAAAACAAAAAgAAAAIAAAABAAAAAgAAAAAAAAACAAAAAAAAAAIAAAABAAAAAgAAAAEAAAABAAAAAAAAAAEAAAAAAAAAAgAAAAAAAAAAAAAAAgAAAAEAAAABAAAAAgAAAAAAAAAAAAAAAQAAAAAAAAACAAAAAQAAAAIAAAAAAAAAAAAAAAEAAAAAAAAAAAAAAAAAAAAAAAAAAgAAAAAAAAACAAAAAQAAAAAAAAACAAAAAQAAAAEAAAACAAAAAQAAAAAAAAACAAAAAQAAAAAAAAAAAAAAAAAAAAIAAAACAAAAAAAAAAAAAAACAAAAAQAAAAEAAAACAAAAAgAAAAIAAAAAAAAAAQAAAAIAAAACAAAAAAAAAAEAAAAAAAAAAgAAAAIAAAAAAAAAAQAAAAIAAAAAAAAAAAAAAAEAAAABAAAAAQAAAAIAAAAAAAAAAQAAAAEAAAAAAAAAAQAAAAIAAAAAAAAAAQAAAAIAAAACAAAAAAAAAAAAAAACAAAAAgAAAAIAAAACAAAAAgAAAAIAAAACAAAAAAAAAAAAAAAAAAAAAAAAAAAAAAACAAAAAAAAAAAAAAAAAAAAAAAAAAEAAAACAAAAAgAAAAAAAAACAAAAAQAAAAIAAAAAAAAAAAAAAAAAAAABAAAAAAAAAAIAAAABAAAAAgAAAAAAAAABAAAAAAAAAAIAAAABAAAAAgAAAAAAAAABAAAAAAAAAAEAAAACAAAAAgAAAAEAAAAAAAAAAAAAAAIAAAACAAAAAQAAAAEAAAABAAAAAAAAAAAAAAAAAAAAAAAAAAAAAAACAAAAAAAAAAAAAAACAAAAAgAAAAAAAAACAAAAAQAAAAAAAAACAAAAAAAAAAAAAAACAAAAAAAAAAEAAAACAAAAAQAAAAIAAAABAAAAAgAAAAIAAAAAAAAAAgAAAAIAAAAAAAAAAgAAAAIAAAACAAAAAgAAAAIAAAAAAAAAAQAAAAEAAAAAAAAAAAAAAAAAAAABAAAAAQAAAAEAAAAAAAAAAAAAAAIAAAABAAAAAAAAAAEAAAABAAAAAgAAAAAAAAABAAAAAAAAAAAAAAAAAAAAAAAAAAIAAAAAAAAAAgAAAAAAAAABAAAAAAAAAAEAAAACAAAAAQAAAAAAAAAAAAAAAgAAAAEAAAAAAAAAAAAAAAAAAAAAAAAAAQAAAAAAAAACAAAAAAAAAAIAAAACAAAAAAAAAAEAAAACAAAAAQAAAAAAAAACAAAAAQAAAAEAAAABAAAAAAAAAAAAAAACAAAAAQAAAAIAAAACAAAAAAAAAAAAAAAAAAAAAAAAAAEAAAACAAAAAAAAAAAAAAAAAAAAAAAAAAAAAAAAAAAAAQAAAAEAAAAAAAAAAAAAAAIAAAABAAAAAAAAAAIAAAAAAAAAAAAAAAAAAAABAAAAAAAAAAIAAAABAAAAAgAAAAIAAAAAAAAAAgAAAAAAAAAAAAAAAgAAAAIAAAABAAAAAAAAAAIAAAAAAAAAAAAAAAEAAAACAAAAAgAAAAEAAAABAAAAAAAAAAEAAAABAAAAAAAAAAEAAAABAAAAAAAAAAEAAAACAAAAAAAAAAEAAAABAAAAAgAAAAEAAAAAAAAAAgAAAAEAAAACAAAAAAAAAAAAAAABAAAAAQAAAAAAAAABAAAAAAAAAAEAAAABAAAAAQAAAAEAAAAAAAAAAAAAAAAAAAACAAAAAgAAAAAAAAACAAAAAQAAAAEAAAABAAAAAAAAAAAAAAACAAAAAgAAAAIAAAABAAAAAAAAAAEAAAAAAAAAAgAAAAEAAAACAAAAAAAAAAEAAAABAAAAAAAAAAIAAAACAAAAAAAAAAAAAAABAAAAAAAAAAIAAAAAAAAAAAAAAAEAAAACAAAAAAAAAAEAAAAAAAAAAQAAAAAAAAACAAAAAAAAAAIAAAABAAAAAQAAAAIAAAACAAAAAAAAAAEAAAACAAAAAQAAAAAAAAABAAAAAgAAAAIAAAACAAAAAAAAAAEAAAAAAAAAAAAAAAEAAAACAAAAAgAAAAIAAAAAAAAAAQAAAAIAAAAAAAAAAAAAAAIAAAAAAAAAAQAAAAAAAAACAAAAAAAAAAEAAAABAAAAAgAAAAAAAAABAAAAAAAAAAAAAAAAAAAAAAAAAAAAAAACAAAAAQAAAAAAAAAAAAAAAgAAAAAAAAABAAAAAgAAAAEAAAAAAAAAAAAAAAIAAAABAAAAAQAAAAIAAAACAAAAAQAAAAEAAAACAAAAAAAAAAAAAAACAAAAAgAAAAAAAAAAAAAAAAAAAAIAAAACAAAAAAAAAAAAAAAAAAAAAgAAAAAAAAABAAAAAAAAAAIAAAABAAAAAgAAAAEAAAACAAAAAAAAAAAAAAAAAAAAAgAAAAEAAAABAAAAAAAAAAAAAAACAAAAAAAAAAAAAAAAAAAAAgAAAAAAAAACAAAAAQAAAAAAAAAAAAAAAQAAAAIAAAABAAAAAQAAAAEAAAABAAAAAgAAAAIAAAABAAAAAAAAAAIAAAACAAAAAQAAAAAAAAAAAAAAAAAAAAEAAAAAAAAAAgAAAAAAAAAAAAAAAQAAAAAAAAAAAAAAAAAAAAIAAAAAAAAAAQAAAAAAAAABAAAAAAAAAAIAAAAAAAAAAAAAAAIAAAABAAAAAAAAAAAAAAAAAAAAAgAAAAAAAAABAAAAAAAAAAEAAAAAAAAAAgAAAAEAAAACAAAAAAAAAAEAAAAAAAAAAQAAAAIAAAABAAAAAgAAAAAAAAABAAAAAgAAAAAAAAABAAAAAQAAAAAAAAACAAAAAQAAAAAAAAACAAAAAgAAAAIAAAABAAAAAAAAAAEAAAACAAAAAAAAAAEAAAABAAAAAgAAAAIAAAACAAAAAgAAAAIAAAAAAAAAAgAAAAAAAAACAAAAAAAAAAEAAAABAAAAAAAAAAIAAAACAAAAAAAAAAIAAAAAAAAAAgAAAAAAAAACAAAAAQAAAAAAAAAAAAAAAAAAAAAAAAABAAAAAgAAAAEAAAACAAAAAgAAAAIAAAACAAAAAQAAAAAAAAAAAAAAAAAAAAAAAAAAAAAAAAAAAAAAAAACAAAAAgAAAAEAAAAAAAAAAAAAAAIAAAACAAAAAQAAAAEAAAABAAAAAQAAAAAAAAACAAAAAAAAAAAAAAAAAAAAAQAAAAAAAAACAAAAAgAAAAIAAAAAAAAAAQAAAAAAAAAAAAAAAQAAAAIAAAAAAAAAAAAAAAEAAAACAAAAAAAAAAAAAAAAAAAAAAAAAAAAAAAAAAAAAQAAAAIAAAAAAAAAAgAAAAEAAAAAAAAAAAAAAAEAAAACAAAAAAAAAAAAAAACAAAAAgAAAAAAAAACAAAAAgAAAAAAAAABAAAAAAAAAAIAAAABAAAAAQAAAAIAAAABAAAAAQAAAAAAAAAAAAAAAgAAAAAAAAAAAAAAAAAAAAAAAAABAAAAAgAAAAIAAAABAAAAAgAAAAEAAAACAAAAAAAAAAIAAAAAAAAAAQAAAAIAAAABAAAAAAAAAAIAAAABAAAAAQAAAAAAAAAAAAAAAAAAAAEAAAAAAAAAAgAAAAEAAAABAAAAAAAAAAIAAAACAAAAAQAAAAAAAAABAAAAAQAAAAEAAAACAAAAAAAAAAEAAAAAAAAAAAAAAAEAAAAAAAAAAQAAAAIAAAACAAAAAgAAAAAAAAAAAAAAAQAAAAAAAAACAAAAAAAAAAAAAAACAAAAAQAAAAIAAAACAAAAAAAAAAIAAAACAAAAAAAAAAIAAAABAAAAAQAAAAAAAAACAAAAAAAAAAEAAAACAAAAAgAAAAIAAAAAAAAAAgAAAAEAAAABAAAAAAAAAAIAAAAAAAAAAQAAAAEAAAABAAAAAAAAAAIAAAABAAAAAgAAAAIAAAACAAAAAAAAAAEAAAABAAAAAAAAAAIAAAABAAAAAQAAAAAAAAABAAAAAQAAAAAAAAABAAAAAQAAAAAAAAABAAAAAgAAAAAAAAAAAAAAAQAAAAAAAAAAAAAAAAAAAAAAAAACAAAAAAAAAAIAAAACAAAAAgAAAAEAAAAAAAAAAgAAAAAAAAAAAAAAAQAAAAIAAAACAAAAAQAAAAEAAAAAAAAAAQAAAAEAAAABAAAAAAAAAAEAAAABAAAAAgAAAAIAAAAAAAAAAAAAAAEAAAAAAAAAAAAAAAEAAAABAAAAAgAAAAAAAAAAAAAAAgAAAAAAAAACAAAAAQAAAAIAAAABAAAAAAAAAAEAAAABAAAAAQAAAAEAAAABAAAAAQAAAAAAAAAAAAAAAAAAAAEAAAAAAAAAAgAAAAIAAAACAAAAAAAAAAEAAAAAAAAAAQAAAAAAAAAAAAAAAgAAAAAAAAACAAAAAQAAAAAAAAAAAAAAAAAAAAIAAAACAAAAAAAAAAAAAAABAAAAAQAAAAAAAAAAAAAAAAAAAAIAAAABAAAAAAAAAAAAAAABAAAAAAAAAAAAAAAAAAAAAAAAAAAAAAABAAAAAAAAAAEAAAACAAAAAgAAAAEAAAABAAAAAQAAAAIAAAAAAAAAAQAAAAIAAAABAAAAAAAAAAIAAAAAAAAAAQAAAAEAAAAAAAAAAAAAAAIAAAAAAAAAAAAAAAAAAAAAAAAAAAAAAAAAAAABAAAAAQAAAAAAAAACAAAAAAAAAAAAAAACAAAAAAAAAAEAAAAAAAAAAQAAAAAAAAACAAAAAAAAAAEAAAAAAAAAAAAAAAIAAAAAAAAAAQAAAAAAAAAAAAAAAQAAAAAAAAACAAAAAAAAAAEAAAACAAAAAQAAAAAAAAACAAAAAgAAAAIAAAACAAAAAgAAAAEAAAAAAAAAAAAAAAAAAAABAAAAAAAAAAEAAAACAAAAAAAAAAAAAAACAAAAAAAAAAAAAAAAAAAAAQAAAAAAAAAAAAAAAAAAAAEAAAABAAAAAAAAAAAAAAACAAAAAAAAAAIAAAAAAAAAAgAAAAEAAAACAAAAAgAAAAAAAAACAAAAAQAAAAIAAAAAAAAAAQAAAAIAAAABAAAAAAAAAAAAAAACAAAAAgAAAAIAAAACAAAAAQAAAAIAAAACAAAAAQAAAAAAAAAAAAAAAgAAAAEAAAAAAAAAAgAAAAAAAAAAAAAAAgAAAAIAAAACAAAAAQAAAAIAAAAAAAAAAQAAAAIAAAAAAAAAAgAAAAAAAAACAAAAAQAAAAEAAAAAAAAAAAAAAAEAAAAAAAAAAQAAAAAAAAAAAAAAAAAAAAAAAAACAAAAAgAAAAIAAAABAAAAAAAAAAIAAAABAAAAAgAAAAIAAAAAAAAAAAAAAAIAAAAAAAAAAQAAAAEAAAABAAAAAAAAAAIAAAACAAAAAQAAAAIAAAAAAAAAAAAAAAAAAAACAAAAAQAAAAAAAAABAAAAAAAAAAIAAAAAAAAAAQAAAAEAAAAAAAAAAgAAAAIAAAAAAAAAAgAAAAAAAAABAAAAAgAAAAEAAAACAAAAAgAAAAAAAAABAAAAAAAAAAIAAAACAAAAAQAAAAIAAAAAAAAAAAAAAAAAAAACAAAAAQAAAAEAAAABAAAAAQAAAAEAAAABAAAAAAAAAAAAAAAAAAAAAAAAAAIAAAACAAAAAgAAAAIAAAABAAAAAQAAAAIAAAABAAAAAQAAAAIAAAABAAAAAAAAAAAAAAAAAAAAAgAAAAAAAAACAAAAAAAAAAIAAAABAAAAAgAAAAAAAAABAAAAAgAAAAAAAAAAAAAAAAAAAAAAAAACAAAAAQAAAAEAAAAAAAAAAgAAAAAAAAAAAAAAAgAAAAEAAAACAAAAAAAAAAIAAAAAAAAAAAAAAAAAAAAAAAAAAQAAAAAAAAACAAAAAQAAAAAAAAACAAAAAAAAAAEAAAACAAAAAgAAAAAAAAAAAAAAAAAAAAAAAAACAAAAAgAAAAIAAAABAAAAAQAAAAAAAAACAAAAAgAAAAEAAAABAAAAAQAAAAAAAAABAAAAAQAAAAEAAAACAAAAAAAAAAIAAAAAAAAAAgAAAAAAAAAAAAAAAAAAAAIAAAABAAAAAAAAAAAAAAACAAAAAgAAAAEAAAACAAAAAQAAAAIAAAABAAAAAAAAAAEAAAACAAAAAgAAAAEAAAAAAAAAAAAAAAEAAAACAAAAAQAAAAAAAAAAAAAAAgAAAAIAAAAAAAAAAAAAAAIAAAAAAAAAAAAAAAAAAAABAAAAAgAAAAAAAAABAAAAAgAAAAIAAAAAAAAAAAAAAAEAAAABAAAAAQAAAAEAAAACAAAAAAAAAAAAAAAAAAAAAgAAAAIAAAACAAAAAQAAAAEAAAABAAAAAgAAAAEAAAACAAAAAQAAAAIAAAAAAAAAAQAAAAAAAAAAAAAAAAAAAAAAAAACAAAAAgAAAAIAAAABAAAAAAAAAAAAAAABAAAAAAAAAAAAAAAAAAAAAQAAAAIAAAAAAAAAAQAAAAAAAAABAAAAAQAAAAAAAAABAAAAAAAAAAAAAAAAAAAAAgAAAAEAAAABAAAAAQAAAAIAAAAAAAAAAAAAAAAAAAACAAAAAQAAAAIAAAACAAAAAAAAAAEAAAAAAAAAAQAAAAAAAAABAAAAAgAAAAIAAAAAAAAAAgAAAAIAAAAAAAAAAAAAAAAAAAAAAAAAAAAAAAIAAAACAAAAAgAAAAIAAAAAAAAAAAAAAAAAAAABAAAAAgAAAAEAAAACAAAAAAAAAAEAAAACAAAAAgAAAAEAAAABAAAAAAAAAAEAAAABAAAAAQAAAAAAAAAAAAAAAQAAAAIAAAACAAAAAgAAAAIAAAAAAAAAAQAAAAEAAAAAAAAAAgAAAAAAAAAAAAAAAQAAAAEAAAAAAAAAAgAAAAIAAAAAAAAAAgAAAAIAAAAAAAAAAQAAAAIAAAABAAAAAQAAAAIAAAABAAAAAQAAAAIAAAABAAAAAgAAAAEAAAACAAAAAgAAAAEAAAAAAAAAAgAAAAEAAAABAAAAAAAAAAIAAAAAAAAAAAAAAAEAAAACAAAAAAAAAAAAAAACAAAAAgAAAAEAAAABAAAAAAAAAAIAAAACAAAAAgAAAAAAAAABAAAAAAAAAAAAAAA=",
           "dtype": "i4"
          }
         },
         "mode": "markers",
         "name": "Segments",
         "showlegend": false,
         "type": "scatter",
         "x": {
          "bdata": "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",
          "dtype": "i1"
         },
         "xaxis": "x",
         "y": {
          "bdata": "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",
          "dtype": "f8"
         },
         "yaxis": "y"
        },
        {
         "marker": {
          "color": {
           "bdata": "AQAAAAEAAAACAAAAAgAAAAAAAAAAAAAAAQAAAAEAAAABAAAAAgAAAAIAAAABAAAAAAAAAAIAAAAAAAAAAAAAAAAAAAACAAAAAQAAAAAAAAABAAAAAQAAAAIAAAAAAAAAAQAAAAIAAAACAAAAAAAAAAAAAAACAAAAAgAAAAAAAAABAAAAAgAAAAEAAAAAAAAAAAAAAAAAAAACAAAAAgAAAAEAAAACAAAAAAAAAAIAAAACAAAAAQAAAAEAAAACAAAAAgAAAAEAAAACAAAAAAAAAAEAAAACAAAAAQAAAAIAAAAAAAAAAQAAAAAAAAABAAAAAQAAAAIAAAAAAAAAAgAAAAAAAAAAAAAAAgAAAAAAAAABAAAAAAAAAAAAAAABAAAAAAAAAAIAAAACAAAAAAAAAAIAAAABAAAAAAAAAAIAAAABAAAAAQAAAAAAAAAAAAAAAQAAAAAAAAABAAAAAAAAAAAAAAACAAAAAAAAAAAAAAACAAAAAAAAAAAAAAACAAAAAQAAAAIAAAAAAAAAAAAAAAIAAAABAAAAAgAAAAAAAAABAAAAAAAAAAEAAAAAAAAAAQAAAAAAAAABAAAAAAAAAAIAAAACAAAAAAAAAAIAAAACAAAAAAAAAAAAAAACAAAAAQAAAAAAAAABAAAAAQAAAAAAAAABAAAAAgAAAAEAAAAAAAAAAgAAAAIAAAAAAAAAAQAAAAAAAAAAAAAAAgAAAAIAAAAAAAAAAQAAAAIAAAACAAAAAgAAAAAAAAAAAAAAAgAAAAEAAAABAAAAAQAAAAIAAAABAAAAAAAAAAIAAAABAAAAAQAAAAEAAAAAAAAAAgAAAAEAAAAAAAAAAQAAAAAAAAAAAAAAAAAAAAEAAAABAAAAAAAAAAAAAAAAAAAAAAAAAAAAAAABAAAAAQAAAAEAAAACAAAAAQAAAAAAAAABAAAAAQAAAAAAAAAAAAAAAgAAAAEAAAAAAAAAAQAAAAAAAAAAAAAAAgAAAAIAAAABAAAAAQAAAAAAAAAAAAAAAQAAAAAAAAABAAAAAQAAAAAAAAAAAAAAAQAAAAEAAAACAAAAAgAAAAEAAAAAAAAAAAAAAAAAAAAAAAAAAAAAAAIAAAAAAAAAAQAAAAEAAAAAAAAAAQAAAAEAAAAAAAAAAAAAAAEAAAABAAAAAQAAAAIAAAAAAAAAAAAAAAEAAAAAAAAAAAAAAAAAAAABAAAAAAAAAAAAAAAAAAAAAQAAAAAAAAABAAAAAgAAAAAAAAACAAAAAQAAAAAAAAAAAAAAAAAAAAAAAAACAAAAAAAAAAAAAAACAAAAAgAAAAEAAAAAAAAAAQAAAAAAAAABAAAAAgAAAAIAAAACAAAAAgAAAAAAAAABAAAAAAAAAAEAAAABAAAAAgAAAAIAAAABAAAAAQAAAAAAAAACAAAAAQAAAAAAAAACAAAAAAAAAAEAAAACAAAAAAAAAAEAAAAAAAAAAAAAAAIAAAAAAAAAAQAAAAIAAAABAAAAAAAAAAIAAAAAAAAAAgAAAAAAAAABAAAAAQAAAAAAAAABAAAAAAAAAAIAAAACAAAAAgAAAAAAAAAAAAAAAQAAAAEAAAACAAAAAAAAAAAAAAABAAAAAQAAAAEAAAAAAAAAAAAAAAIAAAAAAAAAAAAAAAIAAAACAAAAAQAAAAIAAAABAAAAAAAAAAAAAAAAAAAAAAAAAAAAAAACAAAAAAAAAAEAAAAAAAAAAQAAAAAAAAACAAAAAQAAAAAAAAAAAAAAAgAAAAAAAAAAAAAAAAAAAAIAAAAAAAAAAAAAAAIAAAAAAAAAAgAAAAIAAAABAAAAAQAAAAIAAAABAAAAAQAAAAEAAAAAAAAAAgAAAAIAAAABAAAAAAAAAAIAAAACAAAAAAAAAAIAAAACAAAAAQAAAAAAAAABAAAAAAAAAAIAAAAAAAAAAgAAAAIAAAABAAAAAAAAAAIAAAABAAAAAgAAAAAAAAACAAAAAgAAAAAAAAABAAAAAAAAAAEAAAABAAAAAQAAAAAAAAAAAAAAAAAAAAIAAAAAAAAAAAAAAAEAAAABAAAAAgAAAAIAAAACAAAAAgAAAAEAAAAAAAAAAAAAAAAAAAABAAAAAgAAAAEAAAACAAAAAAAAAAAAAAABAAAAAgAAAAIAAAAAAAAAAAAAAAEAAAAAAAAAAAAAAAIAAAACAAAAAgAAAAIAAAABAAAAAAAAAAAAAAAAAAAAAQAAAAIAAAABAAAAAAAAAAEAAAABAAAAAgAAAAAAAAABAAAAAQAAAAEAAAAAAAAAAgAAAAAAAAABAAAAAQAAAAEAAAAAAAAAAgAAAAEAAAAAAAAAAgAAAAIAAAABAAAAAQAAAAAAAAAAAAAAAgAAAAIAAAACAAAAAAAAAAAAAAAAAAAAAQAAAAIAAAAAAAAAAAAAAAAAAAABAAAAAQAAAAEAAAAAAAAAAQAAAAEAAAAAAAAAAAAAAAAAAAAAAAAAAQAAAAEAAAAAAAAAAQAAAAIAAAABAAAAAQAAAAAAAAAAAAAAAQAAAAEAAAABAAAAAQAAAAAAAAABAAAAAAAAAAAAAAAAAAAAAgAAAAEAAAAAAAAAAQAAAAIAAAABAAAAAAAAAAAAAAABAAAAAgAAAAEAAAACAAAAAQAAAAEAAAABAAAAAAAAAAIAAAAAAAAAAgAAAAIAAAABAAAAAQAAAAEAAAAAAAAAAAAAAAEAAAAAAAAAAAAAAAIAAAABAAAAAAAAAAEAAAACAAAAAgAAAAAAAAAAAAAAAAAAAAEAAAACAAAAAAAAAAIAAAAAAAAAAQAAAAEAAAACAAAAAgAAAAAAAAAAAAAAAAAAAAAAAAAAAAAAAgAAAAIAAAABAAAAAAAAAAEAAAACAAAAAgAAAAIAAAABAAAAAQAAAAIAAAACAAAAAQAAAAAAAAABAAAAAQAAAAAAAAAAAAAAAAAAAAEAAAAAAAAAAAAAAAAAAAAAAAAAAAAAAAAAAAABAAAAAAAAAAAAAAABAAAAAQAAAAAAAAAAAAAAAQAAAAEAAAABAAAAAgAAAAAAAAAAAAAAAAAAAAIAAAAAAAAAAgAAAAEAAAAAAAAAAAAAAAIAAAABAAAAAgAAAAAAAAABAAAAAAAAAAIAAAAAAAAAAgAAAAIAAAACAAAAAgAAAAAAAAABAAAAAAAAAAAAAAABAAAAAAAAAAAAAAABAAAAAAAAAAEAAAACAAAAAQAAAAIAAAAAAAAAAgAAAAIAAAACAAAAAAAAAAEAAAABAAAAAAAAAAAAAAACAAAAAgAAAAAAAAAAAAAAAQAAAAEAAAACAAAAAQAAAAEAAAABAAAAAgAAAAIAAAACAAAAAQAAAAEAAAABAAAAAgAAAAIAAAAAAAAAAQAAAAAAAAAAAAAAAgAAAAIAAAACAAAAAAAAAAEAAAABAAAAAQAAAAAAAAABAAAAAgAAAAEAAAABAAAAAAAAAAIAAAACAAAAAgAAAAAAAAAAAAAAAAAAAAAAAAAAAAAAAgAAAAAAAAAAAAAAAgAAAAIAAAAAAAAAAAAAAAAAAAABAAAAAQAAAAAAAAAAAAAAAgAAAAEAAAACAAAAAQAAAAAAAAACAAAAAAAAAAEAAAABAAAAAQAAAAIAAAAAAAAAAAAAAAAAAAAAAAAAAgAAAAIAAAABAAAAAgAAAAEAAAABAAAAAQAAAAIAAAAAAAAAAQAAAAEAAAAAAAAAAgAAAAAAAAABAAAAAQAAAAEAAAABAAAAAAAAAAEAAAABAAAAAAAAAAEAAAAAAAAAAQAAAAEAAAAAAAAAAAAAAAAAAAABAAAAAAAAAAIAAAAAAAAAAAAAAAEAAAACAAAAAAAAAAEAAAACAAAAAgAAAAAAAAAAAAAAAAAAAAIAAAABAAAAAQAAAAEAAAACAAAAAQAAAAAAAAAAAAAAAAAAAAAAAAACAAAAAQAAAAIAAAAAAAAAAQAAAAIAAAACAAAAAgAAAAEAAAACAAAAAgAAAAAAAAAAAAAAAQAAAAAAAAAAAAAAAAAAAAEAAAACAAAAAQAAAAAAAAACAAAAAgAAAAIAAAABAAAAAgAAAAAAAAACAAAAAQAAAAAAAAAAAAAAAgAAAAAAAAAAAAAAAgAAAAEAAAABAAAAAQAAAAEAAAABAAAAAQAAAAAAAAAAAAAAAQAAAAAAAAABAAAAAAAAAAEAAAABAAAAAAAAAAAAAAABAAAAAAAAAAEAAAABAAAAAQAAAAEAAAAAAAAAAAAAAAAAAAACAAAAAAAAAAIAAAACAAAAAQAAAAEAAAABAAAAAAAAAAEAAAABAAAAAAAAAAIAAAACAAAAAQAAAAAAAAAAAAAAAgAAAAEAAAABAAAAAAAAAAEAAAABAAAAAQAAAAAAAAACAAAAAAAAAAEAAAACAAAAAAAAAAAAAAABAAAAAAAAAAEAAAAAAAAAAgAAAAIAAAACAAAAAAAAAAAAAAAAAAAAAQAAAAAAAAABAAAAAAAAAAAAAAAAAAAAAQAAAAIAAAABAAAAAQAAAAEAAAAAAAAAAgAAAAIAAAABAAAAAAAAAAAAAAAAAAAAAQAAAAAAAAACAAAAAgAAAAIAAAAAAAAAAQAAAAAAAAACAAAAAAAAAAAAAAAAAAAAAgAAAAIAAAAAAAAAAgAAAAIAAAAAAAAAAAAAAAAAAAACAAAAAQAAAAEAAAABAAAAAgAAAAEAAAACAAAAAAAAAAAAAAAAAAAAAAAAAAIAAAAAAAAAAAAAAAEAAAAAAAAAAgAAAAAAAAAAAAAAAAAAAAEAAAAAAAAAAAAAAAEAAAACAAAAAgAAAAEAAAACAAAAAQAAAAIAAAAAAAAAAAAAAAEAAAACAAAAAQAAAAAAAAAAAAAAAAAAAAEAAAACAAAAAgAAAAEAAAACAAAAAgAAAAIAAAAAAAAAAgAAAAAAAAACAAAAAAAAAAEAAAAAAAAAAQAAAAEAAAACAAAAAQAAAAEAAAABAAAAAQAAAAAAAAABAAAAAAAAAAAAAAAAAAAAAAAAAAAAAAABAAAAAAAAAAEAAAABAAAAAAAAAAAAAAABAAAAAgAAAAIAAAABAAAAAQAAAAEAAAACAAAAAgAAAAEAAAACAAAAAQAAAAIAAAAAAAAAAgAAAAIAAAAAAAAAAgAAAAEAAAABAAAAAAAAAAIAAAACAAAAAgAAAAEAAAAAAAAAAAAAAAAAAAABAAAAAAAAAAIAAAABAAAAAgAAAAEAAAABAAAAAAAAAAEAAAAAAAAAAgAAAAEAAAAAAAAAAAAAAAEAAAAAAAAAAAAAAAAAAAAAAAAAAQAAAAIAAAABAAAAAAAAAAEAAAAAAAAAAAAAAAIAAAAAAAAAAAAAAAEAAAABAAAAAgAAAAIAAAABAAAAAQAAAAEAAAABAAAAAQAAAAEAAAACAAAAAAAAAAIAAAAAAAAAAAAAAAIAAAAAAAAAAAAAAAEAAAAAAAAAAQAAAAAAAAACAAAAAAAAAAAAAAABAAAAAAAAAAEAAAABAAAAAgAAAAEAAAAAAAAAAgAAAAAAAAABAAAAAgAAAAIAAAAAAAAAAgAAAAEAAAACAAAAAQAAAAAAAAABAAAAAQAAAAAAAAACAAAAAAAAAAIAAAABAAAAAQAAAAAAAAAAAAAAAQAAAAIAAAAAAAAAAgAAAAEAAAAAAAAAAgAAAAEAAAACAAAAAAAAAAIAAAACAAAAAgAAAAAAAAABAAAAAAAAAAAAAAABAAAAAgAAAAIAAAAAAAAAAgAAAAEAAAACAAAAAQAAAAAAAAACAAAAAQAAAAEAAAACAAAAAAAAAAAAAAABAAAAAQAAAAEAAAAAAAAAAgAAAAAAAAABAAAAAgAAAAAAAAACAAAAAQAAAAEAAAACAAAAAQAAAAIAAAAAAAAAAAAAAAIAAAABAAAAAAAAAAIAAAAAAAAAAAAAAAAAAAAAAAAAAAAAAAEAAAACAAAAAgAAAAIAAAACAAAAAQAAAAAAAAACAAAAAQAAAAAAAAABAAAAAQAAAAEAAAAAAAAAAAAAAAIAAAABAAAAAgAAAAAAAAAAAAAAAQAAAAIAAAACAAAAAQAAAAIAAAAAAAAAAQAAAAEAAAABAAAAAQAAAAAAAAACAAAAAAAAAAAAAAAAAAAAAgAAAAAAAAABAAAAAQAAAAIAAAABAAAAAgAAAAIAAAAAAAAAAQAAAAIAAAACAAAAAgAAAAIAAAACAAAAAgAAAAEAAAACAAAAAQAAAAAAAAABAAAAAgAAAAAAAAAAAAAAAAAAAAIAAAABAAAAAgAAAAEAAAACAAAAAAAAAAEAAAACAAAAAAAAAAIAAAACAAAAAAAAAAEAAAABAAAAAAAAAAAAAAABAAAAAAAAAAIAAAAAAAAAAAAAAAIAAAAAAAAAAQAAAAAAAAAAAAAAAAAAAAIAAAABAAAAAQAAAAEAAAAAAAAAAAAAAAAAAAABAAAAAAAAAAEAAAACAAAAAAAAAAAAAAABAAAAAQAAAAIAAAABAAAAAQAAAAIAAAACAAAAAgAAAAAAAAABAAAAAQAAAAIAAAABAAAAAAAAAAAAAAAAAAAAAAAAAAAAAAACAAAAAAAAAAAAAAAAAAAAAAAAAAAAAAABAAAAAQAAAAIAAAABAAAAAgAAAAAAAAAAAAAAAQAAAAAAAAAAAAAAAgAAAAEAAAACAAAAAgAAAAEAAAAAAAAAAAAAAAAAAAACAAAAAQAAAAAAAAACAAAAAgAAAAIAAAAAAAAAAAAAAAAAAAAAAAAAAAAAAAAAAAABAAAAAgAAAAIAAAAAAAAAAAAAAAAAAAAAAAAAAQAAAAIAAAACAAAAAAAAAAAAAAAAAAAAAgAAAAEAAAACAAAAAAAAAAIAAAAAAAAAAAAAAAIAAAABAAAAAAAAAAAAAAAAAAAAAgAAAAEAAAABAAAAAAAAAAIAAAAAAAAAAgAAAAIAAAACAAAAAQAAAAAAAAABAAAAAAAAAAEAAAAAAAAAAQAAAAIAAAABAAAAAAAAAAAAAAACAAAAAAAAAAEAAAACAAAAAQAAAAAAAAABAAAAAQAAAAIAAAAAAAAAAgAAAAIAAAABAAAAAQAAAAEAAAAAAAAAAAAAAAEAAAAAAAAAAQAAAAEAAAABAAAAAQAAAAIAAAABAAAAAAAAAAIAAAAAAAAAAgAAAAAAAAABAAAAAQAAAAEAAAABAAAAAQAAAAAAAAAAAAAAAgAAAAAAAAAAAAAAAAAAAAIAAAACAAAAAQAAAAEAAAAAAAAAAgAAAAAAAAABAAAAAQAAAAAAAAABAAAAAQAAAAAAAAACAAAAAAAAAAEAAAAAAAAAAAAAAAEAAAACAAAAAAAAAAEAAAAAAAAAAgAAAAAAAAABAAAAAQAAAAEAAAACAAAAAAAAAAIAAAAAAAAAAAAAAAAAAAABAAAAAAAAAAAAAAAAAAAAAAAAAAAAAAACAAAAAAAAAAIAAAACAAAAAQAAAAAAAAAAAAAAAQAAAAIAAAAAAAAAAgAAAAAAAAABAAAAAAAAAAIAAAAAAAAAAQAAAAAAAAAAAAAAAQAAAAEAAAABAAAAAQAAAAAAAAAAAAAAAAAAAAAAAAAAAAAAAgAAAAEAAAACAAAAAAAAAAIAAAAAAAAAAQAAAAIAAAAAAAAAAQAAAAAAAAACAAAAAAAAAAAAAAAAAAAAAgAAAAIAAAAAAAAAAgAAAAEAAAACAAAAAQAAAAEAAAAAAAAAAgAAAAEAAAAAAAAAAAAAAAAAAAACAAAAAQAAAAAAAAABAAAAAAAAAAEAAAAAAAAAAAAAAAIAAAACAAAAAAAAAAAAAAAAAAAAAAAAAAIAAAABAAAAAQAAAAEAAAACAAAAAgAAAAEAAAABAAAAAgAAAAEAAAACAAAAAQAAAAAAAAABAAAAAAAAAAEAAAABAAAAAgAAAAAAAAAAAAAAAAAAAAEAAAAAAAAAAgAAAAAAAAACAAAAAQAAAAAAAAABAAAAAAAAAAIAAAABAAAAAgAAAAAAAAAAAAAAAgAAAAAAAAABAAAAAAAAAAAAAAACAAAAAgAAAAAAAAABAAAAAQAAAAAAAAAAAAAAAQAAAAIAAAAAAAAAAgAAAAEAAAAAAAAAAAAAAAEAAAABAAAAAQAAAAIAAAABAAAAAQAAAAEAAAACAAAAAQAAAAAAAAAAAAAAAQAAAAIAAAABAAAAAAAAAAIAAAACAAAAAAAAAAAAAAAAAAAAAgAAAAAAAAAAAAAAAAAAAAIAAAAAAAAAAAAAAAEAAAAAAAAAAgAAAAAAAAACAAAAAAAAAAAAAAAAAAAAAAAAAAEAAAACAAAAAAAAAAEAAAAAAAAAAgAAAAAAAAACAAAAAAAAAAAAAAABAAAAAQAAAAAAAAABAAAAAQAAAAAAAAACAAAAAQAAAAIAAAAAAAAAAgAAAAEAAAAAAAAAAQAAAAIAAAAAAAAAAQAAAAAAAAAAAAAAAAAAAAIAAAAAAAAAAgAAAAEAAAABAAAAAgAAAAIAAAAAAAAAAAAAAAIAAAAAAAAAAAAAAAIAAAAAAAAAAAAAAAIAAAACAAAAAQAAAAAAAAAAAAAAAAAAAAEAAAABAAAAAAAAAAEAAAACAAAAAgAAAAAAAAACAAAAAAAAAAAAAAACAAAAAAAAAAEAAAAAAAAAAQAAAAAAAAAAAAAAAAAAAAAAAAACAAAAAAAAAAAAAAABAAAAAAAAAAIAAAACAAAAAQAAAAAAAAAAAAAAAgAAAAIAAAAAAAAAAQAAAAAAAAAAAAAAAgAAAAEAAAACAAAAAgAAAAEAAAABAAAAAgAAAAAAAAAAAAAAAQAAAAIAAAACAAAAAQAAAAAAAAACAAAAAgAAAAAAAAAAAAAAAAAAAAAAAAAAAAAAAQAAAAEAAAAAAAAAAAAAAAAAAAABAAAAAgAAAAAAAAACAAAAAgAAAAAAAAAAAAAAAAAAAAEAAAABAAAAAgAAAAIAAAACAAAAAAAAAAAAAAAAAAAAAQAAAAIAAAAAAAAAAQAAAAEAAAABAAAAAgAAAAIAAAAAAAAAAQAAAAEAAAAAAAAAAQAAAAIAAAAAAAAAAAAAAAAAAAAAAAAAAAAAAAAAAAABAAAAAAAAAAIAAAABAAAAAQAAAAIAAAAAAAAAAQAAAAAAAAAAAAAAAAAAAAEAAAAAAAAAAgAAAAAAAAAAAAAAAAAAAAEAAAACAAAAAgAAAAEAAAACAAAAAAAAAAEAAAABAAAAAQAAAAAAAAAAAAAAAAAAAAEAAAACAAAAAAAAAAEAAAAAAAAAAAAAAAIAAAABAAAAAAAAAAEAAAAAAAAAAAAAAAAAAAABAAAAAgAAAAEAAAABAAAAAAAAAAAAAAACAAAAAQAAAAIAAAABAAAAAQAAAAEAAAABAAAAAgAAAAEAAAACAAAAAAAAAAAAAAAAAAAAAAAAAAAAAAAAAAAAAgAAAAEAAAABAAAAAQAAAAAAAAACAAAAAgAAAAAAAAAAAAAAAgAAAAIAAAABAAAAAgAAAAAAAAAAAAAAAAAAAAAAAAAAAAAAAAAAAAAAAAABAAAAAQAAAAEAAAABAAAAAQAAAAAAAAABAAAAAQAAAAIAAAAAAAAAAQAAAAIAAAACAAAAAQAAAAEAAAAAAAAAAgAAAAAAAAAAAAAAAgAAAAAAAAABAAAAAAAAAAEAAAACAAAAAQAAAAAAAAABAAAAAQAAAAIAAAAAAAAAAAAAAAEAAAACAAAAAQAAAAAAAAACAAAAAgAAAAIAAAAAAAAAAAAAAAEAAAAAAAAAAAAAAAEAAAAAAAAAAAAAAAAAAAACAAAAAAAAAAEAAAAAAAAAAAAAAAAAAAABAAAAAAAAAAAAAAAAAAAAAQAAAAIAAAACAAAAAAAAAAIAAAAAAAAAAAAAAAIAAAABAAAAAgAAAAEAAAABAAAAAgAAAAAAAAABAAAAAQAAAAEAAAAAAAAAAgAAAAAAAAACAAAAAQAAAAEAAAACAAAAAQAAAAEAAAABAAAAAAAAAAAAAAACAAAAAQAAAAAAAAAAAAAAAQAAAAAAAAAAAAAAAgAAAAAAAAAAAAAAAgAAAAAAAAABAAAAAQAAAAIAAAABAAAAAAAAAAAAAAAAAAAAAgAAAAEAAAAAAAAAAgAAAAEAAAAAAAAAAAAAAAAAAAAAAAAAAQAAAAEAAAACAAAAAgAAAAIAAAABAAAAAQAAAAIAAAABAAAAAQAAAAEAAAABAAAAAgAAAAAAAAACAAAAAQAAAAIAAAABAAAAAAAAAAAAAAABAAAAAQAAAAAAAAAAAAAAAAAAAAIAAAAAAAAAAQAAAAAAAAACAAAAAQAAAAAAAAAAAAAAAAAAAAIAAAACAAAAAgAAAAAAAAABAAAAAAAAAAAAAAABAAAAAAAAAAEAAAAAAAAAAgAAAAAAAAABAAAAAgAAAAAAAAABAAAAAgAAAAAAAAACAAAAAQAAAAEAAAAAAAAAAAAAAAIAAAABAAAAAAAAAAIAAAACAAAAAgAAAAEAAAACAAAAAQAAAAIAAAAAAAAAAAAAAAAAAAACAAAAAQAAAAAAAAACAAAAAgAAAAAAAAAAAAAAAQAAAAAAAAABAAAAAQAAAAAAAAAAAAAAAAAAAAIAAAACAAAAAAAAAAAAAAACAAAAAAAAAAAAAAABAAAAAgAAAAIAAAABAAAAAAAAAAIAAAAAAAAAAAAAAAAAAAACAAAAAQAAAAEAAAAAAAAAAAAAAAEAAAABAAAAAAAAAAIAAAABAAAAAgAAAAAAAAAAAAAAAgAAAAIAAAABAAAAAQAAAAIAAAACAAAAAQAAAAEAAAAAAAAAAgAAAAIAAAAAAAAAAQAAAAAAAAABAAAAAgAAAAEAAAACAAAAAAAAAAEAAAABAAAAAQAAAAIAAAAAAAAAAgAAAAAAAAACAAAAAAAAAAAAAAACAAAAAgAAAAAAAAAAAAAAAQAAAAAAAAAAAAAAAAAAAAAAAAAAAAAAAAAAAAAAAAABAAAAAAAAAAAAAAAAAAAAAgAAAAAAAAACAAAAAAAAAAAAAAABAAAAAQAAAAAAAAAAAAAAAgAAAAAAAAAAAAAAAAAAAAEAAAABAAAAAQAAAAEAAAAAAAAAAAAAAAEAAAACAAAAAAAAAAIAAAACAAAAAgAAAAIAAAACAAAAAAAAAAEAAAAAAAAAAQAAAAEAAAAAAAAAAQAAAAEAAAACAAAAAAAAAAAAAAACAAAAAAAAAAIAAAAAAAAAAAAAAAIAAAAAAAAAAQAAAAIAAAAAAAAAAQAAAAIAAAABAAAAAgAAAAIAAAAAAAAAAAAAAAAAAAAAAAAAAAAAAAEAAAACAAAAAQAAAAEAAAACAAAAAQAAAAAAAAAAAAAAAAAAAAAAAAABAAAAAQAAAAIAAAABAAAAAgAAAAIAAAAAAAAAAAAAAAIAAAABAAAAAgAAAAEAAAABAAAAAAAAAAIAAAABAAAAAgAAAAEAAAACAAAAAAAAAAEAAAABAAAAAQAAAAAAAAABAAAAAgAAAAAAAAACAAAAAgAAAAIAAAAAAAAAAAAAAAAAAAACAAAAAQAAAAAAAAAAAAAAAQAAAAEAAAAAAAAAAAAAAAEAAAAAAAAAAAAAAAAAAAACAAAAAAAAAAEAAAAAAAAAAAAAAAAAAAABAAAAAAAAAAAAAAAAAAAAAQAAAAIAAAACAAAAAAAAAAIAAAAAAAAAAAAAAAAAAAAAAAAAAAAAAAAAAAAAAAAAAQAAAAAAAAACAAAAAAAAAAEAAAABAAAAAgAAAAAAAAAAAAAAAAAAAAIAAAABAAAAAAAAAAEAAAACAAAAAAAAAAIAAAABAAAAAgAAAAEAAAAAAAAAAgAAAAIAAAACAAAAAgAAAAEAAAAAAAAAAgAAAAIAAAACAAAAAgAAAAEAAAAAAAAAAQAAAAEAAAAAAAAAAAAAAAAAAAAAAAAAAgAAAAEAAAACAAAAAAAAAAIAAAAAAAAAAAAAAAIAAAACAAAAAAAAAAAAAAACAAAAAgAAAAEAAAAAAAAAAAAAAAAAAAABAAAAAQAAAAEAAAAAAAAAAAAAAAAAAAACAAAAAgAAAAEAAAAAAAAAAQAAAAEAAAAAAAAAAQAAAAAAAAAAAAAAAAAAAAIAAAACAAAAAgAAAAIAAAACAAAAAgAAAAEAAAAAAAAAAQAAAAIAAAABAAAAAAAAAAAAAAABAAAAAAAAAAIAAAACAAAAAQAAAAAAAAAAAAAAAQAAAAIAAAAAAAAAAAAAAAAAAAACAAAAAQAAAAAAAAAAAAAAAAAAAAAAAAAAAAAAAgAAAAIAAAABAAAAAAAAAAIAAAAAAAAAAAAAAAEAAAABAAAAAQAAAAEAAAABAAAAAQAAAAAAAAAAAAAAAAAAAAAAAAAAAAAAAQAAAAAAAAACAAAAAQAAAAAAAAAAAAAAAQAAAAAAAAABAAAAAQAAAAAAAAAAAAAAAgAAAAEAAAAAAAAAAQAAAAIAAAAAAAAAAgAAAAAAAAACAAAAAgAAAAEAAAAAAAAAAQAAAAAAAAAAAAAAAQAAAAEAAAABAAAAAQAAAAIAAAAAAAAAAAAAAAEAAAABAAAAAAAAAAEAAAACAAAAAQAAAAEAAAABAAAAAQAAAAIAAAABAAAAAQAAAAAAAAAAAAAAAgAAAAEAAAABAAAAAgAAAAAAAAABAAAAAAAAAAAAAAABAAAAAQAAAAEAAAAAAAAAAAAAAAEAAAAAAAAAAgAAAAAAAAAAAAAAAgAAAAEAAAAAAAAAAgAAAAEAAAACAAAAAQAAAAEAAAAAAAAAAAAAAAIAAAABAAAAAAAAAAEAAAACAAAAAAAAAAIAAAAAAAAAAQAAAAIAAAABAAAAAQAAAAAAAAACAAAAAAAAAAIAAAABAAAAAAAAAAEAAAACAAAAAAAAAAEAAAACAAAAAgAAAAIAAAAAAAAAAgAAAAIAAAAAAAAAAAAAAAAAAAABAAAAAQAAAAEAAAABAAAAAAAAAAEAAAABAAAAAQAAAAIAAAAAAAAAAAAAAAAAAAAAAAAAAAAAAAAAAAABAAAAAAAAAAEAAAAAAAAAAgAAAAIAAAABAAAAAAAAAAAAAAAAAAAAAgAAAAIAAAACAAAAAgAAAAAAAAACAAAAAgAAAAAAAAABAAAAAAAAAAEAAAAAAAAAAAAAAAAAAAABAAAAAQAAAAIAAAACAAAAAQAAAAIAAAAAAAAAAAAAAAAAAAAAAAAAAgAAAAAAAAAAAAAAAAAAAAAAAAABAAAAAgAAAAEAAAAAAAAAAQAAAAIAAAAAAAAAAQAAAAEAAAABAAAAAAAAAAIAAAAAAAAAAAAAAAEAAAAAAAAAAAAAAAAAAAAAAAAAAAAAAAEAAAAAAAAAAAAAAAEAAAAAAAAAAQAAAAAAAAAAAAAAAQAAAAAAAAAAAAAAAQAAAAAAAAABAAAAAAAAAAAAAAABAAAAAAAAAAAAAAAAAAAAAAAAAAEAAAABAAAAAAAAAAEAAAABAAAAAAAAAAAAAAACAAAAAgAAAAAAAAABAAAAAAAAAAAAAAAAAAAAAQAAAAEAAAACAAAAAAAAAAEAAAACAAAAAQAAAAEAAAACAAAAAAAAAAAAAAACAAAAAgAAAAEAAAABAAAAAAAAAAAAAAABAAAAAAAAAAIAAAAAAAAAAAAAAAAAAAACAAAAAAAAAAEAAAACAAAAAgAAAAIAAAABAAAAAAAAAAIAAAAAAAAAAQAAAAAAAAACAAAAAAAAAAIAAAACAAAAAQAAAAAAAAAAAAAAAQAAAAIAAAABAAAAAAAAAAEAAAABAAAAAQAAAAIAAAACAAAAAAAAAAEAAAAAAAAAAAAAAAIAAAABAAAAAgAAAAAAAAACAAAAAAAAAAAAAAABAAAAAQAAAAAAAAAAAAAAAAAAAAIAAAAAAAAAAAAAAAAAAAACAAAAAAAAAAAAAAACAAAAAAAAAAIAAAABAAAAAQAAAAAAAAAAAAAAAQAAAAEAAAACAAAAAQAAAAAAAAACAAAAAgAAAAIAAAAAAAAAAgAAAAAAAAAAAAAAAgAAAAIAAAACAAAAAQAAAAIAAAACAAAAAAAAAAAAAAAAAAAAAgAAAAIAAAABAAAAAAAAAAAAAAAAAAAAAQAAAAAAAAABAAAAAAAAAAIAAAACAAAAAAAAAAEAAAACAAAAAQAAAAIAAAABAAAAAAAAAAAAAAACAAAAAQAAAAEAAAABAAAAAQAAAAEAAAACAAAAAgAAAAEAAAAAAAAAAQAAAAAAAAAAAAAAAgAAAAIAAAAAAAAAAAAAAAAAAAACAAAAAAAAAAAAAAABAAAAAQAAAAAAAAACAAAAAQAAAAIAAAABAAAAAQAAAAAAAAAAAAAAAAAAAAAAAAAAAAAAAAAAAAEAAAACAAAAAAAAAAEAAAAAAAAAAgAAAAAAAAAAAAAAAAAAAAAAAAACAAAAAAAAAAAAAAABAAAAAgAAAAIAAAACAAAAAgAAAAAAAAABAAAAAgAAAAIAAAABAAAAAQAAAAEAAAAAAAAAAgAAAAEAAAAAAAAAAQAAAAAAAAAAAAAAAAAAAAEAAAACAAAAAQAAAAAAAAABAAAAAAAAAAAAAAAAAAAAAAAAAAEAAAABAAAAAAAAAAAAAAACAAAAAAAAAAEAAAAAAAAAAQAAAAAAAAABAAAAAQAAAAIAAAACAAAAAAAAAAAAAAAAAAAAAQAAAAAAAAAAAAAAAAAAAAAAAAAAAAAAAQAAAAEAAAACAAAAAAAAAAAAAAAAAAAAAgAAAAAAAAAAAAAAAQAAAAEAAAACAAAAAAAAAAIAAAACAAAAAgAAAAIAAAACAAAAAAAAAAAAAAABAAAAAgAAAAEAAAACAAAAAAAAAAEAAAACAAAAAAAAAAEAAAAAAAAAAAAAAAAAAAABAAAAAAAAAAEAAAAAAAAAAgAAAAIAAAACAAAAAQAAAAEAAAAAAAAAAgAAAAAAAAABAAAAAgAAAAAAAAACAAAAAAAAAAEAAAABAAAAAAAAAAAAAAABAAAAAQAAAAEAAAAAAAAAAQAAAAAAAAAAAAAAAAAAAAAAAAACAAAAAAAAAAAAAAACAAAAAQAAAAIAAAABAAAAAAAAAAIAAAAAAAAAAgAAAAAAAAAAAAAAAAAAAAAAAAABAAAAAgAAAAEAAAAAAAAAAgAAAAAAAAAAAAAAAQAAAAEAAAAAAAAAAAAAAAEAAAABAAAAAAAAAAEAAAAAAAAAAAAAAAAAAAACAAAAAgAAAAAAAAACAAAAAAAAAAEAAAAAAAAAAAAAAAAAAAABAAAAAAAAAAIAAAAAAAAAAgAAAAEAAAABAAAAAAAAAAEAAAAAAAAAAQAAAAEAAAAAAAAAAAAAAAEAAAAAAAAAAAAAAAEAAAABAAAAAAAAAAEAAAACAAAAAAAAAAAAAAAAAAAAAgAAAAIAAAAAAAAAAAAAAAEAAAACAAAAAQAAAAEAAAACAAAAAAAAAAAAAAACAAAAAgAAAAEAAAAAAAAAAgAAAAAAAAAAAAAAAAAAAAEAAAABAAAAAAAAAAIAAAACAAAAAAAAAAIAAAAAAAAAAQAAAAAAAAAAAAAAAQAAAAIAAAACAAAAAAAAAAEAAAAAAAAAAAAAAAAAAAAAAAAAAgAAAAIAAAAAAAAAAgAAAAIAAAAAAAAAAQAAAAEAAAABAAAAAQAAAAIAAAACAAAAAgAAAAAAAAAAAAAAAgAAAAIAAAACAAAAAAAAAAAAAAAAAAAAAAAAAAAAAAAAAAAAAQAAAAAAAAAAAAAAAQAAAAAAAAACAAAAAQAAAAEAAAAAAAAAAAAAAAEAAAAAAAAAAgAAAAIAAAACAAAAAgAAAAAAAAAAAAAAAAAAAAAAAAACAAAAAgAAAAIAAAAAAAAAAAAAAAEAAAAAAAAAAgAAAAIAAAACAAAAAAAAAAEAAAABAAAAAQAAAAEAAAAAAAAAAQAAAAIAAAACAAAAAQAAAAAAAAABAAAAAgAAAAAAAAACAAAAAQAAAAIAAAAAAAAAAQAAAAAAAAABAAAAAAAAAAAAAAACAAAAAgAAAAIAAAABAAAAAQAAAAAAAAAAAAAAAQAAAAIAAAACAAAAAQAAAAEAAAACAAAAAgAAAAIAAAAAAAAAAQAAAAIAAAABAAAAAAAAAAAAAAABAAAAAgAAAAIAAAACAAAAAQAAAAEAAAAAAAAAAQAAAAEAAAACAAAAAgAAAAEAAAAAAAAAAAAAAAAAAAACAAAAAAAAAAAAAAABAAAAAAAAAAEAAAAAAAAAAQAAAAIAAAACAAAAAQAAAAIAAAACAAAAAQAAAAEAAAAAAAAAAgAAAAAAAAAAAAAAAAAAAAIAAAABAAAAAAAAAAEAAAABAAAAAQAAAAIAAAABAAAAAAAAAAIAAAAAAAAAAQAAAAEAAAABAAAAAgAAAAAAAAACAAAAAAAAAAAAAAABAAAAAAAAAAIAAAABAAAAAgAAAAAAAAAAAAAAAgAAAAIAAAAAAAAAAQAAAAEAAAAAAAAAAAAAAAIAAAACAAAAAgAAAAAAAAAAAAAAAAAAAAAAAAABAAAAAgAAAAIAAAAAAAAAAQAAAAAAAAACAAAAAgAAAAAAAAACAAAAAgAAAAAAAAACAAAAAgAAAAEAAAACAAAAAAAAAAAAAAABAAAAAAAAAAIAAAAAAAAAAQAAAAIAAAAAAAAAAQAAAAAAAAACAAAAAgAAAAEAAAAAAAAAAAAAAAEAAAABAAAAAAAAAAEAAAABAAAAAgAAAAEAAAACAAAAAgAAAAIAAAABAAAAAgAAAAIAAAABAAAAAAAAAAIAAAACAAAAAQAAAAEAAAAAAAAAAAAAAAAAAAACAAAAAQAAAAEAAAABAAAAAgAAAAAAAAACAAAAAAAAAAIAAAACAAAAAgAAAAAAAAAAAAAAAgAAAAAAAAAAAAAAAAAAAAEAAAAAAAAAAAAAAAAAAAACAAAAAQAAAAEAAAAAAAAAAAAAAAEAAAABAAAAAQAAAAIAAAACAAAAAQAAAAEAAAAAAAAAAgAAAAEAAAAAAAAAAAAAAAAAAAACAAAAAgAAAAIAAAAAAAAAAgAAAAIAAAAAAAAAAQAAAAAAAAAAAAAAAAAAAAAAAAAAAAAAAQAAAAEAAAAAAAAAAQAAAAEAAAAAAAAAAgAAAAAAAAAAAAAAAgAAAAEAAAABAAAAAgAAAAEAAAAAAAAAAAAAAAIAAAAAAAAAAAAAAAAAAAAAAAAAAgAAAAIAAAACAAAAAQAAAAAAAAACAAAAAAAAAAEAAAACAAAAAQAAAAAAAAAAAAAAAQAAAAEAAAAAAAAAAQAAAAAAAAABAAAAAAAAAAAAAAABAAAAAAAAAAAAAAACAAAAAAAAAAAAAAABAAAAAgAAAAAAAAACAAAAAAAAAAIAAAAAAAAAAQAAAAIAAAABAAAAAAAAAAIAAAACAAAAAgAAAAIAAAAAAAAAAgAAAAEAAAAAAAAAAgAAAAEAAAABAAAAAQAAAAAAAAACAAAAAQAAAAAAAAABAAAAAgAAAAAAAAACAAAAAQAAAAEAAAAAAAAAAAAAAAAAAAACAAAAAgAAAAIAAAAAAAAAAQAAAAAAAAACAAAAAgAAAAEAAAACAAAAAAAAAAAAAAAAAAAAAgAAAAEAAAAAAAAAAgAAAAIAAAAAAAAAAQAAAAEAAAABAAAAAQAAAAIAAAABAAAAAgAAAAEAAAABAAAAAQAAAAIAAAAAAAAAAAAAAAIAAAAAAAAAAgAAAAAAAAABAAAAAgAAAAAAAAABAAAAAAAAAAIAAAABAAAAAgAAAAEAAAAAAAAAAQAAAAAAAAACAAAAAAAAAAIAAAABAAAAAQAAAAAAAAACAAAAAAAAAAEAAAACAAAAAAAAAAIAAAAAAAAAAgAAAAIAAAAAAAAAAAAAAAAAAAACAAAAAQAAAAAAAAABAAAAAQAAAAIAAAAAAAAAAgAAAAEAAAABAAAAAQAAAAAAAAAAAAAAAQAAAAIAAAAAAAAAAgAAAAAAAAACAAAAAAAAAAEAAAABAAAAAQAAAAEAAAACAAAAAgAAAAEAAAAAAAAAAQAAAAIAAAACAAAAAQAAAAIAAAAAAAAAAgAAAAIAAAABAAAAAAAAAAIAAAABAAAAAAAAAAIAAAACAAAAAAAAAAEAAAACAAAAAAAAAAIAAAABAAAAAAAAAAEAAAACAAAAAAAAAAAAAAACAAAAAQAAAAEAAAAAAAAAAQAAAAAAAAAAAAAAAAAAAAIAAAACAAAAAAAAAAIAAAABAAAAAgAAAAIAAAAAAAAAAAAAAAAAAAACAAAAAAAAAAIAAAACAAAAAgAAAAAAAAACAAAAAQAAAAEAAAABAAAAAgAAAAIAAAACAAAAAAAAAAAAAAACAAAAAAAAAAEAAAAAAAAAAgAAAAAAAAAAAAAAAgAAAAAAAAAAAAAAAQAAAAIAAAAAAAAAAAAAAAIAAAAAAAAAAgAAAAEAAAACAAAAAAAAAAIAAAABAAAAAAAAAAEAAAACAAAAAQAAAAEAAAABAAAAAQAAAAEAAAAAAAAAAAAAAAEAAAABAAAAAgAAAAAAAAACAAAAAgAAAAIAAAABAAAAAgAAAAEAAAABAAAAAgAAAAAAAAABAAAAAgAAAAEAAAAAAAAAAgAAAAAAAAAAAAAAAgAAAAAAAAAAAAAAAgAAAAIAAAACAAAAAAAAAAAAAAACAAAAAAAAAAAAAAAAAAAAAAAAAAEAAAABAAAAAAAAAAIAAAAAAAAAAQAAAAAAAAACAAAAAAAAAAIAAAACAAAAAgAAAAIAAAACAAAAAAAAAAEAAAACAAAAAgAAAAIAAAABAAAAAgAAAAEAAAAAAAAAAAAAAAAAAAABAAAAAQAAAAAAAAABAAAAAQAAAAEAAAACAAAAAgAAAAEAAAAAAAAAAQAAAAAAAAABAAAAAAAAAAAAAAABAAAAAgAAAAAAAAABAAAAAAAAAAIAAAAAAAAAAgAAAAAAAAABAAAAAQAAAAAAAAACAAAAAAAAAAIAAAACAAAAAQAAAAAAAAACAAAAAQAAAAIAAAAAAAAAAAAAAAAAAAAAAAAAAQAAAAEAAAABAAAAAQAAAAIAAAABAAAAAQAAAAAAAAAAAAAAAAAAAAAAAAAAAAAAAgAAAAEAAAACAAAAAQAAAAAAAAAAAAAAAgAAAAAAAAABAAAAAAAAAAIAAAAAAAAAAAAAAAIAAAAAAAAAAAAAAAAAAAABAAAAAQAAAAEAAAABAAAAAgAAAAAAAAACAAAAAgAAAAIAAAABAAAAAQAAAAEAAAAAAAAAAAAAAAAAAAABAAAAAAAAAAAAAAABAAAAAAAAAAEAAAACAAAAAAAAAAIAAAABAAAAAAAAAAEAAAACAAAAAgAAAAAAAAACAAAAAAAAAAAAAAABAAAAAgAAAAIAAAAAAAAAAgAAAAEAAAABAAAAAAAAAAIAAAAAAAAAAQAAAAIAAAACAAAAAgAAAAAAAAABAAAAAAAAAAIAAAACAAAAAAAAAAAAAAABAAAAAAAAAAAAAAAAAAAAAAAAAAAAAAABAAAAAAAAAAEAAAABAAAAAgAAAAAAAAABAAAAAAAAAAAAAAAAAAAAAgAAAAIAAAAAAAAAAAAAAAEAAAABAAAAAQAAAAAAAAACAAAAAgAAAAIAAAABAAAAAgAAAAAAAAACAAAAAAAAAAIAAAABAAAAAgAAAAEAAAABAAAAAAAAAAEAAAAAAAAAAgAAAAAAAAAAAAAAAgAAAAEAAAABAAAAAgAAAAAAAAAAAAAAAQAAAAAAAAACAAAAAQAAAAIAAAAAAAAAAAAAAAEAAAAAAAAAAAAAAAAAAAAAAAAAAgAAAAAAAAACAAAAAQAAAAAAAAACAAAAAQAAAAEAAAACAAAAAQAAAAAAAAACAAAAAQAAAAAAAAAAAAAAAAAAAAIAAAACAAAAAAAAAAAAAAACAAAAAQAAAAEAAAACAAAAAgAAAAIAAAAAAAAAAQAAAAIAAAACAAAAAAAAAAEAAAAAAAAAAgAAAAIAAAAAAAAAAQAAAAIAAAAAAAAAAAAAAAEAAAABAAAAAQAAAAIAAAAAAAAAAQAAAAEAAAAAAAAAAQAAAAIAAAAAAAAAAQAAAAIAAAACAAAAAAAAAAAAAAACAAAAAgAAAAIAAAACAAAAAgAAAAIAAAACAAAAAAAAAAAAAAAAAAAAAAAAAAAAAAACAAAAAAAAAAAAAAAAAAAAAAAAAAEAAAACAAAAAgAAAAAAAAACAAAAAQAAAAIAAAAAAAAAAAAAAAAAAAABAAAAAAAAAAIAAAABAAAAAgAAAAAAAAABAAAAAAAAAAIAAAABAAAAAgAAAAAAAAABAAAAAAAAAAEAAAACAAAAAgAAAAEAAAAAAAAAAAAAAAIAAAACAAAAAQAAAAEAAAABAAAAAAAAAAAAAAAAAAAAAAAAAAAAAAACAAAAAAAAAAAAAAACAAAAAgAAAAAAAAACAAAAAQAAAAAAAAACAAAAAAAAAAAAAAACAAAAAAAAAAEAAAACAAAAAQAAAAIAAAABAAAAAgAAAAIAAAAAAAAAAgAAAAIAAAAAAAAAAgAAAAIAAAACAAAAAgAAAAIAAAAAAAAAAQAAAAEAAAAAAAAAAAAAAAAAAAABAAAAAQAAAAEAAAAAAAAAAAAAAAIAAAABAAAAAAAAAAEAAAABAAAAAgAAAAAAAAABAAAAAAAAAAAAAAAAAAAAAAAAAAIAAAAAAAAAAgAAAAAAAAABAAAAAAAAAAEAAAACAAAAAQAAAAAAAAAAAAAAAgAAAAEAAAAAAAAAAAAAAAAAAAAAAAAAAQAAAAAAAAACAAAAAAAAAAIAAAACAAAAAAAAAAEAAAACAAAAAQAAAAAAAAACAAAAAQAAAAEAAAABAAAAAAAAAAAAAAACAAAAAQAAAAIAAAACAAAAAAAAAAAAAAAAAAAAAAAAAAEAAAACAAAAAAAAAAAAAAAAAAAAAAAAAAAAAAAAAAAAAQAAAAEAAAAAAAAAAAAAAAIAAAABAAAAAAAAAAIAAAAAAAAAAAAAAAAAAAABAAAAAAAAAAIAAAABAAAAAgAAAAIAAAAAAAAAAgAAAAAAAAAAAAAAAgAAAAIAAAABAAAAAAAAAAIAAAAAAAAAAAAAAAEAAAACAAAAAgAAAAEAAAABAAAAAAAAAAEAAAABAAAAAAAAAAEAAAABAAAAAAAAAAEAAAACAAAAAAAAAAEAAAABAAAAAgAAAAEAAAAAAAAAAgAAAAEAAAACAAAAAAAAAAAAAAABAAAAAQAAAAAAAAABAAAAAAAAAAEAAAABAAAAAQAAAAEAAAAAAAAAAAAAAAAAAAACAAAAAgAAAAAAAAACAAAAAQAAAAEAAAABAAAAAAAAAAAAAAACAAAAAgAAAAIAAAABAAAAAAAAAAEAAAAAAAAAAgAAAAEAAAACAAAAAAAAAAEAAAABAAAAAAAAAAIAAAACAAAAAAAAAAAAAAABAAAAAAAAAAIAAAAAAAAAAAAAAAEAAAACAAAAAAAAAAEAAAAAAAAAAQAAAAAAAAACAAAAAAAAAAIAAAABAAAAAQAAAAIAAAACAAAAAAAAAAEAAAACAAAAAQAAAAAAAAABAAAAAgAAAAIAAAACAAAAAAAAAAEAAAAAAAAAAAAAAAEAAAACAAAAAgAAAAIAAAAAAAAAAQAAAAIAAAAAAAAAAAAAAAIAAAAAAAAAAQAAAAAAAAACAAAAAAAAAAEAAAABAAAAAgAAAAAAAAABAAAAAAAAAAAAAAAAAAAAAAAAAAAAAAACAAAAAQAAAAAAAAAAAAAAAgAAAAAAAAABAAAAAgAAAAEAAAAAAAAAAAAAAAIAAAABAAAAAQAAAAIAAAACAAAAAQAAAAEAAAACAAAAAAAAAAAAAAACAAAAAgAAAAAAAAAAAAAAAAAAAAIAAAACAAAAAAAAAAAAAAAAAAAAAgAAAAAAAAABAAAAAAAAAAIAAAABAAAAAgAAAAEAAAACAAAAAAAAAAAAAAAAAAAAAgAAAAEAAAABAAAAAAAAAAAAAAACAAAAAAAAAAAAAAAAAAAAAgAAAAAAAAACAAAAAQAAAAAAAAAAAAAAAQAAAAIAAAABAAAAAQAAAAEAAAABAAAAAgAAAAIAAAABAAAAAAAAAAIAAAACAAAAAQAAAAAAAAAAAAAAAAAAAAEAAAAAAAAAAgAAAAAAAAAAAAAAAQAAAAAAAAAAAAAAAAAAAAIAAAAAAAAAAQAAAAAAAAABAAAAAAAAAAIAAAAAAAAAAAAAAAIAAAABAAAAAAAAAAAAAAAAAAAAAgAAAAAAAAABAAAAAAAAAAEAAAAAAAAAAgAAAAEAAAACAAAAAAAAAAEAAAAAAAAAAQAAAAIAAAABAAAAAgAAAAAAAAABAAAAAgAAAAAAAAABAAAAAQAAAAAAAAACAAAAAQAAAAAAAAACAAAAAgAAAAIAAAABAAAAAAAAAAEAAAACAAAAAAAAAAEAAAABAAAAAgAAAAIAAAACAAAAAgAAAAIAAAAAAAAAAgAAAAAAAAACAAAAAAAAAAEAAAABAAAAAAAAAAIAAAACAAAAAAAAAAIAAAAAAAAAAgAAAAAAAAACAAAAAQAAAAAAAAAAAAAAAAAAAAAAAAABAAAAAgAAAAEAAAACAAAAAgAAAAIAAAACAAAAAQAAAAAAAAAAAAAAAAAAAAAAAAAAAAAAAAAAAAAAAAACAAAAAgAAAAEAAAAAAAAAAAAAAAIAAAACAAAAAQAAAAEAAAABAAAAAQAAAAAAAAACAAAAAAAAAAAAAAAAAAAAAQAAAAAAAAACAAAAAgAAAAIAAAAAAAAAAQAAAAAAAAAAAAAAAQAAAAIAAAAAAAAAAAAAAAEAAAACAAAAAAAAAAAAAAAAAAAAAAAAAAAAAAAAAAAAAQAAAAIAAAAAAAAAAgAAAAEAAAAAAAAAAAAAAAEAAAACAAAAAAAAAAAAAAACAAAAAgAAAAAAAAACAAAAAgAAAAAAAAABAAAAAAAAAAIAAAABAAAAAQAAAAIAAAABAAAAAQAAAAAAAAAAAAAAAgAAAAAAAAAAAAAAAAAAAAAAAAABAAAAAgAAAAIAAAABAAAAAgAAAAEAAAACAAAAAAAAAAIAAAAAAAAAAQAAAAIAAAABAAAAAAAAAAIAAAABAAAAAQAAAAAAAAAAAAAAAAAAAAEAAAAAAAAAAgAAAAEAAAABAAAAAAAAAAIAAAACAAAAAQAAAAAAAAABAAAAAQAAAAEAAAACAAAAAAAAAAEAAAAAAAAAAAAAAAEAAAAAAAAAAQAAAAIAAAACAAAAAgAAAAAAAAAAAAAAAQAAAAAAAAACAAAAAAAAAAAAAAACAAAAAQAAAAIAAAACAAAAAAAAAAIAAAACAAAAAAAAAAIAAAABAAAAAQAAAAAAAAACAAAAAAAAAAEAAAACAAAAAgAAAAIAAAAAAAAAAgAAAAEAAAABAAAAAAAAAAIAAAAAAAAAAQAAAAEAAAABAAAAAAAAAAIAAAABAAAAAgAAAAIAAAACAAAAAAAAAAEAAAABAAAAAAAAAAIAAAABAAAAAQAAAAAAAAABAAAAAQAAAAAAAAABAAAAAQAAAAAAAAABAAAAAgAAAAAAAAAAAAAAAQAAAAAAAAAAAAAAAAAAAAAAAAACAAAAAAAAAAIAAAACAAAAAgAAAAEAAAAAAAAAAgAAAAAAAAAAAAAAAQAAAAIAAAACAAAAAQAAAAEAAAAAAAAAAQAAAAEAAAABAAAAAAAAAAEAAAABAAAAAgAAAAIAAAAAAAAAAAAAAAEAAAAAAAAAAAAAAAEAAAABAAAAAgAAAAAAAAAAAAAAAgAAAAAAAAACAAAAAQAAAAIAAAABAAAAAAAAAAEAAAABAAAAAQAAAAEAAAABAAAAAQAAAAAAAAAAAAAAAAAAAAEAAAAAAAAAAgAAAAIAAAACAAAAAAAAAAEAAAAAAAAAAQAAAAAAAAAAAAAAAgAAAAAAAAACAAAAAQAAAAAAAAAAAAAAAAAAAAIAAAACAAAAAAAAAAAAAAABAAAAAQAAAAAAAAAAAAAAAAAAAAIAAAABAAAAAAAAAAAAAAABAAAAAAAAAAAAAAAAAAAAAAAAAAAAAAABAAAAAAAAAAEAAAACAAAAAgAAAAEAAAABAAAAAQAAAAIAAAAAAAAAAQAAAAIAAAABAAAAAAAAAAIAAAAAAAAAAQAAAAEAAAAAAAAAAAAAAAIAAAAAAAAAAAAAAAAAAAAAAAAAAAAAAAAAAAABAAAAAQAAAAAAAAACAAAAAAAAAAAAAAACAAAAAAAAAAEAAAAAAAAAAQAAAAAAAAACAAAAAAAAAAEAAAAAAAAAAAAAAAIAAAAAAAAAAQAAAAAAAAAAAAAAAQAAAAAAAAACAAAAAAAAAAEAAAACAAAAAQAAAAAAAAACAAAAAgAAAAIAAAACAAAAAgAAAAEAAAAAAAAAAAAAAAAAAAABAAAAAAAAAAEAAAACAAAAAAAAAAAAAAACAAAAAAAAAAAAAAAAAAAAAQAAAAAAAAAAAAAAAAAAAAEAAAABAAAAAAAAAAAAAAACAAAAAAAAAAIAAAAAAAAAAgAAAAEAAAACAAAAAgAAAAAAAAACAAAAAQAAAAIAAAAAAAAAAQAAAAIAAAABAAAAAAAAAAAAAAACAAAAAgAAAAIAAAACAAAAAQAAAAIAAAACAAAAAQAAAAAAAAAAAAAAAgAAAAEAAAAAAAAAAgAAAAAAAAAAAAAAAgAAAAIAAAACAAAAAQAAAAIAAAAAAAAAAQAAAAIAAAAAAAAAAgAAAAAAAAACAAAAAQAAAAEAAAAAAAAAAAAAAAEAAAAAAAAAAQAAAAAAAAAAAAAAAAAAAAAAAAACAAAAAgAAAAIAAAABAAAAAAAAAAIAAAABAAAAAgAAAAIAAAAAAAAAAAAAAAIAAAAAAAAAAQAAAAEAAAABAAAAAAAAAAIAAAACAAAAAQAAAAIAAAAAAAAAAAAAAAAAAAACAAAAAQAAAAAAAAABAAAAAAAAAAIAAAAAAAAAAQAAAAEAAAAAAAAAAgAAAAIAAAAAAAAAAgAAAAAAAAABAAAAAgAAAAEAAAACAAAAAgAAAAAAAAABAAAAAAAAAAIAAAACAAAAAQAAAAIAAAAAAAAAAAAAAAAAAAACAAAAAQAAAAEAAAABAAAAAQAAAAEAAAABAAAAAAAAAAAAAAAAAAAAAAAAAAIAAAACAAAAAgAAAAIAAAABAAAAAQAAAAIAAAABAAAAAQAAAAIAAAABAAAAAAAAAAAAAAAAAAAAAgAAAAAAAAACAAAAAAAAAAIAAAABAAAAAgAAAAAAAAABAAAAAgAAAAAAAAAAAAAAAAAAAAAAAAACAAAAAQAAAAEAAAAAAAAAAgAAAAAAAAAAAAAAAgAAAAEAAAACAAAAAAAAAAIAAAAAAAAAAAAAAAAAAAAAAAAAAQAAAAAAAAACAAAAAQAAAAAAAAACAAAAAAAAAAEAAAACAAAAAgAAAAAAAAAAAAAAAAAAAAAAAAACAAAAAgAAAAIAAAABAAAAAQAAAAAAAAACAAAAAgAAAAEAAAABAAAAAQAAAAAAAAABAAAAAQAAAAEAAAACAAAAAAAAAAIAAAAAAAAAAgAAAAAAAAAAAAAAAAAAAAIAAAABAAAAAAAAAAAAAAACAAAAAgAAAAEAAAACAAAAAQAAAAIAAAABAAAAAAAAAAEAAAACAAAAAgAAAAEAAAAAAAAAAAAAAAEAAAACAAAAAQAAAAAAAAAAAAAAAgAAAAIAAAAAAAAAAAAAAAIAAAAAAAAAAAAAAAAAAAABAAAAAgAAAAAAAAABAAAAAgAAAAIAAAAAAAAAAAAAAAEAAAABAAAAAQAAAAEAAAACAAAAAAAAAAAAAAAAAAAAAgAAAAIAAAACAAAAAQAAAAEAAAABAAAAAgAAAAEAAAACAAAAAQAAAAIAAAAAAAAAAQAAAAAAAAAAAAAAAAAAAAAAAAACAAAAAgAAAAIAAAABAAAAAAAAAAAAAAABAAAAAAAAAAAAAAAAAAAAAQAAAAIAAAAAAAAAAQAAAAAAAAABAAAAAQAAAAAAAAABAAAAAAAAAAAAAAAAAAAAAgAAAAEAAAABAAAAAQAAAAIAAAAAAAAAAAAAAAAAAAACAAAAAQAAAAIAAAACAAAAAAAAAAEAAAAAAAAAAQAAAAAAAAABAAAAAgAAAAIAAAAAAAAAAgAAAAIAAAAAAAAAAAAAAAAAAAAAAAAAAAAAAAIAAAACAAAAAgAAAAIAAAAAAAAAAAAAAAAAAAABAAAAAgAAAAEAAAACAAAAAAAAAAEAAAACAAAAAgAAAAEAAAABAAAAAAAAAAEAAAABAAAAAQAAAAAAAAAAAAAAAQAAAAIAAAACAAAAAgAAAAIAAAAAAAAAAQAAAAEAAAAAAAAAAgAAAAAAAAAAAAAAAQAAAAEAAAAAAAAAAgAAAAIAAAAAAAAAAgAAAAIAAAAAAAAAAQAAAAIAAAABAAAAAQAAAAIAAAABAAAAAQAAAAIAAAABAAAAAgAAAAEAAAACAAAAAgAAAAEAAAAAAAAAAgAAAAEAAAABAAAAAAAAAAIAAAAAAAAAAAAAAAEAAAACAAAAAAAAAAAAAAACAAAAAgAAAAEAAAABAAAAAAAAAAIAAAACAAAAAgAAAAAAAAABAAAAAAAAAAAAAAA=",
           "dtype": "i4"
          }
         },
         "mode": "markers",
         "name": "Segments",
         "showlegend": false,
         "type": "scatter",
         "x": {
          "bdata": "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",
          "dtype": "i1"
         },
         "xaxis": "x2",
         "y": {
          "bdata": "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",
          "dtype": "f8"
         },
         "yaxis": "y2"
        },
        {
         "marker": {
          "color": {
           "bdata": "AQAAAAEAAAACAAAAAgAAAAAAAAAAAAAAAQAAAAEAAAABAAAAAgAAAAIAAAABAAAAAAAAAAIAAAAAAAAAAAAAAAAAAAACAAAAAQAAAAAAAAABAAAAAQAAAAIAAAAAAAAAAQAAAAIAAAACAAAAAAAAAAAAAAACAAAAAgAAAAAAAAABAAAAAgAAAAEAAAAAAAAAAAAAAAAAAAACAAAAAgAAAAEAAAACAAAAAAAAAAIAAAACAAAAAQAAAAEAAAACAAAAAgAAAAEAAAACAAAAAAAAAAEAAAACAAAAAQAAAAIAAAAAAAAAAQAAAAAAAAABAAAAAQAAAAIAAAAAAAAAAgAAAAAAAAAAAAAAAgAAAAAAAAABAAAAAAAAAAAAAAABAAAAAAAAAAIAAAACAAAAAAAAAAIAAAABAAAAAAAAAAIAAAABAAAAAQAAAAAAAAAAAAAAAQAAAAAAAAABAAAAAAAAAAAAAAACAAAAAAAAAAAAAAACAAAAAAAAAAAAAAACAAAAAQAAAAIAAAAAAAAAAAAAAAIAAAABAAAAAgAAAAAAAAABAAAAAAAAAAEAAAAAAAAAAQAAAAAAAAABAAAAAAAAAAIAAAACAAAAAAAAAAIAAAACAAAAAAAAAAAAAAACAAAAAQAAAAAAAAABAAAAAQAAAAAAAAABAAAAAgAAAAEAAAAAAAAAAgAAAAIAAAAAAAAAAQAAAAAAAAAAAAAAAgAAAAIAAAAAAAAAAQAAAAIAAAACAAAAAgAAAAAAAAAAAAAAAgAAAAEAAAABAAAAAQAAAAIAAAABAAAAAAAAAAIAAAABAAAAAQAAAAEAAAAAAAAAAgAAAAEAAAAAAAAAAQAAAAAAAAAAAAAAAAAAAAEAAAABAAAAAAAAAAAAAAAAAAAAAAAAAAAAAAABAAAAAQAAAAEAAAACAAAAAQAAAAAAAAABAAAAAQAAAAAAAAAAAAAAAgAAAAEAAAAAAAAAAQAAAAAAAAAAAAAAAgAAAAIAAAABAAAAAQAAAAAAAAAAAAAAAQAAAAAAAAABAAAAAQAAAAAAAAAAAAAAAQAAAAEAAAACAAAAAgAAAAEAAAAAAAAAAAAAAAAAAAAAAAAAAAAAAAIAAAAAAAAAAQAAAAEAAAAAAAAAAQAAAAEAAAAAAAAAAAAAAAEAAAABAAAAAQAAAAIAAAAAAAAAAAAAAAEAAAAAAAAAAAAAAAAAAAABAAAAAAAAAAAAAAAAAAAAAQAAAAAAAAABAAAAAgAAAAAAAAACAAAAAQAAAAAAAAAAAAAAAAAAAAAAAAACAAAAAAAAAAAAAAACAAAAAgAAAAEAAAAAAAAAAQAAAAAAAAABAAAAAgAAAAIAAAACAAAAAgAAAAAAAAABAAAAAAAAAAEAAAABAAAAAgAAAAIAAAABAAAAAQAAAAAAAAACAAAAAQAAAAAAAAACAAAAAAAAAAEAAAACAAAAAAAAAAEAAAAAAAAAAAAAAAIAAAAAAAAAAQAAAAIAAAABAAAAAAAAAAIAAAAAAAAAAgAAAAAAAAABAAAAAQAAAAAAAAABAAAAAAAAAAIAAAACAAAAAgAAAAAAAAAAAAAAAQAAAAEAAAACAAAAAAAAAAAAAAABAAAAAQAAAAEAAAAAAAAAAAAAAAIAAAAAAAAAAAAAAAIAAAACAAAAAQAAAAIAAAABAAAAAAAAAAAAAAAAAAAAAAAAAAAAAAACAAAAAAAAAAEAAAAAAAAAAQAAAAAAAAACAAAAAQAAAAAAAAAAAAAAAgAAAAAAAAAAAAAAAAAAAAIAAAAAAAAAAAAAAAIAAAAAAAAAAgAAAAIAAAABAAAAAQAAAAIAAAABAAAAAQAAAAEAAAAAAAAAAgAAAAIAAAABAAAAAAAAAAIAAAACAAAAAAAAAAIAAAACAAAAAQAAAAAAAAABAAAAAAAAAAIAAAAAAAAAAgAAAAIAAAABAAAAAAAAAAIAAAABAAAAAgAAAAAAAAACAAAAAgAAAAAAAAABAAAAAAAAAAEAAAABAAAAAQAAAAAAAAAAAAAAAAAAAAIAAAAAAAAAAAAAAAEAAAABAAAAAgAAAAIAAAACAAAAAgAAAAEAAAAAAAAAAAAAAAAAAAABAAAAAgAAAAEAAAACAAAAAAAAAAAAAAABAAAAAgAAAAIAAAAAAAAAAAAAAAEAAAAAAAAAAAAAAAIAAAACAAAAAgAAAAIAAAABAAAAAAAAAAAAAAAAAAAAAQAAAAIAAAABAAAAAAAAAAEAAAABAAAAAgAAAAAAAAABAAAAAQAAAAEAAAAAAAAAAgAAAAAAAAABAAAAAQAAAAEAAAAAAAAAAgAAAAEAAAAAAAAAAgAAAAIAAAABAAAAAQAAAAAAAAAAAAAAAgAAAAIAAAACAAAAAAAAAAAAAAAAAAAAAQAAAAIAAAAAAAAAAAAAAAAAAAABAAAAAQAAAAEAAAAAAAAAAQAAAAEAAAAAAAAAAAAAAAAAAAAAAAAAAQAAAAEAAAAAAAAAAQAAAAIAAAABAAAAAQAAAAAAAAAAAAAAAQAAAAEAAAABAAAAAQAAAAAAAAABAAAAAAAAAAAAAAAAAAAAAgAAAAEAAAAAAAAAAQAAAAIAAAABAAAAAAAAAAAAAAABAAAAAgAAAAEAAAACAAAAAQAAAAEAAAABAAAAAAAAAAIAAAAAAAAAAgAAAAIAAAABAAAAAQAAAAEAAAAAAAAAAAAAAAEAAAAAAAAAAAAAAAIAAAABAAAAAAAAAAEAAAACAAAAAgAAAAAAAAAAAAAAAAAAAAEAAAACAAAAAAAAAAIAAAAAAAAAAQAAAAEAAAACAAAAAgAAAAAAAAAAAAAAAAAAAAAAAAAAAAAAAgAAAAIAAAABAAAAAAAAAAEAAAACAAAAAgAAAAIAAAABAAAAAQAAAAIAAAACAAAAAQAAAAAAAAABAAAAAQAAAAAAAAAAAAAAAAAAAAEAAAAAAAAAAAAAAAAAAAAAAAAAAAAAAAAAAAABAAAAAAAAAAAAAAABAAAAAQAAAAAAAAAAAAAAAQAAAAEAAAABAAAAAgAAAAAAAAAAAAAAAAAAAAIAAAAAAAAAAgAAAAEAAAAAAAAAAAAAAAIAAAABAAAAAgAAAAAAAAABAAAAAAAAAAIAAAAAAAAAAgAAAAIAAAACAAAAAgAAAAAAAAABAAAAAAAAAAAAAAABAAAAAAAAAAAAAAABAAAAAAAAAAEAAAACAAAAAQAAAAIAAAAAAAAAAgAAAAIAAAACAAAAAAAAAAEAAAABAAAAAAAAAAAAAAACAAAAAgAAAAAAAAAAAAAAAQAAAAEAAAACAAAAAQAAAAEAAAABAAAAAgAAAAIAAAACAAAAAQAAAAEAAAABAAAAAgAAAAIAAAAAAAAAAQAAAAAAAAAAAAAAAgAAAAIAAAACAAAAAAAAAAEAAAABAAAAAQAAAAAAAAABAAAAAgAAAAEAAAABAAAAAAAAAAIAAAACAAAAAgAAAAAAAAAAAAAAAAAAAAAAAAAAAAAAAgAAAAAAAAAAAAAAAgAAAAIAAAAAAAAAAAAAAAAAAAABAAAAAQAAAAAAAAAAAAAAAgAAAAEAAAACAAAAAQAAAAAAAAACAAAAAAAAAAEAAAABAAAAAQAAAAIAAAAAAAAAAAAAAAAAAAAAAAAAAgAAAAIAAAABAAAAAgAAAAEAAAABAAAAAQAAAAIAAAAAAAAAAQAAAAEAAAAAAAAAAgAAAAAAAAABAAAAAQAAAAEAAAABAAAAAAAAAAEAAAABAAAAAAAAAAEAAAAAAAAAAQAAAAEAAAAAAAAAAAAAAAAAAAABAAAAAAAAAAIAAAAAAAAAAAAAAAEAAAACAAAAAAAAAAEAAAACAAAAAgAAAAAAAAAAAAAAAAAAAAIAAAABAAAAAQAAAAEAAAACAAAAAQAAAAAAAAAAAAAAAAAAAAAAAAACAAAAAQAAAAIAAAAAAAAAAQAAAAIAAAACAAAAAgAAAAEAAAACAAAAAgAAAAAAAAAAAAAAAQAAAAAAAAAAAAAAAAAAAAEAAAACAAAAAQAAAAAAAAACAAAAAgAAAAIAAAABAAAAAgAAAAAAAAACAAAAAQAAAAAAAAAAAAAAAgAAAAAAAAAAAAAAAgAAAAEAAAABAAAAAQAAAAEAAAABAAAAAQAAAAAAAAAAAAAAAQAAAAAAAAABAAAAAAAAAAEAAAABAAAAAAAAAAAAAAABAAAAAAAAAAEAAAABAAAAAQAAAAEAAAAAAAAAAAAAAAAAAAACAAAAAAAAAAIAAAACAAAAAQAAAAEAAAABAAAAAAAAAAEAAAABAAAAAAAAAAIAAAACAAAAAQAAAAAAAAAAAAAAAgAAAAEAAAABAAAAAAAAAAEAAAABAAAAAQAAAAAAAAACAAAAAAAAAAEAAAACAAAAAAAAAAAAAAABAAAAAAAAAAEAAAAAAAAAAgAAAAIAAAACAAAAAAAAAAAAAAAAAAAAAQAAAAAAAAABAAAAAAAAAAAAAAAAAAAAAQAAAAIAAAABAAAAAQAAAAEAAAAAAAAAAgAAAAIAAAABAAAAAAAAAAAAAAAAAAAAAQAAAAAAAAACAAAAAgAAAAIAAAAAAAAAAQAAAAAAAAACAAAAAAAAAAAAAAAAAAAAAgAAAAIAAAAAAAAAAgAAAAIAAAAAAAAAAAAAAAAAAAACAAAAAQAAAAEAAAABAAAAAgAAAAEAAAACAAAAAAAAAAAAAAAAAAAAAAAAAAIAAAAAAAAAAAAAAAEAAAAAAAAAAgAAAAAAAAAAAAAAAAAAAAEAAAAAAAAAAAAAAAEAAAACAAAAAgAAAAEAAAACAAAAAQAAAAIAAAAAAAAAAAAAAAEAAAACAAAAAQAAAAAAAAAAAAAAAAAAAAEAAAACAAAAAgAAAAEAAAACAAAAAgAAAAIAAAAAAAAAAgAAAAAAAAACAAAAAAAAAAEAAAAAAAAAAQAAAAEAAAACAAAAAQAAAAEAAAABAAAAAQAAAAAAAAABAAAAAAAAAAAAAAAAAAAAAAAAAAAAAAABAAAAAAAAAAEAAAABAAAAAAAAAAAAAAABAAAAAgAAAAIAAAABAAAAAQAAAAEAAAACAAAAAgAAAAEAAAACAAAAAQAAAAIAAAAAAAAAAgAAAAIAAAAAAAAAAgAAAAEAAAABAAAAAAAAAAIAAAACAAAAAgAAAAEAAAAAAAAAAAAAAAAAAAABAAAAAAAAAAIAAAABAAAAAgAAAAEAAAABAAAAAAAAAAEAAAAAAAAAAgAAAAEAAAAAAAAAAAAAAAEAAAAAAAAAAAAAAAAAAAAAAAAAAQAAAAIAAAABAAAAAAAAAAEAAAAAAAAAAAAAAAIAAAAAAAAAAAAAAAEAAAABAAAAAgAAAAIAAAABAAAAAQAAAAEAAAABAAAAAQAAAAEAAAACAAAAAAAAAAIAAAAAAAAAAAAAAAIAAAAAAAAAAAAAAAEAAAAAAAAAAQAAAAAAAAACAAAAAAAAAAAAAAABAAAAAAAAAAEAAAABAAAAAgAAAAEAAAAAAAAAAgAAAAAAAAABAAAAAgAAAAIAAAAAAAAAAgAAAAEAAAACAAAAAQAAAAAAAAABAAAAAQAAAAAAAAACAAAAAAAAAAIAAAABAAAAAQAAAAAAAAAAAAAAAQAAAAIAAAAAAAAAAgAAAAEAAAAAAAAAAgAAAAEAAAACAAAAAAAAAAIAAAACAAAAAgAAAAAAAAABAAAAAAAAAAAAAAABAAAAAgAAAAIAAAAAAAAAAgAAAAEAAAACAAAAAQAAAAAAAAACAAAAAQAAAAEAAAACAAAAAAAAAAAAAAABAAAAAQAAAAEAAAAAAAAAAgAAAAAAAAABAAAAAgAAAAAAAAACAAAAAQAAAAEAAAACAAAAAQAAAAIAAAAAAAAAAAAAAAIAAAABAAAAAAAAAAIAAAAAAAAAAAAAAAAAAAAAAAAAAAAAAAEAAAACAAAAAgAAAAIAAAACAAAAAQAAAAAAAAACAAAAAQAAAAAAAAABAAAAAQAAAAEAAAAAAAAAAAAAAAIAAAABAAAAAgAAAAAAAAAAAAAAAQAAAAIAAAACAAAAAQAAAAIAAAAAAAAAAQAAAAEAAAABAAAAAQAAAAAAAAACAAAAAAAAAAAAAAAAAAAAAgAAAAAAAAABAAAAAQAAAAIAAAABAAAAAgAAAAIAAAAAAAAAAQAAAAIAAAACAAAAAgAAAAIAAAACAAAAAgAAAAEAAAACAAAAAQAAAAAAAAABAAAAAgAAAAAAAAAAAAAAAAAAAAIAAAABAAAAAgAAAAEAAAACAAAAAAAAAAEAAAACAAAAAAAAAAIAAAACAAAAAAAAAAEAAAABAAAAAAAAAAAAAAABAAAAAAAAAAIAAAAAAAAAAAAAAAIAAAAAAAAAAQAAAAAAAAAAAAAAAAAAAAIAAAABAAAAAQAAAAEAAAAAAAAAAAAAAAAAAAABAAAAAAAAAAEAAAACAAAAAAAAAAAAAAABAAAAAQAAAAIAAAABAAAAAQAAAAIAAAACAAAAAgAAAAAAAAABAAAAAQAAAAIAAAABAAAAAAAAAAAAAAAAAAAAAAAAAAAAAAACAAAAAAAAAAAAAAAAAAAAAAAAAAAAAAABAAAAAQAAAAIAAAABAAAAAgAAAAAAAAAAAAAAAQAAAAAAAAAAAAAAAgAAAAEAAAACAAAAAgAAAAEAAAAAAAAAAAAAAAAAAAACAAAAAQAAAAAAAAACAAAAAgAAAAIAAAAAAAAAAAAAAAAAAAAAAAAAAAAAAAAAAAABAAAAAgAAAAIAAAAAAAAAAAAAAAAAAAAAAAAAAQAAAAIAAAACAAAAAAAAAAAAAAAAAAAAAgAAAAEAAAACAAAAAAAAAAIAAAAAAAAAAAAAAAIAAAABAAAAAAAAAAAAAAAAAAAAAgAAAAEAAAABAAAAAAAAAAIAAAAAAAAAAgAAAAIAAAACAAAAAQAAAAAAAAABAAAAAAAAAAEAAAAAAAAAAQAAAAIAAAABAAAAAAAAAAAAAAACAAAAAAAAAAEAAAACAAAAAQAAAAAAAAABAAAAAQAAAAIAAAAAAAAAAgAAAAIAAAABAAAAAQAAAAEAAAAAAAAAAAAAAAEAAAAAAAAAAQAAAAEAAAABAAAAAQAAAAIAAAABAAAAAAAAAAIAAAAAAAAAAgAAAAAAAAABAAAAAQAAAAEAAAABAAAAAQAAAAAAAAAAAAAAAgAAAAAAAAAAAAAAAAAAAAIAAAACAAAAAQAAAAEAAAAAAAAAAgAAAAAAAAABAAAAAQAAAAAAAAABAAAAAQAAAAAAAAACAAAAAAAAAAEAAAAAAAAAAAAAAAEAAAACAAAAAAAAAAEAAAAAAAAAAgAAAAAAAAABAAAAAQAAAAEAAAACAAAAAAAAAAIAAAAAAAAAAAAAAAAAAAABAAAAAAAAAAAAAAAAAAAAAAAAAAAAAAACAAAAAAAAAAIAAAACAAAAAQAAAAAAAAAAAAAAAQAAAAIAAAAAAAAAAgAAAAAAAAABAAAAAAAAAAIAAAAAAAAAAQAAAAAAAAAAAAAAAQAAAAEAAAABAAAAAQAAAAAAAAAAAAAAAAAAAAAAAAAAAAAAAgAAAAEAAAACAAAAAAAAAAIAAAAAAAAAAQAAAAIAAAAAAAAAAQAAAAAAAAACAAAAAAAAAAAAAAAAAAAAAgAAAAIAAAAAAAAAAgAAAAEAAAACAAAAAQAAAAEAAAAAAAAAAgAAAAEAAAAAAAAAAAAAAAAAAAACAAAAAQAAAAAAAAABAAAAAAAAAAEAAAAAAAAAAAAAAAIAAAACAAAAAAAAAAAAAAAAAAAAAAAAAAIAAAABAAAAAQAAAAEAAAACAAAAAgAAAAEAAAABAAAAAgAAAAEAAAACAAAAAQAAAAAAAAABAAAAAAAAAAEAAAABAAAAAgAAAAAAAAAAAAAAAAAAAAEAAAAAAAAAAgAAAAAAAAACAAAAAQAAAAAAAAABAAAAAAAAAAIAAAABAAAAAgAAAAAAAAAAAAAAAgAAAAAAAAABAAAAAAAAAAAAAAACAAAAAgAAAAAAAAABAAAAAQAAAAAAAAAAAAAAAQAAAAIAAAAAAAAAAgAAAAEAAAAAAAAAAAAAAAEAAAABAAAAAQAAAAIAAAABAAAAAQAAAAEAAAACAAAAAQAAAAAAAAAAAAAAAQAAAAIAAAABAAAAAAAAAAIAAAACAAAAAAAAAAAAAAAAAAAAAgAAAAAAAAAAAAAAAAAAAAIAAAAAAAAAAAAAAAEAAAAAAAAAAgAAAAAAAAACAAAAAAAAAAAAAAAAAAAAAAAAAAEAAAACAAAAAAAAAAEAAAAAAAAAAgAAAAAAAAACAAAAAAAAAAAAAAABAAAAAQAAAAAAAAABAAAAAQAAAAAAAAACAAAAAQAAAAIAAAAAAAAAAgAAAAEAAAAAAAAAAQAAAAIAAAAAAAAAAQAAAAAAAAAAAAAAAAAAAAIAAAAAAAAAAgAAAAEAAAABAAAAAgAAAAIAAAAAAAAAAAAAAAIAAAAAAAAAAAAAAAIAAAAAAAAAAAAAAAIAAAACAAAAAQAAAAAAAAAAAAAAAAAAAAEAAAABAAAAAAAAAAEAAAACAAAAAgAAAAAAAAACAAAAAAAAAAAAAAACAAAAAAAAAAEAAAAAAAAAAQAAAAAAAAAAAAAAAAAAAAAAAAACAAAAAAAAAAAAAAABAAAAAAAAAAIAAAACAAAAAQAAAAAAAAAAAAAAAgAAAAIAAAAAAAAAAQAAAAAAAAAAAAAAAgAAAAEAAAACAAAAAgAAAAEAAAABAAAAAgAAAAAAAAAAAAAAAQAAAAIAAAACAAAAAQAAAAAAAAACAAAAAgAAAAAAAAAAAAAAAAAAAAAAAAAAAAAAAQAAAAEAAAAAAAAAAAAAAAAAAAABAAAAAgAAAAAAAAACAAAAAgAAAAAAAAAAAAAAAAAAAAEAAAABAAAAAgAAAAIAAAACAAAAAAAAAAAAAAAAAAAAAQAAAAIAAAAAAAAAAQAAAAEAAAABAAAAAgAAAAIAAAAAAAAAAQAAAAEAAAAAAAAAAQAAAAIAAAAAAAAAAAAAAAAAAAAAAAAAAAAAAAAAAAABAAAAAAAAAAIAAAABAAAAAQAAAAIAAAAAAAAAAQAAAAAAAAAAAAAAAAAAAAEAAAAAAAAAAgAAAAAAAAAAAAAAAAAAAAEAAAACAAAAAgAAAAEAAAACAAAAAAAAAAEAAAABAAAAAQAAAAAAAAAAAAAAAAAAAAEAAAACAAAAAAAAAAEAAAAAAAAAAAAAAAIAAAABAAAAAAAAAAEAAAAAAAAAAAAAAAAAAAABAAAAAgAAAAEAAAABAAAAAAAAAAAAAAACAAAAAQAAAAIAAAABAAAAAQAAAAEAAAABAAAAAgAAAAEAAAACAAAAAAAAAAAAAAAAAAAAAAAAAAAAAAAAAAAAAgAAAAEAAAABAAAAAQAAAAAAAAACAAAAAgAAAAAAAAAAAAAAAgAAAAIAAAABAAAAAgAAAAAAAAAAAAAAAAAAAAAAAAAAAAAAAAAAAAAAAAABAAAAAQAAAAEAAAABAAAAAQAAAAAAAAABAAAAAQAAAAIAAAAAAAAAAQAAAAIAAAACAAAAAQAAAAEAAAAAAAAAAgAAAAAAAAAAAAAAAgAAAAAAAAABAAAAAAAAAAEAAAACAAAAAQAAAAAAAAABAAAAAQAAAAIAAAAAAAAAAAAAAAEAAAACAAAAAQAAAAAAAAACAAAAAgAAAAIAAAAAAAAAAAAAAAEAAAAAAAAAAAAAAAEAAAAAAAAAAAAAAAAAAAACAAAAAAAAAAEAAAAAAAAAAAAAAAAAAAABAAAAAAAAAAAAAAAAAAAAAQAAAAIAAAACAAAAAAAAAAIAAAAAAAAAAAAAAAIAAAABAAAAAgAAAAEAAAABAAAAAgAAAAAAAAABAAAAAQAAAAEAAAAAAAAAAgAAAAAAAAACAAAAAQAAAAEAAAACAAAAAQAAAAEAAAABAAAAAAAAAAAAAAACAAAAAQAAAAAAAAAAAAAAAQAAAAAAAAAAAAAAAgAAAAAAAAAAAAAAAgAAAAAAAAABAAAAAQAAAAIAAAABAAAAAAAAAAAAAAAAAAAAAgAAAAEAAAAAAAAAAgAAAAEAAAAAAAAAAAAAAAAAAAAAAAAAAQAAAAEAAAACAAAAAgAAAAIAAAABAAAAAQAAAAIAAAABAAAAAQAAAAEAAAABAAAAAgAAAAAAAAACAAAAAQAAAAIAAAABAAAAAAAAAAAAAAABAAAAAQAAAAAAAAAAAAAAAAAAAAIAAAAAAAAAAQAAAAAAAAACAAAAAQAAAAAAAAAAAAAAAAAAAAIAAAACAAAAAgAAAAAAAAABAAAAAAAAAAAAAAABAAAAAAAAAAEAAAAAAAAAAgAAAAAAAAABAAAAAgAAAAAAAAABAAAAAgAAAAAAAAACAAAAAQAAAAEAAAAAAAAAAAAAAAIAAAABAAAAAAAAAAIAAAACAAAAAgAAAAEAAAACAAAAAQAAAAIAAAAAAAAAAAAAAAAAAAACAAAAAQAAAAAAAAACAAAAAgAAAAAAAAAAAAAAAQAAAAAAAAABAAAAAQAAAAAAAAAAAAAAAAAAAAIAAAACAAAAAAAAAAAAAAACAAAAAAAAAAAAAAABAAAAAgAAAAIAAAABAAAAAAAAAAIAAAAAAAAAAAAAAAAAAAACAAAAAQAAAAEAAAAAAAAAAAAAAAEAAAABAAAAAAAAAAIAAAABAAAAAgAAAAAAAAAAAAAAAgAAAAIAAAABAAAAAQAAAAIAAAACAAAAAQAAAAEAAAAAAAAAAgAAAAIAAAAAAAAAAQAAAAAAAAABAAAAAgAAAAEAAAACAAAAAAAAAAEAAAABAAAAAQAAAAIAAAAAAAAAAgAAAAAAAAACAAAAAAAAAAAAAAACAAAAAgAAAAAAAAAAAAAAAQAAAAAAAAAAAAAAAAAAAAAAAAAAAAAAAAAAAAAAAAABAAAAAAAAAAAAAAAAAAAAAgAAAAAAAAACAAAAAAAAAAAAAAABAAAAAQAAAAAAAAAAAAAAAgAAAAAAAAAAAAAAAAAAAAEAAAABAAAAAQAAAAEAAAAAAAAAAAAAAAEAAAACAAAAAAAAAAIAAAACAAAAAgAAAAIAAAACAAAAAAAAAAEAAAAAAAAAAQAAAAEAAAAAAAAAAQAAAAEAAAACAAAAAAAAAAAAAAACAAAAAAAAAAIAAAAAAAAAAAAAAAIAAAAAAAAAAQAAAAIAAAAAAAAAAQAAAAIAAAABAAAAAgAAAAIAAAAAAAAAAAAAAAAAAAAAAAAAAAAAAAEAAAACAAAAAQAAAAEAAAACAAAAAQAAAAAAAAAAAAAAAAAAAAAAAAABAAAAAQAAAAIAAAABAAAAAgAAAAIAAAAAAAAAAAAAAAIAAAABAAAAAgAAAAEAAAABAAAAAAAAAAIAAAABAAAAAgAAAAEAAAACAAAAAAAAAAEAAAABAAAAAQAAAAAAAAABAAAAAgAAAAAAAAACAAAAAgAAAAIAAAAAAAAAAAAAAAAAAAACAAAAAQAAAAAAAAAAAAAAAQAAAAEAAAAAAAAAAAAAAAEAAAAAAAAAAAAAAAAAAAACAAAAAAAAAAEAAAAAAAAAAAAAAAAAAAABAAAAAAAAAAAAAAAAAAAAAQAAAAIAAAACAAAAAAAAAAIAAAAAAAAAAAAAAAAAAAAAAAAAAAAAAAAAAAAAAAAAAQAAAAAAAAACAAAAAAAAAAEAAAABAAAAAgAAAAAAAAAAAAAAAAAAAAIAAAABAAAAAAAAAAEAAAACAAAAAAAAAAIAAAABAAAAAgAAAAEAAAAAAAAAAgAAAAIAAAACAAAAAgAAAAEAAAAAAAAAAgAAAAIAAAACAAAAAgAAAAEAAAAAAAAAAQAAAAEAAAAAAAAAAAAAAAAAAAAAAAAAAgAAAAEAAAACAAAAAAAAAAIAAAAAAAAAAAAAAAIAAAACAAAAAAAAAAAAAAACAAAAAgAAAAEAAAAAAAAAAAAAAAAAAAABAAAAAQAAAAEAAAAAAAAAAAAAAAAAAAACAAAAAgAAAAEAAAAAAAAAAQAAAAEAAAAAAAAAAQAAAAAAAAAAAAAAAAAAAAIAAAACAAAAAgAAAAIAAAACAAAAAgAAAAEAAAAAAAAAAQAAAAIAAAABAAAAAAAAAAAAAAABAAAAAAAAAAIAAAACAAAAAQAAAAAAAAAAAAAAAQAAAAIAAAAAAAAAAAAAAAAAAAACAAAAAQAAAAAAAAAAAAAAAAAAAAAAAAAAAAAAAgAAAAIAAAABAAAAAAAAAAIAAAAAAAAAAAAAAAEAAAABAAAAAQAAAAEAAAABAAAAAQAAAAAAAAAAAAAAAAAAAAAAAAAAAAAAAQAAAAAAAAACAAAAAQAAAAAAAAAAAAAAAQAAAAAAAAABAAAAAQAAAAAAAAAAAAAAAgAAAAEAAAAAAAAAAQAAAAIAAAAAAAAAAgAAAAAAAAACAAAAAgAAAAEAAAAAAAAAAQAAAAAAAAAAAAAAAQAAAAEAAAABAAAAAQAAAAIAAAAAAAAAAAAAAAEAAAABAAAAAAAAAAEAAAACAAAAAQAAAAEAAAABAAAAAQAAAAIAAAABAAAAAQAAAAAAAAAAAAAAAgAAAAEAAAABAAAAAgAAAAAAAAABAAAAAAAAAAAAAAABAAAAAQAAAAEAAAAAAAAAAAAAAAEAAAAAAAAAAgAAAAAAAAAAAAAAAgAAAAEAAAAAAAAAAgAAAAEAAAACAAAAAQAAAAEAAAAAAAAAAAAAAAIAAAABAAAAAAAAAAEAAAACAAAAAAAAAAIAAAAAAAAAAQAAAAIAAAABAAAAAQAAAAAAAAACAAAAAAAAAAIAAAABAAAAAAAAAAEAAAACAAAAAAAAAAEAAAACAAAAAgAAAAIAAAAAAAAAAgAAAAIAAAAAAAAAAAAAAAAAAAABAAAAAQAAAAEAAAABAAAAAAAAAAEAAAABAAAAAQAAAAIAAAAAAAAAAAAAAAAAAAAAAAAAAAAAAAAAAAABAAAAAAAAAAEAAAAAAAAAAgAAAAIAAAABAAAAAAAAAAAAAAAAAAAAAgAAAAIAAAACAAAAAgAAAAAAAAACAAAAAgAAAAAAAAABAAAAAAAAAAEAAAAAAAAAAAAAAAAAAAABAAAAAQAAAAIAAAACAAAAAQAAAAIAAAAAAAAAAAAAAAAAAAAAAAAAAgAAAAAAAAAAAAAAAAAAAAAAAAABAAAAAgAAAAEAAAAAAAAAAQAAAAIAAAAAAAAAAQAAAAEAAAABAAAAAAAAAAIAAAAAAAAAAAAAAAEAAAAAAAAAAAAAAAAAAAAAAAAAAAAAAAEAAAAAAAAAAAAAAAEAAAAAAAAAAQAAAAAAAAAAAAAAAQAAAAAAAAAAAAAAAQAAAAAAAAABAAAAAAAAAAAAAAABAAAAAAAAAAAAAAAAAAAAAAAAAAEAAAABAAAAAAAAAAEAAAABAAAAAAAAAAAAAAACAAAAAgAAAAAAAAABAAAAAAAAAAAAAAAAAAAAAQAAAAEAAAACAAAAAAAAAAEAAAACAAAAAQAAAAEAAAACAAAAAAAAAAAAAAACAAAAAgAAAAEAAAABAAAAAAAAAAAAAAABAAAAAAAAAAIAAAAAAAAAAAAAAAAAAAACAAAAAAAAAAEAAAACAAAAAgAAAAIAAAABAAAAAAAAAAIAAAAAAAAAAQAAAAAAAAACAAAAAAAAAAIAAAACAAAAAQAAAAAAAAAAAAAAAQAAAAIAAAABAAAAAAAAAAEAAAABAAAAAQAAAAIAAAACAAAAAAAAAAEAAAAAAAAAAAAAAAIAAAABAAAAAgAAAAAAAAACAAAAAAAAAAAAAAABAAAAAQAAAAAAAAAAAAAAAAAAAAIAAAAAAAAAAAAAAAAAAAACAAAAAAAAAAAAAAACAAAAAAAAAAIAAAABAAAAAQAAAAAAAAAAAAAAAQAAAAEAAAACAAAAAQAAAAAAAAACAAAAAgAAAAIAAAAAAAAAAgAAAAAAAAAAAAAAAgAAAAIAAAACAAAAAQAAAAIAAAACAAAAAAAAAAAAAAAAAAAAAgAAAAIAAAABAAAAAAAAAAAAAAAAAAAAAQAAAAAAAAABAAAAAAAAAAIAAAACAAAAAAAAAAEAAAACAAAAAQAAAAIAAAABAAAAAAAAAAAAAAACAAAAAQAAAAEAAAABAAAAAQAAAAEAAAACAAAAAgAAAAEAAAAAAAAAAQAAAAAAAAAAAAAAAgAAAAIAAAAAAAAAAAAAAAAAAAACAAAAAAAAAAAAAAABAAAAAQAAAAAAAAACAAAAAQAAAAIAAAABAAAAAQAAAAAAAAAAAAAAAAAAAAAAAAAAAAAAAAAAAAEAAAACAAAAAAAAAAEAAAAAAAAAAgAAAAAAAAAAAAAAAAAAAAAAAAACAAAAAAAAAAAAAAABAAAAAgAAAAIAAAACAAAAAgAAAAAAAAABAAAAAgAAAAIAAAABAAAAAQAAAAEAAAAAAAAAAgAAAAEAAAAAAAAAAQAAAAAAAAAAAAAAAAAAAAEAAAACAAAAAQAAAAAAAAABAAAAAAAAAAAAAAAAAAAAAAAAAAEAAAABAAAAAAAAAAAAAAACAAAAAAAAAAEAAAAAAAAAAQAAAAAAAAABAAAAAQAAAAIAAAACAAAAAAAAAAAAAAAAAAAAAQAAAAAAAAAAAAAAAAAAAAAAAAAAAAAAAQAAAAEAAAACAAAAAAAAAAAAAAAAAAAAAgAAAAAAAAAAAAAAAQAAAAEAAAACAAAAAAAAAAIAAAACAAAAAgAAAAIAAAACAAAAAAAAAAAAAAABAAAAAgAAAAEAAAACAAAAAAAAAAEAAAACAAAAAAAAAAEAAAAAAAAAAAAAAAAAAAABAAAAAAAAAAEAAAAAAAAAAgAAAAIAAAACAAAAAQAAAAEAAAAAAAAAAgAAAAAAAAABAAAAAgAAAAAAAAACAAAAAAAAAAEAAAABAAAAAAAAAAAAAAABAAAAAQAAAAEAAAAAAAAAAQAAAAAAAAAAAAAAAAAAAAAAAAACAAAAAAAAAAAAAAACAAAAAQAAAAIAAAABAAAAAAAAAAIAAAAAAAAAAgAAAAAAAAAAAAAAAAAAAAAAAAABAAAAAgAAAAEAAAAAAAAAAgAAAAAAAAAAAAAAAQAAAAEAAAAAAAAAAAAAAAEAAAABAAAAAAAAAAEAAAAAAAAAAAAAAAAAAAACAAAAAgAAAAAAAAACAAAAAAAAAAEAAAAAAAAAAAAAAAAAAAABAAAAAAAAAAIAAAAAAAAAAgAAAAEAAAABAAAAAAAAAAEAAAAAAAAAAQAAAAEAAAAAAAAAAAAAAAEAAAAAAAAAAAAAAAEAAAABAAAAAAAAAAEAAAACAAAAAAAAAAAAAAAAAAAAAgAAAAIAAAAAAAAAAAAAAAEAAAACAAAAAQAAAAEAAAACAAAAAAAAAAAAAAACAAAAAgAAAAEAAAAAAAAAAgAAAAAAAAAAAAAAAAAAAAEAAAABAAAAAAAAAAIAAAACAAAAAAAAAAIAAAAAAAAAAQAAAAAAAAAAAAAAAQAAAAIAAAACAAAAAAAAAAEAAAAAAAAAAAAAAAAAAAAAAAAAAgAAAAIAAAAAAAAAAgAAAAIAAAAAAAAAAQAAAAEAAAABAAAAAQAAAAIAAAACAAAAAgAAAAAAAAAAAAAAAgAAAAIAAAACAAAAAAAAAAAAAAAAAAAAAAAAAAAAAAAAAAAAAQAAAAAAAAAAAAAAAQAAAAAAAAACAAAAAQAAAAEAAAAAAAAAAAAAAAEAAAAAAAAAAgAAAAIAAAACAAAAAgAAAAAAAAAAAAAAAAAAAAAAAAACAAAAAgAAAAIAAAAAAAAAAAAAAAEAAAAAAAAAAgAAAAIAAAACAAAAAAAAAAEAAAABAAAAAQAAAAEAAAAAAAAAAQAAAAIAAAACAAAAAQAAAAAAAAABAAAAAgAAAAAAAAACAAAAAQAAAAIAAAAAAAAAAQAAAAAAAAABAAAAAAAAAAAAAAACAAAAAgAAAAIAAAABAAAAAQAAAAAAAAAAAAAAAQAAAAIAAAACAAAAAQAAAAEAAAACAAAAAgAAAAIAAAAAAAAAAQAAAAIAAAABAAAAAAAAAAAAAAABAAAAAgAAAAIAAAACAAAAAQAAAAEAAAAAAAAAAQAAAAEAAAACAAAAAgAAAAEAAAAAAAAAAAAAAAAAAAACAAAAAAAAAAAAAAABAAAAAAAAAAEAAAAAAAAAAQAAAAIAAAACAAAAAQAAAAIAAAACAAAAAQAAAAEAAAAAAAAAAgAAAAAAAAAAAAAAAAAAAAIAAAABAAAAAAAAAAEAAAABAAAAAQAAAAIAAAABAAAAAAAAAAIAAAAAAAAAAQAAAAEAAAABAAAAAgAAAAAAAAACAAAAAAAAAAAAAAABAAAAAAAAAAIAAAABAAAAAgAAAAAAAAAAAAAAAgAAAAIAAAAAAAAAAQAAAAEAAAAAAAAAAAAAAAIAAAACAAAAAgAAAAAAAAAAAAAAAAAAAAAAAAABAAAAAgAAAAIAAAAAAAAAAQAAAAAAAAACAAAAAgAAAAAAAAACAAAAAgAAAAAAAAACAAAAAgAAAAEAAAACAAAAAAAAAAAAAAABAAAAAAAAAAIAAAAAAAAAAQAAAAIAAAAAAAAAAQAAAAAAAAACAAAAAgAAAAEAAAAAAAAAAAAAAAEAAAABAAAAAAAAAAEAAAABAAAAAgAAAAEAAAACAAAAAgAAAAIAAAABAAAAAgAAAAIAAAABAAAAAAAAAAIAAAACAAAAAQAAAAEAAAAAAAAAAAAAAAAAAAACAAAAAQAAAAEAAAABAAAAAgAAAAAAAAACAAAAAAAAAAIAAAACAAAAAgAAAAAAAAAAAAAAAgAAAAAAAAAAAAAAAAAAAAEAAAAAAAAAAAAAAAAAAAACAAAAAQAAAAEAAAAAAAAAAAAAAAEAAAABAAAAAQAAAAIAAAACAAAAAQAAAAEAAAAAAAAAAgAAAAEAAAAAAAAAAAAAAAAAAAACAAAAAgAAAAIAAAAAAAAAAgAAAAIAAAAAAAAAAQAAAAAAAAAAAAAAAAAAAAAAAAAAAAAAAQAAAAEAAAAAAAAAAQAAAAEAAAAAAAAAAgAAAAAAAAAAAAAAAgAAAAEAAAABAAAAAgAAAAEAAAAAAAAAAAAAAAIAAAAAAAAAAAAAAAAAAAAAAAAAAgAAAAIAAAACAAAAAQAAAAAAAAACAAAAAAAAAAEAAAACAAAAAQAAAAAAAAAAAAAAAQAAAAEAAAAAAAAAAQAAAAAAAAABAAAAAAAAAAAAAAABAAAAAAAAAAAAAAACAAAAAAAAAAAAAAABAAAAAgAAAAAAAAACAAAAAAAAAAIAAAAAAAAAAQAAAAIAAAABAAAAAAAAAAIAAAACAAAAAgAAAAIAAAAAAAAAAgAAAAEAAAAAAAAAAgAAAAEAAAABAAAAAQAAAAAAAAACAAAAAQAAAAAAAAABAAAAAgAAAAAAAAACAAAAAQAAAAEAAAAAAAAAAAAAAAAAAAACAAAAAgAAAAIAAAAAAAAAAQAAAAAAAAACAAAAAgAAAAEAAAACAAAAAAAAAAAAAAAAAAAAAgAAAAEAAAAAAAAAAgAAAAIAAAAAAAAAAQAAAAEAAAABAAAAAQAAAAIAAAABAAAAAgAAAAEAAAABAAAAAQAAAAIAAAAAAAAAAAAAAAIAAAAAAAAAAgAAAAAAAAABAAAAAgAAAAAAAAABAAAAAAAAAAIAAAABAAAAAgAAAAEAAAAAAAAAAQAAAAAAAAACAAAAAAAAAAIAAAABAAAAAQAAAAAAAAACAAAAAAAAAAEAAAACAAAAAAAAAAIAAAAAAAAAAgAAAAIAAAAAAAAAAAAAAAAAAAACAAAAAQAAAAAAAAABAAAAAQAAAAIAAAAAAAAAAgAAAAEAAAABAAAAAQAAAAAAAAAAAAAAAQAAAAIAAAAAAAAAAgAAAAAAAAACAAAAAAAAAAEAAAABAAAAAQAAAAEAAAACAAAAAgAAAAEAAAAAAAAAAQAAAAIAAAACAAAAAQAAAAIAAAAAAAAAAgAAAAIAAAABAAAAAAAAAAIAAAABAAAAAAAAAAIAAAACAAAAAAAAAAEAAAACAAAAAAAAAAIAAAABAAAAAAAAAAEAAAACAAAAAAAAAAAAAAACAAAAAQAAAAEAAAAAAAAAAQAAAAAAAAAAAAAAAAAAAAIAAAACAAAAAAAAAAIAAAABAAAAAgAAAAIAAAAAAAAAAAAAAAAAAAACAAAAAAAAAAIAAAACAAAAAgAAAAAAAAACAAAAAQAAAAEAAAABAAAAAgAAAAIAAAACAAAAAAAAAAAAAAACAAAAAAAAAAEAAAAAAAAAAgAAAAAAAAAAAAAAAgAAAAAAAAAAAAAAAQAAAAIAAAAAAAAAAAAAAAIAAAAAAAAAAgAAAAEAAAACAAAAAAAAAAIAAAABAAAAAAAAAAEAAAACAAAAAQAAAAEAAAABAAAAAQAAAAEAAAAAAAAAAAAAAAEAAAABAAAAAgAAAAAAAAACAAAAAgAAAAIAAAABAAAAAgAAAAEAAAABAAAAAgAAAAAAAAABAAAAAgAAAAEAAAAAAAAAAgAAAAAAAAAAAAAAAgAAAAAAAAAAAAAAAgAAAAIAAAACAAAAAAAAAAAAAAACAAAAAAAAAAAAAAAAAAAAAAAAAAEAAAABAAAAAAAAAAIAAAAAAAAAAQAAAAAAAAACAAAAAAAAAAIAAAACAAAAAgAAAAIAAAACAAAAAAAAAAEAAAACAAAAAgAAAAIAAAABAAAAAgAAAAEAAAAAAAAAAAAAAAAAAAABAAAAAQAAAAAAAAABAAAAAQAAAAEAAAACAAAAAgAAAAEAAAAAAAAAAQAAAAAAAAABAAAAAAAAAAAAAAABAAAAAgAAAAAAAAABAAAAAAAAAAIAAAAAAAAAAgAAAAAAAAABAAAAAQAAAAAAAAACAAAAAAAAAAIAAAACAAAAAQAAAAAAAAACAAAAAQAAAAIAAAAAAAAAAAAAAAAAAAAAAAAAAQAAAAEAAAABAAAAAQAAAAIAAAABAAAAAQAAAAAAAAAAAAAAAAAAAAAAAAAAAAAAAgAAAAEAAAACAAAAAQAAAAAAAAAAAAAAAgAAAAAAAAABAAAAAAAAAAIAAAAAAAAAAAAAAAIAAAAAAAAAAAAAAAAAAAABAAAAAQAAAAEAAAABAAAAAgAAAAAAAAACAAAAAgAAAAIAAAABAAAAAQAAAAEAAAAAAAAAAAAAAAAAAAABAAAAAAAAAAAAAAABAAAAAAAAAAEAAAACAAAAAAAAAAIAAAABAAAAAAAAAAEAAAACAAAAAgAAAAAAAAACAAAAAAAAAAAAAAABAAAAAgAAAAIAAAAAAAAAAgAAAAEAAAABAAAAAAAAAAIAAAAAAAAAAQAAAAIAAAACAAAAAgAAAAAAAAABAAAAAAAAAAIAAAACAAAAAAAAAAAAAAABAAAAAAAAAAAAAAAAAAAAAAAAAAAAAAABAAAAAAAAAAEAAAABAAAAAgAAAAAAAAABAAAAAAAAAAAAAAAAAAAAAgAAAAIAAAAAAAAAAAAAAAEAAAABAAAAAQAAAAAAAAACAAAAAgAAAAIAAAABAAAAAgAAAAAAAAACAAAAAAAAAAIAAAABAAAAAgAAAAEAAAABAAAAAAAAAAEAAAAAAAAAAgAAAAAAAAAAAAAAAgAAAAEAAAABAAAAAgAAAAAAAAAAAAAAAQAAAAAAAAACAAAAAQAAAAIAAAAAAAAAAAAAAAEAAAAAAAAAAAAAAAAAAAAAAAAAAgAAAAAAAAACAAAAAQAAAAAAAAACAAAAAQAAAAEAAAACAAAAAQAAAAAAAAACAAAAAQAAAAAAAAAAAAAAAAAAAAIAAAACAAAAAAAAAAAAAAACAAAAAQAAAAEAAAACAAAAAgAAAAIAAAAAAAAAAQAAAAIAAAACAAAAAAAAAAEAAAAAAAAAAgAAAAIAAAAAAAAAAQAAAAIAAAAAAAAAAAAAAAEAAAABAAAAAQAAAAIAAAAAAAAAAQAAAAEAAAAAAAAAAQAAAAIAAAAAAAAAAQAAAAIAAAACAAAAAAAAAAAAAAACAAAAAgAAAAIAAAACAAAAAgAAAAIAAAACAAAAAAAAAAAAAAAAAAAAAAAAAAAAAAACAAAAAAAAAAAAAAAAAAAAAAAAAAEAAAACAAAAAgAAAAAAAAACAAAAAQAAAAIAAAAAAAAAAAAAAAAAAAABAAAAAAAAAAIAAAABAAAAAgAAAAAAAAABAAAAAAAAAAIAAAABAAAAAgAAAAAAAAABAAAAAAAAAAEAAAACAAAAAgAAAAEAAAAAAAAAAAAAAAIAAAACAAAAAQAAAAEAAAABAAAAAAAAAAAAAAAAAAAAAAAAAAAAAAACAAAAAAAAAAAAAAACAAAAAgAAAAAAAAACAAAAAQAAAAAAAAACAAAAAAAAAAAAAAACAAAAAAAAAAEAAAACAAAAAQAAAAIAAAABAAAAAgAAAAIAAAAAAAAAAgAAAAIAAAAAAAAAAgAAAAIAAAACAAAAAgAAAAIAAAAAAAAAAQAAAAEAAAAAAAAAAAAAAAAAAAABAAAAAQAAAAEAAAAAAAAAAAAAAAIAAAABAAAAAAAAAAEAAAABAAAAAgAAAAAAAAABAAAAAAAAAAAAAAAAAAAAAAAAAAIAAAAAAAAAAgAAAAAAAAABAAAAAAAAAAEAAAACAAAAAQAAAAAAAAAAAAAAAgAAAAEAAAAAAAAAAAAAAAAAAAAAAAAAAQAAAAAAAAACAAAAAAAAAAIAAAACAAAAAAAAAAEAAAACAAAAAQAAAAAAAAACAAAAAQAAAAEAAAABAAAAAAAAAAAAAAACAAAAAQAAAAIAAAACAAAAAAAAAAAAAAAAAAAAAAAAAAEAAAACAAAAAAAAAAAAAAAAAAAAAAAAAAAAAAAAAAAAAQAAAAEAAAAAAAAAAAAAAAIAAAABAAAAAAAAAAIAAAAAAAAAAAAAAAAAAAABAAAAAAAAAAIAAAABAAAAAgAAAAIAAAAAAAAAAgAAAAAAAAAAAAAAAgAAAAIAAAABAAAAAAAAAAIAAAAAAAAAAAAAAAEAAAACAAAAAgAAAAEAAAABAAAAAAAAAAEAAAABAAAAAAAAAAEAAAABAAAAAAAAAAEAAAACAAAAAAAAAAEAAAABAAAAAgAAAAEAAAAAAAAAAgAAAAEAAAACAAAAAAAAAAAAAAABAAAAAQAAAAAAAAABAAAAAAAAAAEAAAABAAAAAQAAAAEAAAAAAAAAAAAAAAAAAAACAAAAAgAAAAAAAAACAAAAAQAAAAEAAAABAAAAAAAAAAAAAAACAAAAAgAAAAIAAAABAAAAAAAAAAEAAAAAAAAAAgAAAAEAAAACAAAAAAAAAAEAAAABAAAAAAAAAAIAAAACAAAAAAAAAAAAAAABAAAAAAAAAAIAAAAAAAAAAAAAAAEAAAACAAAAAAAAAAEAAAAAAAAAAQAAAAAAAAACAAAAAAAAAAIAAAABAAAAAQAAAAIAAAACAAAAAAAAAAEAAAACAAAAAQAAAAAAAAABAAAAAgAAAAIAAAACAAAAAAAAAAEAAAAAAAAAAAAAAAEAAAACAAAAAgAAAAIAAAAAAAAAAQAAAAIAAAAAAAAAAAAAAAIAAAAAAAAAAQAAAAAAAAACAAAAAAAAAAEAAAABAAAAAgAAAAAAAAABAAAAAAAAAAAAAAAAAAAAAAAAAAAAAAACAAAAAQAAAAAAAAAAAAAAAgAAAAAAAAABAAAAAgAAAAEAAAAAAAAAAAAAAAIAAAABAAAAAQAAAAIAAAACAAAAAQAAAAEAAAACAAAAAAAAAAAAAAACAAAAAgAAAAAAAAAAAAAAAAAAAAIAAAACAAAAAAAAAAAAAAAAAAAAAgAAAAAAAAABAAAAAAAAAAIAAAABAAAAAgAAAAEAAAACAAAAAAAAAAAAAAAAAAAAAgAAAAEAAAABAAAAAAAAAAAAAAACAAAAAAAAAAAAAAAAAAAAAgAAAAAAAAACAAAAAQAAAAAAAAAAAAAAAQAAAAIAAAABAAAAAQAAAAEAAAABAAAAAgAAAAIAAAABAAAAAAAAAAIAAAACAAAAAQAAAAAAAAAAAAAAAAAAAAEAAAAAAAAAAgAAAAAAAAAAAAAAAQAAAAAAAAAAAAAAAAAAAAIAAAAAAAAAAQAAAAAAAAABAAAAAAAAAAIAAAAAAAAAAAAAAAIAAAABAAAAAAAAAAAAAAAAAAAAAgAAAAAAAAABAAAAAAAAAAEAAAAAAAAAAgAAAAEAAAACAAAAAAAAAAEAAAAAAAAAAQAAAAIAAAABAAAAAgAAAAAAAAABAAAAAgAAAAAAAAABAAAAAQAAAAAAAAACAAAAAQAAAAAAAAACAAAAAgAAAAIAAAABAAAAAAAAAAEAAAACAAAAAAAAAAEAAAABAAAAAgAAAAIAAAACAAAAAgAAAAIAAAAAAAAAAgAAAAAAAAACAAAAAAAAAAEAAAABAAAAAAAAAAIAAAACAAAAAAAAAAIAAAAAAAAAAgAAAAAAAAACAAAAAQAAAAAAAAAAAAAAAAAAAAAAAAABAAAAAgAAAAEAAAACAAAAAgAAAAIAAAACAAAAAQAAAAAAAAAAAAAAAAAAAAAAAAAAAAAAAAAAAAAAAAACAAAAAgAAAAEAAAAAAAAAAAAAAAIAAAACAAAAAQAAAAEAAAABAAAAAQAAAAAAAAACAAAAAAAAAAAAAAAAAAAAAQAAAAAAAAACAAAAAgAAAAIAAAAAAAAAAQAAAAAAAAAAAAAAAQAAAAIAAAAAAAAAAAAAAAEAAAACAAAAAAAAAAAAAAAAAAAAAAAAAAAAAAAAAAAAAQAAAAIAAAAAAAAAAgAAAAEAAAAAAAAAAAAAAAEAAAACAAAAAAAAAAAAAAACAAAAAgAAAAAAAAACAAAAAgAAAAAAAAABAAAAAAAAAAIAAAABAAAAAQAAAAIAAAABAAAAAQAAAAAAAAAAAAAAAgAAAAAAAAAAAAAAAAAAAAAAAAABAAAAAgAAAAIAAAABAAAAAgAAAAEAAAACAAAAAAAAAAIAAAAAAAAAAQAAAAIAAAABAAAAAAAAAAIAAAABAAAAAQAAAAAAAAAAAAAAAAAAAAEAAAAAAAAAAgAAAAEAAAABAAAAAAAAAAIAAAACAAAAAQAAAAAAAAABAAAAAQAAAAEAAAACAAAAAAAAAAEAAAAAAAAAAAAAAAEAAAAAAAAAAQAAAAIAAAACAAAAAgAAAAAAAAAAAAAAAQAAAAAAAAACAAAAAAAAAAAAAAACAAAAAQAAAAIAAAACAAAAAAAAAAIAAAACAAAAAAAAAAIAAAABAAAAAQAAAAAAAAACAAAAAAAAAAEAAAACAAAAAgAAAAIAAAAAAAAAAgAAAAEAAAABAAAAAAAAAAIAAAAAAAAAAQAAAAEAAAABAAAAAAAAAAIAAAABAAAAAgAAAAIAAAACAAAAAAAAAAEAAAABAAAAAAAAAAIAAAABAAAAAQAAAAAAAAABAAAAAQAAAAAAAAABAAAAAQAAAAAAAAABAAAAAgAAAAAAAAAAAAAAAQAAAAAAAAAAAAAAAAAAAAAAAAACAAAAAAAAAAIAAAACAAAAAgAAAAEAAAAAAAAAAgAAAAAAAAAAAAAAAQAAAAIAAAACAAAAAQAAAAEAAAAAAAAAAQAAAAEAAAABAAAAAAAAAAEAAAABAAAAAgAAAAIAAAAAAAAAAAAAAAEAAAAAAAAAAAAAAAEAAAABAAAAAgAAAAAAAAAAAAAAAgAAAAAAAAACAAAAAQAAAAIAAAABAAAAAAAAAAEAAAABAAAAAQAAAAEAAAABAAAAAQAAAAAAAAAAAAAAAAAAAAEAAAAAAAAAAgAAAAIAAAACAAAAAAAAAAEAAAAAAAAAAQAAAAAAAAAAAAAAAgAAAAAAAAACAAAAAQAAAAAAAAAAAAAAAAAAAAIAAAACAAAAAAAAAAAAAAABAAAAAQAAAAAAAAAAAAAAAAAAAAIAAAABAAAAAAAAAAAAAAABAAAAAAAAAAAAAAAAAAAAAAAAAAAAAAABAAAAAAAAAAEAAAACAAAAAgAAAAEAAAABAAAAAQAAAAIAAAAAAAAAAQAAAAIAAAABAAAAAAAAAAIAAAAAAAAAAQAAAAEAAAAAAAAAAAAAAAIAAAAAAAAAAAAAAAAAAAAAAAAAAAAAAAAAAAABAAAAAQAAAAAAAAACAAAAAAAAAAAAAAACAAAAAAAAAAEAAAAAAAAAAQAAAAAAAAACAAAAAAAAAAEAAAAAAAAAAAAAAAIAAAAAAAAAAQAAAAAAAAAAAAAAAQAAAAAAAAACAAAAAAAAAAEAAAACAAAAAQAAAAAAAAACAAAAAgAAAAIAAAACAAAAAgAAAAEAAAAAAAAAAAAAAAAAAAABAAAAAAAAAAEAAAACAAAAAAAAAAAAAAACAAAAAAAAAAAAAAAAAAAAAQAAAAAAAAAAAAAAAAAAAAEAAAABAAAAAAAAAAAAAAACAAAAAAAAAAIAAAAAAAAAAgAAAAEAAAACAAAAAgAAAAAAAAACAAAAAQAAAAIAAAAAAAAAAQAAAAIAAAABAAAAAAAAAAAAAAACAAAAAgAAAAIAAAACAAAAAQAAAAIAAAACAAAAAQAAAAAAAAAAAAAAAgAAAAEAAAAAAAAAAgAAAAAAAAAAAAAAAgAAAAIAAAACAAAAAQAAAAIAAAAAAAAAAQAAAAIAAAAAAAAAAgAAAAAAAAACAAAAAQAAAAEAAAAAAAAAAAAAAAEAAAAAAAAAAQAAAAAAAAAAAAAAAAAAAAAAAAACAAAAAgAAAAIAAAABAAAAAAAAAAIAAAABAAAAAgAAAAIAAAAAAAAAAAAAAAIAAAAAAAAAAQAAAAEAAAABAAAAAAAAAAIAAAACAAAAAQAAAAIAAAAAAAAAAAAAAAAAAAACAAAAAQAAAAAAAAABAAAAAAAAAAIAAAAAAAAAAQAAAAEAAAAAAAAAAgAAAAIAAAAAAAAAAgAAAAAAAAABAAAAAgAAAAEAAAACAAAAAgAAAAAAAAABAAAAAAAAAAIAAAACAAAAAQAAAAIAAAAAAAAAAAAAAAAAAAACAAAAAQAAAAEAAAABAAAAAQAAAAEAAAABAAAAAAAAAAAAAAAAAAAAAAAAAAIAAAACAAAAAgAAAAIAAAABAAAAAQAAAAIAAAABAAAAAQAAAAIAAAABAAAAAAAAAAAAAAAAAAAAAgAAAAAAAAACAAAAAAAAAAIAAAABAAAAAgAAAAAAAAABAAAAAgAAAAAAAAAAAAAAAAAAAAAAAAACAAAAAQAAAAEAAAAAAAAAAgAAAAAAAAAAAAAAAgAAAAEAAAACAAAAAAAAAAIAAAAAAAAAAAAAAAAAAAAAAAAAAQAAAAAAAAACAAAAAQAAAAAAAAACAAAAAAAAAAEAAAACAAAAAgAAAAAAAAAAAAAAAAAAAAAAAAACAAAAAgAAAAIAAAABAAAAAQAAAAAAAAACAAAAAgAAAAEAAAABAAAAAQAAAAAAAAABAAAAAQAAAAEAAAACAAAAAAAAAAIAAAAAAAAAAgAAAAAAAAAAAAAAAAAAAAIAAAABAAAAAAAAAAAAAAACAAAAAgAAAAEAAAACAAAAAQAAAAIAAAABAAAAAAAAAAEAAAACAAAAAgAAAAEAAAAAAAAAAAAAAAEAAAACAAAAAQAAAAAAAAAAAAAAAgAAAAIAAAAAAAAAAAAAAAIAAAAAAAAAAAAAAAAAAAABAAAAAgAAAAAAAAABAAAAAgAAAAIAAAAAAAAAAAAAAAEAAAABAAAAAQAAAAEAAAACAAAAAAAAAAAAAAAAAAAAAgAAAAIAAAACAAAAAQAAAAEAAAABAAAAAgAAAAEAAAACAAAAAQAAAAIAAAAAAAAAAQAAAAAAAAAAAAAAAAAAAAAAAAACAAAAAgAAAAIAAAABAAAAAAAAAAAAAAABAAAAAAAAAAAAAAAAAAAAAQAAAAIAAAAAAAAAAQAAAAAAAAABAAAAAQAAAAAAAAABAAAAAAAAAAAAAAAAAAAAAgAAAAEAAAABAAAAAQAAAAIAAAAAAAAAAAAAAAAAAAACAAAAAQAAAAIAAAACAAAAAAAAAAEAAAAAAAAAAQAAAAAAAAABAAAAAgAAAAIAAAAAAAAAAgAAAAIAAAAAAAAAAAAAAAAAAAAAAAAAAAAAAAIAAAACAAAAAgAAAAIAAAAAAAAAAAAAAAAAAAABAAAAAgAAAAEAAAACAAAAAAAAAAEAAAACAAAAAgAAAAEAAAABAAAAAAAAAAEAAAABAAAAAQAAAAAAAAAAAAAAAQAAAAIAAAACAAAAAgAAAAIAAAAAAAAAAQAAAAEAAAAAAAAAAgAAAAAAAAAAAAAAAQAAAAEAAAAAAAAAAgAAAAIAAAAAAAAAAgAAAAIAAAAAAAAAAQAAAAIAAAABAAAAAQAAAAIAAAABAAAAAQAAAAIAAAABAAAAAgAAAAEAAAACAAAAAgAAAAEAAAAAAAAAAgAAAAEAAAABAAAAAAAAAAIAAAAAAAAAAAAAAAEAAAACAAAAAAAAAAAAAAACAAAAAgAAAAEAAAABAAAAAAAAAAIAAAACAAAAAgAAAAAAAAABAAAAAAAAAAAAAAA=",
           "dtype": "i4"
          }
         },
         "mode": "markers",
         "name": "Segments",
         "showlegend": false,
         "type": "scatter",
         "x": {
          "bdata": "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",
          "dtype": "f8"
         },
         "xaxis": "x3",
         "y": {
          "bdata": "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",
          "dtype": "f8"
         },
         "yaxis": "y3"
        }
       ],
       "layout": {
        "annotations": [
         {
          "font": {
           "size": 16
          },
          "showarrow": false,
          "text": "Tenure vs Monthly Charges",
          "x": 0.14444444444444446,
          "xanchor": "center",
          "xref": "paper",
          "y": 1,
          "yanchor": "bottom",
          "yref": "paper"
         },
         {
          "font": {
           "size": 16
          },
          "showarrow": false,
          "text": "Tenure vs Total Charges",
          "x": 0.5,
          "xanchor": "center",
          "xref": "paper",
          "y": 1,
          "yanchor": "bottom",
          "yref": "paper"
         },
         {
          "font": {
           "size": 16
          },
          "showarrow": false,
          "text": "Monthly vs Total Charges",
          "x": 0.8555555555555556,
          "xanchor": "center",
          "xref": "paper",
          "y": 1,
          "yanchor": "bottom",
          "yref": "paper"
         }
        ],
        "height": 500,
        "template": {
         "data": {
          "bar": [
           {
            "error_x": {
             "color": "#2a3f5f"
            },
            "error_y": {
             "color": "#2a3f5f"
            },
            "marker": {
             "line": {
              "color": "#E5ECF6",
              "width": 0.5
             },
             "pattern": {
              "fillmode": "overlay",
              "size": 10,
              "solidity": 0.2
             }
            },
            "type": "bar"
           }
          ],
          "barpolar": [
           {
            "marker": {
             "line": {
              "color": "#E5ECF6",
              "width": 0.5
             },
             "pattern": {
              "fillmode": "overlay",
              "size": 10,
              "solidity": 0.2
             }
            },
            "type": "barpolar"
           }
          ],
          "carpet": [
           {
            "aaxis": {
             "endlinecolor": "#2a3f5f",
             "gridcolor": "white",
             "linecolor": "white",
             "minorgridcolor": "white",
             "startlinecolor": "#2a3f5f"
            },
            "baxis": {
             "endlinecolor": "#2a3f5f",
             "gridcolor": "white",
             "linecolor": "white",
             "minorgridcolor": "white",
             "startlinecolor": "#2a3f5f"
            },
            "type": "carpet"
           }
          ],
          "choropleth": [
           {
            "colorbar": {
             "outlinewidth": 0,
             "ticks": ""
            },
            "type": "choropleth"
           }
          ],
          "contour": [
           {
            "colorbar": {
             "outlinewidth": 0,
             "ticks": ""
            },
            "colorscale": [
             [
              0,
              "#0d0887"
             ],
             [
              0.1111111111111111,
              "#46039f"
             ],
             [
              0.2222222222222222,
              "#7201a8"
             ],
             [
              0.3333333333333333,
              "#9c179e"
             ],
             [
              0.4444444444444444,
              "#bd3786"
             ],
             [
              0.5555555555555556,
              "#d8576b"
             ],
             [
              0.6666666666666666,
              "#ed7953"
             ],
             [
              0.7777777777777778,
              "#fb9f3a"
             ],
             [
              0.8888888888888888,
              "#fdca26"
             ],
             [
              1,
              "#f0f921"
             ]
            ],
            "type": "contour"
           }
          ],
          "contourcarpet": [
           {
            "colorbar": {
             "outlinewidth": 0,
             "ticks": ""
            },
            "type": "contourcarpet"
           }
          ],
          "heatmap": [
           {
            "colorbar": {
             "outlinewidth": 0,
             "ticks": ""
            },
            "colorscale": [
             [
              0,
              "#0d0887"
             ],
             [
              0.1111111111111111,
              "#46039f"
             ],
             [
              0.2222222222222222,
              "#7201a8"
             ],
             [
              0.3333333333333333,
              "#9c179e"
             ],
             [
              0.4444444444444444,
              "#bd3786"
             ],
             [
              0.5555555555555556,
              "#d8576b"
             ],
             [
              0.6666666666666666,
              "#ed7953"
             ],
             [
              0.7777777777777778,
              "#fb9f3a"
             ],
             [
              0.8888888888888888,
              "#fdca26"
             ],
             [
              1,
              "#f0f921"
             ]
            ],
            "type": "heatmap"
           }
          ],
          "histogram": [
           {
            "marker": {
             "pattern": {
              "fillmode": "overlay",
              "size": 10,
              "solidity": 0.2
             }
            },
            "type": "histogram"
           }
          ],
          "histogram2d": [
           {
            "colorbar": {
             "outlinewidth": 0,
             "ticks": ""
            },
            "colorscale": [
             [
              0,
              "#0d0887"
             ],
             [
              0.1111111111111111,
              "#46039f"
             ],
             [
              0.2222222222222222,
              "#7201a8"
             ],
             [
              0.3333333333333333,
              "#9c179e"
             ],
             [
              0.4444444444444444,
              "#bd3786"
             ],
             [
              0.5555555555555556,
              "#d8576b"
             ],
             [
              0.6666666666666666,
              "#ed7953"
             ],
             [
              0.7777777777777778,
              "#fb9f3a"
             ],
             [
              0.8888888888888888,
              "#fdca26"
             ],
             [
              1,
              "#f0f921"
             ]
            ],
            "type": "histogram2d"
           }
          ],
          "histogram2dcontour": [
           {
            "colorbar": {
             "outlinewidth": 0,
             "ticks": ""
            },
            "colorscale": [
             [
              0,
              "#0d0887"
             ],
             [
              0.1111111111111111,
              "#46039f"
             ],
             [
              0.2222222222222222,
              "#7201a8"
             ],
             [
              0.3333333333333333,
              "#9c179e"
             ],
             [
              0.4444444444444444,
              "#bd3786"
             ],
             [
              0.5555555555555556,
              "#d8576b"
             ],
             [
              0.6666666666666666,
              "#ed7953"
             ],
             [
              0.7777777777777778,
              "#fb9f3a"
             ],
             [
              0.8888888888888888,
              "#fdca26"
             ],
             [
              1,
              "#f0f921"
             ]
            ],
            "type": "histogram2dcontour"
           }
          ],
          "mesh3d": [
           {
            "colorbar": {
             "outlinewidth": 0,
             "ticks": ""
            },
            "type": "mesh3d"
           }
          ],
          "parcoords": [
           {
            "line": {
             "colorbar": {
              "outlinewidth": 0,
              "ticks": ""
             }
            },
            "type": "parcoords"
           }
          ],
          "pie": [
           {
            "automargin": true,
            "type": "pie"
           }
          ],
          "scatter": [
           {
            "fillpattern": {
             "fillmode": "overlay",
             "size": 10,
             "solidity": 0.2
            },
            "type": "scatter"
           }
          ],
          "scatter3d": [
           {
            "line": {
             "colorbar": {
              "outlinewidth": 0,
              "ticks": ""
             }
            },
            "marker": {
             "colorbar": {
              "outlinewidth": 0,
              "ticks": ""
             }
            },
            "type": "scatter3d"
           }
          ],
          "scattercarpet": [
           {
            "marker": {
             "colorbar": {
              "outlinewidth": 0,
              "ticks": ""
             }
            },
            "type": "scattercarpet"
           }
          ],
          "scattergeo": [
           {
            "marker": {
             "colorbar": {
              "outlinewidth": 0,
              "ticks": ""
             }
            },
            "type": "scattergeo"
           }
          ],
          "scattergl": [
           {
            "marker": {
             "colorbar": {
              "outlinewidth": 0,
              "ticks": ""
             }
            },
            "type": "scattergl"
           }
          ],
          "scattermap": [
           {
            "marker": {
             "colorbar": {
              "outlinewidth": 0,
              "ticks": ""
             }
            },
            "type": "scattermap"
           }
          ],
          "scattermapbox": [
           {
            "marker": {
             "colorbar": {
              "outlinewidth": 0,
              "ticks": ""
             }
            },
            "type": "scattermapbox"
           }
          ],
          "scatterpolar": [
           {
            "marker": {
             "colorbar": {
              "outlinewidth": 0,
              "ticks": ""
             }
            },
            "type": "scatterpolar"
           }
          ],
          "scatterpolargl": [
           {
            "marker": {
             "colorbar": {
              "outlinewidth": 0,
              "ticks": ""
             }
            },
            "type": "scatterpolargl"
           }
          ],
          "scatterternary": [
           {
            "marker": {
             "colorbar": {
              "outlinewidth": 0,
              "ticks": ""
             }
            },
            "type": "scatterternary"
           }
          ],
          "surface": [
           {
            "colorbar": {
             "outlinewidth": 0,
             "ticks": ""
            },
            "colorscale": [
             [
              0,
              "#0d0887"
             ],
             [
              0.1111111111111111,
              "#46039f"
             ],
             [
              0.2222222222222222,
              "#7201a8"
             ],
             [
              0.3333333333333333,
              "#9c179e"
             ],
             [
              0.4444444444444444,
              "#bd3786"
             ],
             [
              0.5555555555555556,
              "#d8576b"
             ],
             [
              0.6666666666666666,
              "#ed7953"
             ],
             [
              0.7777777777777778,
              "#fb9f3a"
             ],
             [
              0.8888888888888888,
              "#fdca26"
             ],
             [
              1,
              "#f0f921"
             ]
            ],
            "type": "surface"
           }
          ],
          "table": [
           {
            "cells": {
             "fill": {
              "color": "#EBF0F8"
             },
             "line": {
              "color": "white"
             }
            },
            "header": {
             "fill": {
              "color": "#C8D4E3"
             },
             "line": {
              "color": "white"
             }
            },
            "type": "table"
           }
          ]
         },
         "layout": {
          "annotationdefaults": {
           "arrowcolor": "#2a3f5f",
           "arrowhead": 0,
           "arrowwidth": 1
          },
          "autotypenumbers": "strict",
          "coloraxis": {
           "colorbar": {
            "outlinewidth": 0,
            "ticks": ""
           }
          },
          "colorscale": {
           "diverging": [
            [
             0,
             "#8e0152"
            ],
            [
             0.1,
             "#c51b7d"
            ],
            [
             0.2,
             "#de77ae"
            ],
            [
             0.3,
             "#f1b6da"
            ],
            [
             0.4,
             "#fde0ef"
            ],
            [
             0.5,
             "#f7f7f7"
            ],
            [
             0.6,
             "#e6f5d0"
            ],
            [
             0.7,
             "#b8e186"
            ],
            [
             0.8,
             "#7fbc41"
            ],
            [
             0.9,
             "#4d9221"
            ],
            [
             1,
             "#276419"
            ]
           ],
           "sequential": [
            [
             0,
             "#0d0887"
            ],
            [
             0.1111111111111111,
             "#46039f"
            ],
            [
             0.2222222222222222,
             "#7201a8"
            ],
            [
             0.3333333333333333,
             "#9c179e"
            ],
            [
             0.4444444444444444,
             "#bd3786"
            ],
            [
             0.5555555555555556,
             "#d8576b"
            ],
            [
             0.6666666666666666,
             "#ed7953"
            ],
            [
             0.7777777777777778,
             "#fb9f3a"
            ],
            [
             0.8888888888888888,
             "#fdca26"
            ],
            [
             1,
             "#f0f921"
            ]
           ],
           "sequentialminus": [
            [
             0,
             "#0d0887"
            ],
            [
             0.1111111111111111,
             "#46039f"
            ],
            [
             0.2222222222222222,
             "#7201a8"
            ],
            [
             0.3333333333333333,
             "#9c179e"
            ],
            [
             0.4444444444444444,
             "#bd3786"
            ],
            [
             0.5555555555555556,
             "#d8576b"
            ],
            [
             0.6666666666666666,
             "#ed7953"
            ],
            [
             0.7777777777777778,
             "#fb9f3a"
            ],
            [
             0.8888888888888888,
             "#fdca26"
            ],
            [
             1,
             "#f0f921"
            ]
           ]
          },
          "colorway": [
           "#636efa",
           "#EF553B",
           "#00cc96",
           "#ab63fa",
           "#FFA15A",
           "#19d3f3",
           "#FF6692",
           "#B6E880",
           "#FF97FF",
           "#FECB52"
          ],
          "font": {
           "color": "#2a3f5f"
          },
          "geo": {
           "bgcolor": "white",
           "lakecolor": "white",
           "landcolor": "#E5ECF6",
           "showlakes": true,
           "showland": true,
           "subunitcolor": "white"
          },
          "hoverlabel": {
           "align": "left"
          },
          "hovermode": "closest",
          "mapbox": {
           "style": "light"
          },
          "paper_bgcolor": "white",
          "plot_bgcolor": "#E5ECF6",
          "polar": {
           "angularaxis": {
            "gridcolor": "white",
            "linecolor": "white",
            "ticks": ""
           },
           "bgcolor": "#E5ECF6",
           "radialaxis": {
            "gridcolor": "white",
            "linecolor": "white",
            "ticks": ""
           }
          },
          "scene": {
           "xaxis": {
            "backgroundcolor": "#E5ECF6",
            "gridcolor": "white",
            "gridwidth": 2,
            "linecolor": "white",
            "showbackground": true,
            "ticks": "",
            "zerolinecolor": "white"
           },
           "yaxis": {
            "backgroundcolor": "#E5ECF6",
            "gridcolor": "white",
            "gridwidth": 2,
            "linecolor": "white",
            "showbackground": true,
            "ticks": "",
            "zerolinecolor": "white"
           },
           "zaxis": {
            "backgroundcolor": "#E5ECF6",
            "gridcolor": "white",
            "gridwidth": 2,
            "linecolor": "white",
            "showbackground": true,
            "ticks": "",
            "zerolinecolor": "white"
           }
          },
          "shapedefaults": {
           "line": {
            "color": "#2a3f5f"
           }
          },
          "ternary": {
           "aaxis": {
            "gridcolor": "white",
            "linecolor": "white",
            "ticks": ""
           },
           "baxis": {
            "gridcolor": "white",
            "linecolor": "white",
            "ticks": ""
           },
           "bgcolor": "#E5ECF6",
           "caxis": {
            "gridcolor": "white",
            "linecolor": "white",
            "ticks": ""
           }
          },
          "title": {
           "x": 0.05
          },
          "xaxis": {
           "automargin": true,
           "gridcolor": "white",
           "linecolor": "white",
           "ticks": "",
           "title": {
            "standoff": 15
           },
           "zerolinecolor": "white",
           "zerolinewidth": 2
          },
          "yaxis": {
           "automargin": true,
           "gridcolor": "white",
           "linecolor": "white",
           "ticks": "",
           "title": {
            "standoff": 15
           },
           "zerolinecolor": "white",
           "zerolinewidth": 2
          }
         }
        },
        "title": {
         "text": "Customer Segments Analysis"
        },
        "width": 1200,
        "xaxis": {
         "anchor": "y",
         "domain": [
          0,
          0.2888888888888889
         ]
        },
        "xaxis2": {
         "anchor": "y2",
         "domain": [
          0.35555555555555557,
          0.6444444444444445
         ]
        },
        "xaxis3": {
         "anchor": "y3",
         "domain": [
          0.7111111111111111,
          1
         ]
        },
        "yaxis": {
         "anchor": "x",
         "domain": [
          0,
          1
         ]
        },
        "yaxis2": {
         "anchor": "x2",
         "domain": [
          0,
          1
         ]
        },
        "yaxis3": {
         "anchor": "x3",
         "domain": [
          0,
          1
         ]
        }
       }
      }
     },
     "metadata": {},
     "output_type": "display_data"
    },
    {
     "name": "stdout",
     "output_type": "stream",
     "text": [
      "\n",
      "Analyzing churn distribution...\n",
      "\n",
      "Displaying churn distribution plot...\n"
     ]
    },
    {
     "data": {
      "application/vnd.plotly.v1+json": {
       "config": {
        "plotlyServerURL": "https://plot.ly"
       },
       "data": [
        {
         "name": "0",
         "type": "bar",
         "x": {
          "bdata": "AAAAAAEAAAACAAAA",
          "dtype": "i4"
         },
         "y": {
          "bdata": "jQbWBIsE",
          "dtype": "i2"
         }
        },
        {
         "name": "1",
         "type": "bar",
         "x": {
          "bdata": "AAAAAAEAAAACAAAA",
          "dtype": "i4"
         },
         "y": {
          "bdata": "awEXARgB",
          "dtype": "i2"
         }
        }
       ],
       "layout": {
        "barmode": "stack",
        "height": 500,
        "template": {
         "data": {
          "bar": [
           {
            "error_x": {
             "color": "#2a3f5f"
            },
            "error_y": {
             "color": "#2a3f5f"
            },
            "marker": {
             "line": {
              "color": "#E5ECF6",
              "width": 0.5
             },
             "pattern": {
              "fillmode": "overlay",
              "size": 10,
              "solidity": 0.2
             }
            },
            "type": "bar"
           }
          ],
          "barpolar": [
           {
            "marker": {
             "line": {
              "color": "#E5ECF6",
              "width": 0.5
             },
             "pattern": {
              "fillmode": "overlay",
              "size": 10,
              "solidity": 0.2
             }
            },
            "type": "barpolar"
           }
          ],
          "carpet": [
           {
            "aaxis": {
             "endlinecolor": "#2a3f5f",
             "gridcolor": "white",
             "linecolor": "white",
             "minorgridcolor": "white",
             "startlinecolor": "#2a3f5f"
            },
            "baxis": {
             "endlinecolor": "#2a3f5f",
             "gridcolor": "white",
             "linecolor": "white",
             "minorgridcolor": "white",
             "startlinecolor": "#2a3f5f"
            },
            "type": "carpet"
           }
          ],
          "choropleth": [
           {
            "colorbar": {
             "outlinewidth": 0,
             "ticks": ""
            },
            "type": "choropleth"
           }
          ],
          "contour": [
           {
            "colorbar": {
             "outlinewidth": 0,
             "ticks": ""
            },
            "colorscale": [
             [
              0,
              "#0d0887"
             ],
             [
              0.1111111111111111,
              "#46039f"
             ],
             [
              0.2222222222222222,
              "#7201a8"
             ],
             [
              0.3333333333333333,
              "#9c179e"
             ],
             [
              0.4444444444444444,
              "#bd3786"
             ],
             [
              0.5555555555555556,
              "#d8576b"
             ],
             [
              0.6666666666666666,
              "#ed7953"
             ],
             [
              0.7777777777777778,
              "#fb9f3a"
             ],
             [
              0.8888888888888888,
              "#fdca26"
             ],
             [
              1,
              "#f0f921"
             ]
            ],
            "type": "contour"
           }
          ],
          "contourcarpet": [
           {
            "colorbar": {
             "outlinewidth": 0,
             "ticks": ""
            },
            "type": "contourcarpet"
           }
          ],
          "heatmap": [
           {
            "colorbar": {
             "outlinewidth": 0,
             "ticks": ""
            },
            "colorscale": [
             [
              0,
              "#0d0887"
             ],
             [
              0.1111111111111111,
              "#46039f"
             ],
             [
              0.2222222222222222,
              "#7201a8"
             ],
             [
              0.3333333333333333,
              "#9c179e"
             ],
             [
              0.4444444444444444,
              "#bd3786"
             ],
             [
              0.5555555555555556,
              "#d8576b"
             ],
             [
              0.6666666666666666,
              "#ed7953"
             ],
             [
              0.7777777777777778,
              "#fb9f3a"
             ],
             [
              0.8888888888888888,
              "#fdca26"
             ],
             [
              1,
              "#f0f921"
             ]
            ],
            "type": "heatmap"
           }
          ],
          "histogram": [
           {
            "marker": {
             "pattern": {
              "fillmode": "overlay",
              "size": 10,
              "solidity": 0.2
             }
            },
            "type": "histogram"
           }
          ],
          "histogram2d": [
           {
            "colorbar": {
             "outlinewidth": 0,
             "ticks": ""
            },
            "colorscale": [
             [
              0,
              "#0d0887"
             ],
             [
              0.1111111111111111,
              "#46039f"
             ],
             [
              0.2222222222222222,
              "#7201a8"
             ],
             [
              0.3333333333333333,
              "#9c179e"
             ],
             [
              0.4444444444444444,
              "#bd3786"
             ],
             [
              0.5555555555555556,
              "#d8576b"
             ],
             [
              0.6666666666666666,
              "#ed7953"
             ],
             [
              0.7777777777777778,
              "#fb9f3a"
             ],
             [
              0.8888888888888888,
              "#fdca26"
             ],
             [
              1,
              "#f0f921"
             ]
            ],
            "type": "histogram2d"
           }
          ],
          "histogram2dcontour": [
           {
            "colorbar": {
             "outlinewidth": 0,
             "ticks": ""
            },
            "colorscale": [
             [
              0,
              "#0d0887"
             ],
             [
              0.1111111111111111,
              "#46039f"
             ],
             [
              0.2222222222222222,
              "#7201a8"
             ],
             [
              0.3333333333333333,
              "#9c179e"
             ],
             [
              0.4444444444444444,
              "#bd3786"
             ],
             [
              0.5555555555555556,
              "#d8576b"
             ],
             [
              0.6666666666666666,
              "#ed7953"
             ],
             [
              0.7777777777777778,
              "#fb9f3a"
             ],
             [
              0.8888888888888888,
              "#fdca26"
             ],
             [
              1,
              "#f0f921"
             ]
            ],
            "type": "histogram2dcontour"
           }
          ],
          "mesh3d": [
           {
            "colorbar": {
             "outlinewidth": 0,
             "ticks": ""
            },
            "type": "mesh3d"
           }
          ],
          "parcoords": [
           {
            "line": {
             "colorbar": {
              "outlinewidth": 0,
              "ticks": ""
             }
            },
            "type": "parcoords"
           }
          ],
          "pie": [
           {
            "automargin": true,
            "type": "pie"
           }
          ],
          "scatter": [
           {
            "fillpattern": {
             "fillmode": "overlay",
             "size": 10,
             "solidity": 0.2
            },
            "type": "scatter"
           }
          ],
          "scatter3d": [
           {
            "line": {
             "colorbar": {
              "outlinewidth": 0,
              "ticks": ""
             }
            },
            "marker": {
             "colorbar": {
              "outlinewidth": 0,
              "ticks": ""
             }
            },
            "type": "scatter3d"
           }
          ],
          "scattercarpet": [
           {
            "marker": {
             "colorbar": {
              "outlinewidth": 0,
              "ticks": ""
             }
            },
            "type": "scattercarpet"
           }
          ],
          "scattergeo": [
           {
            "marker": {
             "colorbar": {
              "outlinewidth": 0,
              "ticks": ""
             }
            },
            "type": "scattergeo"
           }
          ],
          "scattergl": [
           {
            "marker": {
             "colorbar": {
              "outlinewidth": 0,
              "ticks": ""
             }
            },
            "type": "scattergl"
           }
          ],
          "scattermap": [
           {
            "marker": {
             "colorbar": {
              "outlinewidth": 0,
              "ticks": ""
             }
            },
            "type": "scattermap"
           }
          ],
          "scattermapbox": [
           {
            "marker": {
             "colorbar": {
              "outlinewidth": 0,
              "ticks": ""
             }
            },
            "type": "scattermapbox"
           }
          ],
          "scatterpolar": [
           {
            "marker": {
             "colorbar": {
              "outlinewidth": 0,
              "ticks": ""
             }
            },
            "type": "scatterpolar"
           }
          ],
          "scatterpolargl": [
           {
            "marker": {
             "colorbar": {
              "outlinewidth": 0,
              "ticks": ""
             }
            },
            "type": "scatterpolargl"
           }
          ],
          "scatterternary": [
           {
            "marker": {
             "colorbar": {
              "outlinewidth": 0,
              "ticks": ""
             }
            },
            "type": "scatterternary"
           }
          ],
          "surface": [
           {
            "colorbar": {
             "outlinewidth": 0,
             "ticks": ""
            },
            "colorscale": [
             [
              0,
              "#0d0887"
             ],
             [
              0.1111111111111111,
              "#46039f"
             ],
             [
              0.2222222222222222,
              "#7201a8"
             ],
             [
              0.3333333333333333,
              "#9c179e"
             ],
             [
              0.4444444444444444,
              "#bd3786"
             ],
             [
              0.5555555555555556,
              "#d8576b"
             ],
             [
              0.6666666666666666,
              "#ed7953"
             ],
             [
              0.7777777777777778,
              "#fb9f3a"
             ],
             [
              0.8888888888888888,
              "#fdca26"
             ],
             [
              1,
              "#f0f921"
             ]
            ],
            "type": "surface"
           }
          ],
          "table": [
           {
            "cells": {
             "fill": {
              "color": "#EBF0F8"
             },
             "line": {
              "color": "white"
             }
            },
            "header": {
             "fill": {
              "color": "#C8D4E3"
             },
             "line": {
              "color": "white"
             }
            },
            "type": "table"
           }
          ]
         },
         "layout": {
          "annotationdefaults": {
           "arrowcolor": "#2a3f5f",
           "arrowhead": 0,
           "arrowwidth": 1
          },
          "autotypenumbers": "strict",
          "coloraxis": {
           "colorbar": {
            "outlinewidth": 0,
            "ticks": ""
           }
          },
          "colorscale": {
           "diverging": [
            [
             0,
             "#8e0152"
            ],
            [
             0.1,
             "#c51b7d"
            ],
            [
             0.2,
             "#de77ae"
            ],
            [
             0.3,
             "#f1b6da"
            ],
            [
             0.4,
             "#fde0ef"
            ],
            [
             0.5,
             "#f7f7f7"
            ],
            [
             0.6,
             "#e6f5d0"
            ],
            [
             0.7,
             "#b8e186"
            ],
            [
             0.8,
             "#7fbc41"
            ],
            [
             0.9,
             "#4d9221"
            ],
            [
             1,
             "#276419"
            ]
           ],
           "sequential": [
            [
             0,
             "#0d0887"
            ],
            [
             0.1111111111111111,
             "#46039f"
            ],
            [
             0.2222222222222222,
             "#7201a8"
            ],
            [
             0.3333333333333333,
             "#9c179e"
            ],
            [
             0.4444444444444444,
             "#bd3786"
            ],
            [
             0.5555555555555556,
             "#d8576b"
            ],
            [
             0.6666666666666666,
             "#ed7953"
            ],
            [
             0.7777777777777778,
             "#fb9f3a"
            ],
            [
             0.8888888888888888,
             "#fdca26"
            ],
            [
             1,
             "#f0f921"
            ]
           ],
           "sequentialminus": [
            [
             0,
             "#0d0887"
            ],
            [
             0.1111111111111111,
             "#46039f"
            ],
            [
             0.2222222222222222,
             "#7201a8"
            ],
            [
             0.3333333333333333,
             "#9c179e"
            ],
            [
             0.4444444444444444,
             "#bd3786"
            ],
            [
             0.5555555555555556,
             "#d8576b"
            ],
            [
             0.6666666666666666,
             "#ed7953"
            ],
            [
             0.7777777777777778,
             "#fb9f3a"
            ],
            [
             0.8888888888888888,
             "#fdca26"
            ],
            [
             1,
             "#f0f921"
            ]
           ]
          },
          "colorway": [
           "#636efa",
           "#EF553B",
           "#00cc96",
           "#ab63fa",
           "#FFA15A",
           "#19d3f3",
           "#FF6692",
           "#B6E880",
           "#FF97FF",
           "#FECB52"
          ],
          "font": {
           "color": "#2a3f5f"
          },
          "geo": {
           "bgcolor": "white",
           "lakecolor": "white",
           "landcolor": "#E5ECF6",
           "showlakes": true,
           "showland": true,
           "subunitcolor": "white"
          },
          "hoverlabel": {
           "align": "left"
          },
          "hovermode": "closest",
          "mapbox": {
           "style": "light"
          },
          "paper_bgcolor": "white",
          "plot_bgcolor": "#E5ECF6",
          "polar": {
           "angularaxis": {
            "gridcolor": "white",
            "linecolor": "white",
            "ticks": ""
           },
           "bgcolor": "#E5ECF6",
           "radialaxis": {
            "gridcolor": "white",
            "linecolor": "white",
            "ticks": ""
           }
          },
          "scene": {
           "xaxis": {
            "backgroundcolor": "#E5ECF6",
            "gridcolor": "white",
            "gridwidth": 2,
            "linecolor": "white",
            "showbackground": true,
            "ticks": "",
            "zerolinecolor": "white"
           },
           "yaxis": {
            "backgroundcolor": "#E5ECF6",
            "gridcolor": "white",
            "gridwidth": 2,
            "linecolor": "white",
            "showbackground": true,
            "ticks": "",
            "zerolinecolor": "white"
           },
           "zaxis": {
            "backgroundcolor": "#E5ECF6",
            "gridcolor": "white",
            "gridwidth": 2,
            "linecolor": "white",
            "showbackground": true,
            "ticks": "",
            "zerolinecolor": "white"
           }
          },
          "shapedefaults": {
           "line": {
            "color": "#2a3f5f"
           }
          },
          "ternary": {
           "aaxis": {
            "gridcolor": "white",
            "linecolor": "white",
            "ticks": ""
           },
           "baxis": {
            "gridcolor": "white",
            "linecolor": "white",
            "ticks": ""
           },
           "bgcolor": "#E5ECF6",
           "caxis": {
            "gridcolor": "white",
            "linecolor": "white",
            "ticks": ""
           }
          },
          "title": {
           "x": 0.05
          },
          "xaxis": {
           "automargin": true,
           "gridcolor": "white",
           "linecolor": "white",
           "ticks": "",
           "title": {
            "standoff": 15
           },
           "zerolinecolor": "white",
           "zerolinewidth": 2
          },
          "yaxis": {
           "automargin": true,
           "gridcolor": "white",
           "linecolor": "white",
           "ticks": "",
           "title": {
            "standoff": 15
           },
           "zerolinecolor": "white",
           "zerolinewidth": 2
          }
         }
        },
        "title": {
         "text": "Churn Distribution by Customer Segment"
        },
        "width": 800,
        "xaxis": {
         "title": {
          "text": "Segment"
         }
        },
        "yaxis": {
         "title": {
          "text": "Number of Customers"
         }
        }
       }
      }
     },
     "metadata": {},
     "output_type": "display_data"
    },
    {
     "name": "stdout",
     "output_type": "stream",
     "text": [
      "\n",
      "Visualization process complete!\n"
     ]
    }
   ],
   "source": [
    "# Visualize segments\n",
    "def plot_segments(df, features, cluster_col='Cluster'):\n",
    "    \"\"\"Create interactive scatter plots of customer segments using Plotly.\"\"\"\n",
    "    print(\"Preparing data for visualization...\")\n",
    "    \n",
    "    # Ensure numeric data types\n",
    "    for col in ['tenure_months', 'monthly_charges', 'total_charges']:\n",
    "        if col in df.columns:\n",
    "            df[col] = pd.to_numeric(df[col], errors='coerce')\n",
    "    \n",
    "    print(\"Creating segment scatter plots...\")\n",
    "    # Create subplot figure\n",
    "    fig = make_subplots(rows=1, cols=3,\n",
    "                        subplot_titles=('Tenure vs Monthly Charges',\n",
    "                                      'Tenure vs Total Charges',\n",
    "                                      'Monthly vs Total Charges'))\n",
    "    \n",
    "    # Plot tenure vs monthly charges\n",
    "    fig.add_trace(\n",
    "        go.Scatter(x=df['tenure_months'], y=df['monthly_charges'],\n",
    "                  mode='markers', marker=dict(color=df[cluster_col]),\n",
    "                  name='Segments', showlegend=False),\n",
    "        row=1, col=1\n",
    "    )\n",
    "    \n",
    "    # Plot tenure vs total charges\n",
    "    fig.add_trace(\n",
    "        go.Scatter(x=df['tenure_months'], y=df['total_charges'],\n",
    "                  mode='markers', marker=dict(color=df[cluster_col]),\n",
    "                  name='Segments', showlegend=False),\n",
    "        row=1, col=2\n",
    "    )\n",
    "    \n",
    "    # Plot monthly vs total charges\n",
    "    fig.add_trace(\n",
    "        go.Scatter(x=df['monthly_charges'], y=df['total_charges'],\n",
    "                  mode='markers', marker=dict(color=df[cluster_col]),\n",
    "                  name='Segments', showlegend=False),\n",
    "        row=1, col=3\n",
    "    )\n",
    "    \n",
    "    # Update layout\n",
    "    fig.update_layout(height=500, width=1200, title_text=\"Customer Segments Analysis\")\n",
    "    fig.show()\n",
    "\n",
    "print(\"Starting visualization process...\")\n",
    "\n",
    "# Plot customer segments\n",
    "print(\"\\nCreating segment visualizations...\")\n",
    "plot_segments(df_segmented, ['tenure_months', 'monthly_charges', 'total_charges'])\n",
    "\n",
    "# Analyze churn rates by segment\n",
    "print(\"\\nAnalyzing churn distribution...\")\n",
    "churn_by_segment = df_segmented.groupby(['Cluster', 'churn']).size().unstack(fill_value=0)\n",
    "\n",
    "# Create stacked bar chart using Plotly\n",
    "fig = go.Figure(data=[\n",
    "    go.Bar(name=col, x=churn_by_segment.index, y=churn_by_segment[col])\n",
    "    for col in churn_by_segment.columns\n",
    "])\n",
    "\n",
    "# Change the bar mode to stacked\n",
    "fig.update_layout(\n",
    "    barmode='stack',\n",
    "    title='Churn Distribution by Customer Segment',\n",
    "    xaxis_title='Segment',\n",
    "    yaxis_title='Number of Customers',\n",
    "    height=500,\n",
    "    width=800\n",
    ")\n",
    "\n",
    "print(\"\\nDisplaying churn distribution plot...\")\n",
    "fig.show()\n",
    "\n",
    "print(\"\\nVisualization process complete!\")"
   ]
  }
 ],
 "metadata": {
  "kernelspec": {
   "display_name": ".venv",
   "language": "python",
   "name": "python3"
  },
  "language_info": {
   "codemirror_mode": {
    "name": "ipython",
    "version": 3
   },
   "file_extension": ".py",
   "mimetype": "text/x-python",
   "name": "python",
   "nbconvert_exporter": "python",
   "pygments_lexer": "ipython3",
   "version": "3.12.0"
  }
 },
 "nbformat": 4,
 "nbformat_minor": 5
}
