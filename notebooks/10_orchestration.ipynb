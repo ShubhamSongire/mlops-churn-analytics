{
 "cells": [
  {
   "cell_type": "markdown",
   "id": "acd91db8",
   "metadata": {},
   "source": [
    "# 10 – Pipeline Orchestration"
   ]
  },
  {
   "cell_type": "code",
   "execution_count": 1,
   "id": "3f539c20",
   "metadata": {},
   "outputs": [],
   "source": [
    "import sys\n",
    "import os\n",
    "sys.path.insert(0, os.path.abspath('..'))"
   ]
  },
  {
   "cell_type": "code",
   "execution_count": 2,
   "id": "d9b0ca37",
   "metadata": {},
   "outputs": [
    {
     "name": "stderr",
     "output_type": "stream",
     "text": [
      "2025-08-24 14:30:55 - ingest_csv - INFO - Ingested customers.csv with 5000 rows to ingested_20250824_143055_customers.csv\n",
      "2025-08-24 14:30:55 - ingest_csv - INFO - Ingested transactions.csv with 24911 rows to ingested_20250824_143055_transactions.csv\n",
      "2025-08-24 14:30:55 - ingest_api - INFO - Ingested web_logs.jsonl with 25099 events to ingested_20250824_143055_web_logs.jsonl\n",
      "2025-08-24 14:30:55 - validation - INFO - Validated customers - issues: {'missing_customer_id': np.int64(0), 'duplicate_customer_id': np.int64(0), 'negative_tenure_months': np.int64(0), 'missing_monthly_charges': np.int64(0), 'missing_total_charges': np.int64(0)}\n",
      "2025-08-24 14:30:55 - validation - INFO - Validated transactions - issues: {'missing_transaction_id': np.int64(0), 'duplicate_transaction_id': np.int64(0), 'missing_customer_id': np.int64(0), 'negative_amount': np.int64(0), 'invalid_dates': 0}\n",
      "2025-08-24 14:30:55 - validation - INFO - Validated web_logs - issues: {'invalid_json': 0}\n",
      "2025-08-24 14:30:55 - validation - INFO - Quality report generated at ..\\data\\validated\\20250824\\quality_report_20250824_143055.csv\n",
      "2025-08-24 14:30:56 - preparation - INFO - Prepared dataset saved to ..\\data\\prepared\\customers_prepared.csv with 5000 rows.\n",
      "2025-08-24 14:30:56 - transformation - INFO - Transformed features saved to ..\\data\\transformed\\customer_features.csv with 5000 rows.\n",
      "2025-08-24 14:30:56 - transformation - INFO - Features written to SQLite database table customer_features\n",
      "2025-08-24 14:30:57 - modeling - INFO - Models trained. Metrics saved to ..\\models\\model_metrics.csv\n"
     ]
    },
    {
     "name": "stdout",
     "output_type": "stream",
     "text": [
      "Pipeline executed successfully.\n"
     ]
    }
   ],
   "source": [
    "from scripts.orchestrator import run_pipeline\n",
    "import os\n",
    "from datetime import datetime\n",
    "base_dir = '..'\n",
    "date_partition = datetime.now().strftime('%Y%m%d')\n",
    "run_pipeline(base_dir, date_partition, version='v1')"
   ]
  },
  {
   "cell_type": "code",
   "execution_count": null,
   "id": "95908f79",
   "metadata": {},
   "outputs": [],
   "source": []
  }
 ],
 "metadata": {
  "kernelspec": {
   "display_name": ".venv",
   "language": "python",
   "name": "python3"
  },
  "language_info": {
   "codemirror_mode": {
    "name": "ipython",
    "version": 3
   },
   "file_extension": ".py",
   "mimetype": "text/x-python",
   "name": "python",
   "nbconvert_exporter": "python",
   "pygments_lexer": "ipython3",
   "version": "3.12.0"
  }
 },
 "nbformat": 4,
 "nbformat_minor": 5
}
