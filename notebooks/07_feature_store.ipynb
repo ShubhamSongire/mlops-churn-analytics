{
 "cells": [
  {
   "cell_type": "markdown",
   "id": "83a5c8fc",
   "metadata": {},
   "source": [
    "# 07 – Feature Store"
   ]
  },
  {
   "cell_type": "code",
   "execution_count": 1,
   "id": "35a58eff",
   "metadata": {},
   "outputs": [],
   "source": [
    "import sys\n",
    "import os\n",
    "sys.path.insert(0, os.path.abspath('..'))"
   ]
  },
  {
   "cell_type": "code",
   "execution_count": 2,
   "id": "8b53decf",
   "metadata": {},
   "outputs": [
    {
     "data": {
      "text/html": [
       "<div>\n",
       "<style scoped>\n",
       "    .dataframe tbody tr th:only-of-type {\n",
       "        vertical-align: middle;\n",
       "    }\n",
       "\n",
       "    .dataframe tbody tr th {\n",
       "        vertical-align: top;\n",
       "    }\n",
       "\n",
       "    .dataframe thead th {\n",
       "        text-align: right;\n",
       "    }\n",
       "</style>\n",
       "<table border=\"1\" class=\"dataframe\">\n",
       "  <thead>\n",
       "    <tr style=\"text-align: right;\">\n",
       "      <th>feature_name</th>\n",
       "      <th>customer_id</th>\n",
       "      <th>tenure_months</th>\n",
       "      <th>total_spend</th>\n",
       "    </tr>\n",
       "  </thead>\n",
       "  <tbody>\n",
       "    <tr>\n",
       "      <th>0</th>\n",
       "      <td>C000001</td>\n",
       "      <td>61.0</td>\n",
       "      <td>0.00</td>\n",
       "    </tr>\n",
       "    <tr>\n",
       "      <th>1</th>\n",
       "      <td>C000002</td>\n",
       "      <td>33.0</td>\n",
       "      <td>362.82</td>\n",
       "    </tr>\n",
       "    <tr>\n",
       "      <th>2</th>\n",
       "      <td>C000003</td>\n",
       "      <td>50.0</td>\n",
       "      <td>165.77</td>\n",
       "    </tr>\n",
       "  </tbody>\n",
       "</table>\n",
       "</div>"
      ],
      "text/plain": [
       "feature_name customer_id  tenure_months  total_spend\n",
       "0                C000001           61.0         0.00\n",
       "1                C000002           33.0       362.82\n",
       "2                C000003           50.0       165.77"
      ]
     },
     "execution_count": 2,
     "metadata": {},
     "output_type": "execute_result"
    }
   ],
   "source": [
    "from scripts.feature_store import register_features, write_feature_values, get_feature_values\n",
    "import os\n",
    "import pandas as pd\n",
    "# Paths\n",
    "features_path = os.path.join('..', 'data', 'transformed', 'customer_features.csv')\n",
    "db_path = os.path.join('..', 'feature_store', 'feature_store.sqlite')\n",
    "version = 'v1'\n",
    "\n",
    "features_df = pd.read_csv(features_path)\n",
    "register_features(features_df, db_path, version=version)\n",
    "write_feature_values(features_df, db_path, version=version)\n",
    "\n",
    "# Query example\n",
    "sample_customers = features_df['customer_id'].head(3).tolist()\n",
    "feature_names = ['total_spend', 'tenure_months']\n",
    "result = get_feature_values(sample_customers, feature_names, db_path, version)\n",
    "result"
   ]
  }
 ],
 "metadata": {
  "kernelspec": {
   "display_name": ".venv",
   "language": "python",
   "name": "python3"
  },
  "language_info": {
   "codemirror_mode": {
    "name": "ipython",
    "version": 3
   },
   "file_extension": ".py",
   "mimetype": "text/x-python",
   "name": "python",
   "nbconvert_exporter": "python",
   "pygments_lexer": "ipython3",
   "version": "3.12.0"
  }
 },
 "nbformat": 4,
 "nbformat_minor": 5
}
