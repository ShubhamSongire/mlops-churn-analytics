{
 "cells": [
  {
   "cell_type": "markdown",
   "id": "fd7168cd",
   "metadata": {},
   "source": [
    "# 08 – Data Versioning"
   ]
  },
  {
   "cell_type": "code",
   "execution_count": 1,
   "id": "50b29ec9",
   "metadata": {},
   "outputs": [],
   "source": [
    "import sys\n",
    "import os\n",
    "sys.path.insert(0, os.path.abspath('..'))"
   ]
  },
  {
   "cell_type": "code",
   "execution_count": 2,
   "id": "fd5f2658",
   "metadata": {},
   "outputs": [
    {
     "data": {
      "text/plain": [
       "[{'file': 'c:\\\\Users\\\\SBS05\\\\Downloads\\\\dm4ml_churn_pipeline_1\\\\data\\\\raw\\\\ingested_20250824_142727_customers.csv',\n",
       "  'md5': '50631d9f044a2dcc0bd5c05119e250a5',\n",
       "  'timestamp': '2025-08-24T14:30:29.855946'},\n",
       " {'file': 'c:\\\\Users\\\\SBS05\\\\Downloads\\\\dm4ml_churn_pipeline_1\\\\data\\\\raw\\\\ingested_20250824_142727_telco_train.csv',\n",
       "  'md5': '96efc1131e9ffd25003c7dd56e037201',\n",
       "  'timestamp': '2025-08-24T14:30:29.858976'},\n",
       " {'file': 'c:\\\\Users\\\\SBS05\\\\Downloads\\\\dm4ml_churn_pipeline_1\\\\data\\\\raw\\\\ingested_20250824_142727_transactions.csv',\n",
       "  'md5': 'a2fb4ee007419326ec8c3971d611a967',\n",
       "  'timestamp': '2025-08-24T14:30:29.859488'},\n",
       " {'file': 'c:\\\\Users\\\\SBS05\\\\Downloads\\\\dm4ml_churn_pipeline_1\\\\data\\\\raw\\\\ingested_20250824_142727_web_logs.jsonl',\n",
       "  'md5': 'be6f792a4a191555e41ca0f12260cba6',\n",
       "  'timestamp': '2025-08-24T14:30:29.859488'},\n",
       " {'file': 'c:\\\\Users\\\\SBS05\\\\Downloads\\\\dm4ml_churn_pipeline_1\\\\data\\\\transformed\\\\customer_features.csv',\n",
       "  'md5': 'e3e5bf912d708929d8ab050846ff5447',\n",
       "  'timestamp': '2025-08-24T14:30:29.865320'}]"
      ]
     },
     "execution_count": 2,
     "metadata": {},
     "output_type": "execute_result"
    }
   ],
   "source": [
    "from scripts.versioning import record_versions\n",
    "import os\n",
    "import json\n",
    "# Files to version\n",
    "files = []\n",
    "raw_root = os.path.join('..', 'data', 'raw')\n",
    "for fname in os.listdir(raw_root):\n",
    "    if fname.startswith('ingested'):\n",
    "        files.append(os.path.join(raw_root, fname))\n",
    "files.append(os.path.join('..', 'data', 'transformed', 'customer_features.csv'))\n",
    "versions_path = os.path.join('..', 'data', 'versions.json')\n",
    "record_versions(files, versions_path)\n",
    "with open(versions_path) as f:\n",
    "    versions = json.load(f)\n",
    "versions[-5:]  # Show last few records"
   ]
  }
 ],
 "metadata": {
  "kernelspec": {
   "display_name": ".venv",
   "language": "python",
   "name": "python3"
  },
  "language_info": {
   "codemirror_mode": {
    "name": "ipython",
    "version": 3
   },
   "file_extension": ".py",
   "mimetype": "text/x-python",
   "name": "python",
   "nbconvert_exporter": "python",
   "pygments_lexer": "ipython3",
   "version": "3.12.0"
  }
 },
 "nbformat": 4,
 "nbformat_minor": 5
}
